{
 "cells": [
  {
   "cell_type": "code",
   "execution_count": 1,
   "metadata": {},
   "outputs": [],
   "source": [
    "import pandas as pd\n",
    "import numpy as np\n",
    "\n",
    "def summary(x): #save your file to a variable.  If your file is in a different folder than your script, you need to save the\n",
    "    #entier path to the file.  x = varible for file name or path and file name\n",
    "    gas = pd.read_csv(x) #reading contents of file into a data frame\n",
    "    gas.rename(columns={\"block_number\": \"Block_num\", \"gas_price\": \"Gas_price\", \"receipt_gas_used\" : \"Gas_amt\",\\\n",
    "                        \"block_timestamp\" : \"Day_Time\"},inplace = True) #changing\n",
    "                                                                                                        #col names\n",
    "    gas['Gas_price'] = gas['Gas_price']/1000000000 #putting gas in easier to read form\n",
    "    gas1 = gas.groupby(['Block_num', 'Day_Time']) #grouping by block number\n",
    "    total_fee = gas['Gas_price']*gas['Gas_amt'] #Total transaction fee gas price times gas amount\n",
    "    gas['Total_fee'] = total_fee  #adding total fee to the dataframe\n",
    "    \n",
    "    #creating summaries by block.\n",
    "    gas_mean = gas1.Gas_price.mean()  #gas price mean by block\n",
    "    gas_median = gas1.Gas_price.median() #gas price median by block\n",
    "    gasmin = gas1.Gas_price.min() #gas price min by block\n",
    "    gasmax = gas1.Gas_price.max() #gas price max by block\n",
    "    tmin = gas1.Total_fee.min() #gas total fee min by block\n",
    "    tmax = gas1.Total_fee.max() #gas total fee max by block\n",
    "    tmed = gas1.Total_fee.median() #gas total fee median by block\n",
    "    tmean = gas1.Total_fee.mean() #gas total fee mean by block\n",
    "    tsum = gas1.Total_fee.sum() # total transactions fees by block\n",
    "    blockcount = gas1.Block_num.count() #number of transactions in the block\n",
    "    gassummary = pd.DataFrame({'Gas_mean' : gas_mean, 'Gas_median': gas_median, 'Gas_min': gasmin, 'Gas_max': gasmax,\n",
    "                          'Transfee_min': tmin, 'Transfee_max': tmax, 'Transfee_median': tmed, 'Transfee_mean': tmean,\n",
    "                          'Transfee_Total': tsum, 'Count_perBlock': blockcount})\n",
    "    gassummary.reset_index(inplace = True)\n",
    "    gassummary.set_index('Block_num', inplace = True)\n",
    "    return(gassummary)\n",
    "\n",
    "    "
   ]
  },
  {
   "cell_type": "code",
   "execution_count": 2,
   "metadata": {},
   "outputs": [],
   "source": [
    "jan = 'C:\\\\Users\\\\Sara\\\\Documents\\Eth_python.csv'\n",
    "summary_15 = summary(jan)  #example of running script"
   ]
  },
  {
   "cell_type": "code",
   "execution_count": 71,
   "metadata": {
    "scrolled": true
   },
   "outputs": [
    {
     "data": {
      "text/html": [
       "<div>\n",
       "<style scoped>\n",
       "    .dataframe tbody tr th:only-of-type {\n",
       "        vertical-align: middle;\n",
       "    }\n",
       "\n",
       "    .dataframe tbody tr th {\n",
       "        vertical-align: top;\n",
       "    }\n",
       "\n",
       "    .dataframe thead th {\n",
       "        text-align: right;\n",
       "    }\n",
       "</style>\n",
       "<table border=\"1\" class=\"dataframe\">\n",
       "  <thead>\n",
       "    <tr style=\"text-align: right;\">\n",
       "      <th></th>\n",
       "      <th>Day_Time</th>\n",
       "      <th>Gas_mean</th>\n",
       "      <th>Gas_median</th>\n",
       "      <th>Gas_min</th>\n",
       "      <th>Gas_max</th>\n",
       "      <th>Transfee_min</th>\n",
       "      <th>Transfee_max</th>\n",
       "      <th>Transfee_median</th>\n",
       "      <th>Transfee_mean</th>\n",
       "      <th>Transfee_Total</th>\n",
       "      <th>Count_perBlock</th>\n",
       "    </tr>\n",
       "    <tr>\n",
       "      <th>Block_num</th>\n",
       "      <th></th>\n",
       "      <th></th>\n",
       "      <th></th>\n",
       "      <th></th>\n",
       "      <th></th>\n",
       "      <th></th>\n",
       "      <th></th>\n",
       "      <th></th>\n",
       "      <th></th>\n",
       "      <th></th>\n",
       "      <th></th>\n",
       "    </tr>\n",
       "  </thead>\n",
       "  <tbody>\n",
       "    <tr>\n",
       "      <th>11565019</th>\n",
       "      <td>2021-01-01 00:00:00 UTC</td>\n",
       "      <td>52.009455</td>\n",
       "      <td>50.000000</td>\n",
       "      <td>3.800000e+01</td>\n",
       "      <td>300.000000</td>\n",
       "      <td>7.277000e+05</td>\n",
       "      <td>6.029340e+07</td>\n",
       "      <td>2.582925e+06</td>\n",
       "      <td>5.291047e+06</td>\n",
       "      <td>6.878361e+08</td>\n",
       "      <td>130</td>\n",
       "    </tr>\n",
       "    <tr>\n",
       "      <th>11565020</th>\n",
       "      <td>2021-01-01 00:00:01 UTC</td>\n",
       "      <td>143.364822</td>\n",
       "      <td>55.000000</td>\n",
       "      <td>3.800000e+01</td>\n",
       "      <td>4614.300000</td>\n",
       "      <td>7.980000e+05</td>\n",
       "      <td>1.309118e+09</td>\n",
       "      <td>2.400850e+06</td>\n",
       "      <td>2.261913e+07</td>\n",
       "      <td>2.555961e+09</td>\n",
       "      <td>113</td>\n",
       "    </tr>\n",
       "    <tr>\n",
       "      <th>11565021</th>\n",
       "      <td>2021-01-01 00:00:08 UTC</td>\n",
       "      <td>69.378835</td>\n",
       "      <td>57.000000</td>\n",
       "      <td>5.060000e+01</td>\n",
       "      <td>1000.000000</td>\n",
       "      <td>1.062600e+06</td>\n",
       "      <td>3.502890e+08</td>\n",
       "      <td>2.497984e+06</td>\n",
       "      <td>6.204314e+06</td>\n",
       "      <td>1.110572e+09</td>\n",
       "      <td>179</td>\n",
       "    </tr>\n",
       "    <tr>\n",
       "      <th>11565022</th>\n",
       "      <td>2021-01-01 00:00:22 UTC</td>\n",
       "      <td>53.684122</td>\n",
       "      <td>47.000000</td>\n",
       "      <td>3.800000e+01</td>\n",
       "      <td>181.687097</td>\n",
       "      <td>7.980000e+05</td>\n",
       "      <td>5.065400e+07</td>\n",
       "      <td>2.252650e+06</td>\n",
       "      <td>4.527745e+06</td>\n",
       "      <td>6.384120e+08</td>\n",
       "      <td>141</td>\n",
       "    </tr>\n",
       "    <tr>\n",
       "      <th>11565023</th>\n",
       "      <td>2021-01-01 00:00:25 UTC</td>\n",
       "      <td>64.487667</td>\n",
       "      <td>57.000000</td>\n",
       "      <td>4.500000e+01</td>\n",
       "      <td>528.000000</td>\n",
       "      <td>9.450000e+05</td>\n",
       "      <td>2.729175e+07</td>\n",
       "      <td>2.520000e+06</td>\n",
       "      <td>4.466505e+06</td>\n",
       "      <td>7.459064e+08</td>\n",
       "      <td>167</td>\n",
       "    </tr>\n",
       "    <tr>\n",
       "      <th>...</th>\n",
       "      <td>...</td>\n",
       "      <td>...</td>\n",
       "      <td>...</td>\n",
       "      <td>...</td>\n",
       "      <td>...</td>\n",
       "      <td>...</td>\n",
       "      <td>...</td>\n",
       "      <td>...</td>\n",
       "      <td>...</td>\n",
       "      <td>...</td>\n",
       "      <td>...</td>\n",
       "    </tr>\n",
       "    <tr>\n",
       "      <th>11571559</th>\n",
       "      <td>2021-01-01 23:58:49 UTC</td>\n",
       "      <td>51.688011</td>\n",
       "      <td>42.350000</td>\n",
       "      <td>4.200000e+01</td>\n",
       "      <td>166.551005</td>\n",
       "      <td>8.820000e+05</td>\n",
       "      <td>4.262309e+07</td>\n",
       "      <td>2.585062e+06</td>\n",
       "      <td>4.347639e+06</td>\n",
       "      <td>6.130171e+08</td>\n",
       "      <td>141</td>\n",
       "    </tr>\n",
       "    <tr>\n",
       "      <th>11571560</th>\n",
       "      <td>2021-01-01 23:58:54 UTC</td>\n",
       "      <td>94.299016</td>\n",
       "      <td>63.000000</td>\n",
       "      <td>5.720000e+01</td>\n",
       "      <td>2237.715503</td>\n",
       "      <td>1.201200e+06</td>\n",
       "      <td>2.182735e+08</td>\n",
       "      <td>1.679733e+06</td>\n",
       "      <td>6.244412e+06</td>\n",
       "      <td>1.180194e+09</td>\n",
       "      <td>189</td>\n",
       "    </tr>\n",
       "    <tr>\n",
       "      <th>11571561</th>\n",
       "      <td>2021-01-01 23:59:26 UTC</td>\n",
       "      <td>66.944415</td>\n",
       "      <td>55.013202</td>\n",
       "      <td>3.010000e+01</td>\n",
       "      <td>1450.000000</td>\n",
       "      <td>6.321000e+05</td>\n",
       "      <td>1.718598e+08</td>\n",
       "      <td>1.218000e+06</td>\n",
       "      <td>4.301175e+06</td>\n",
       "      <td>1.062390e+09</td>\n",
       "      <td>247</td>\n",
       "    </tr>\n",
       "    <tr>\n",
       "      <th>11571562</th>\n",
       "      <td>2021-01-01 23:59:37 UTC</td>\n",
       "      <td>77.972770</td>\n",
       "      <td>61.497152</td>\n",
       "      <td>5.000000e+01</td>\n",
       "      <td>1676.651932</td>\n",
       "      <td>1.050000e+06</td>\n",
       "      <td>4.872351e+07</td>\n",
       "      <td>2.259674e+06</td>\n",
       "      <td>5.890315e+06</td>\n",
       "      <td>8.835473e+08</td>\n",
       "      <td>150</td>\n",
       "    </tr>\n",
       "    <tr>\n",
       "      <th>11571563</th>\n",
       "      <td>2021-01-01 23:59:44 UTC</td>\n",
       "      <td>86.327884</td>\n",
       "      <td>63.000000</td>\n",
       "      <td>2.000000e-09</td>\n",
       "      <td>2463.724769</td>\n",
       "      <td>7.472800e-05</td>\n",
       "      <td>2.141987e+08</td>\n",
       "      <td>2.108816e+06</td>\n",
       "      <td>4.748916e+06</td>\n",
       "      <td>1.130242e+09</td>\n",
       "      <td>238</td>\n",
       "    </tr>\n",
       "  </tbody>\n",
       "</table>\n",
       "<p>6423 rows × 11 columns</p>\n",
       "</div>"
      ],
      "text/plain": [
       "                          Day_Time    Gas_mean  Gas_median       Gas_min  \\\n",
       "Block_num                                                                  \n",
       "11565019   2021-01-01 00:00:00 UTC   52.009455   50.000000  3.800000e+01   \n",
       "11565020   2021-01-01 00:00:01 UTC  143.364822   55.000000  3.800000e+01   \n",
       "11565021   2021-01-01 00:00:08 UTC   69.378835   57.000000  5.060000e+01   \n",
       "11565022   2021-01-01 00:00:22 UTC   53.684122   47.000000  3.800000e+01   \n",
       "11565023   2021-01-01 00:00:25 UTC   64.487667   57.000000  4.500000e+01   \n",
       "...                            ...         ...         ...           ...   \n",
       "11571559   2021-01-01 23:58:49 UTC   51.688011   42.350000  4.200000e+01   \n",
       "11571560   2021-01-01 23:58:54 UTC   94.299016   63.000000  5.720000e+01   \n",
       "11571561   2021-01-01 23:59:26 UTC   66.944415   55.013202  3.010000e+01   \n",
       "11571562   2021-01-01 23:59:37 UTC   77.972770   61.497152  5.000000e+01   \n",
       "11571563   2021-01-01 23:59:44 UTC   86.327884   63.000000  2.000000e-09   \n",
       "\n",
       "               Gas_max  Transfee_min  Transfee_max  Transfee_median  \\\n",
       "Block_num                                                             \n",
       "11565019    300.000000  7.277000e+05  6.029340e+07     2.582925e+06   \n",
       "11565020   4614.300000  7.980000e+05  1.309118e+09     2.400850e+06   \n",
       "11565021   1000.000000  1.062600e+06  3.502890e+08     2.497984e+06   \n",
       "11565022    181.687097  7.980000e+05  5.065400e+07     2.252650e+06   \n",
       "11565023    528.000000  9.450000e+05  2.729175e+07     2.520000e+06   \n",
       "...                ...           ...           ...              ...   \n",
       "11571559    166.551005  8.820000e+05  4.262309e+07     2.585062e+06   \n",
       "11571560   2237.715503  1.201200e+06  2.182735e+08     1.679733e+06   \n",
       "11571561   1450.000000  6.321000e+05  1.718598e+08     1.218000e+06   \n",
       "11571562   1676.651932  1.050000e+06  4.872351e+07     2.259674e+06   \n",
       "11571563   2463.724769  7.472800e-05  2.141987e+08     2.108816e+06   \n",
       "\n",
       "           Transfee_mean  Transfee_Total  Count_perBlock  \n",
       "Block_num                                                 \n",
       "11565019    5.291047e+06    6.878361e+08             130  \n",
       "11565020    2.261913e+07    2.555961e+09             113  \n",
       "11565021    6.204314e+06    1.110572e+09             179  \n",
       "11565022    4.527745e+06    6.384120e+08             141  \n",
       "11565023    4.466505e+06    7.459064e+08             167  \n",
       "...                  ...             ...             ...  \n",
       "11571559    4.347639e+06    6.130171e+08             141  \n",
       "11571560    6.244412e+06    1.180194e+09             189  \n",
       "11571561    4.301175e+06    1.062390e+09             247  \n",
       "11571562    5.890315e+06    8.835473e+08             150  \n",
       "11571563    4.748916e+06    1.130242e+09             238  \n",
       "\n",
       "[6423 rows x 11 columns]"
      ]
     },
     "execution_count": 71,
     "metadata": {},
     "output_type": "execute_result"
    }
   ],
   "source": [
    "#summary_15[(summary_15['Day_Time'].str.contains('2021-01-01'))]  example of searching by day"
   ]
  },
  {
   "cell_type": "code",
   "execution_count": 3,
   "metadata": {},
   "outputs": [],
   "source": [
    "jan2 = 'C:\\\\Users\\\\Sara\\\\Documents\\Jan16_31.csv'\n",
    "summary_31 = summary(jan2)"
   ]
  },
  {
   "cell_type": "code",
   "execution_count": 4,
   "metadata": {},
   "outputs": [],
   "source": [
    "january_summary = summary_15.append(summary_31)"
   ]
  },
  {
   "cell_type": "code",
   "execution_count": 5,
   "metadata": {},
   "outputs": [],
   "source": [
    "jant1 = pd.read_csv('C:\\\\Users\\\\Sara\\\\Documents\\Jan01_15.csv')"
   ]
  },
  {
   "cell_type": "code",
   "execution_count": 6,
   "metadata": {},
   "outputs": [],
   "source": [
    "jant2 = pd.read_csv('C:\\\\Users\\\\Sara\\\\Documents\\Jan16_31.csv')"
   ]
  },
  {
   "cell_type": "code",
   "execution_count": 29,
   "metadata": {},
   "outputs": [],
   "source": [
    "january = jant1.append(jant2)"
   ]
  },
  {
   "cell_type": "code",
   "execution_count": 27,
   "metadata": {},
   "outputs": [],
   "source": [
    "def transformation(x):\n",
    "    gas = x\n",
    "    gas.rename(columns={\"block_number\": \"Block_num\", \"gas_price\": \"Gas_price\", \"receipt_gas_used\" : \"Gas_amt\",\\\n",
    "                        \"block_timestamp\" : \"Day_Time\"}, inplace = True) #changing\n",
    "                                                                                                       \n",
    "    #gas['Gas_price'] = gas['Gas_price']/1000000000 #putting gas in easier to read form\n",
    "    #total_fee = gas['Gas_price']*gas['Gas_amt'] #Total transaction fee gas price times gas amount\n",
    "    #gas['Total_fee'] = total_fee  #adding total fee to the dataframe\n",
    "    return(gas)\n",
    "    "
   ]
  },
  {
   "cell_type": "code",
   "execution_count": 31,
   "metadata": {},
   "outputs": [],
   "source": [
    "jt = transformation(january)"
   ]
  },
  {
   "cell_type": "code",
   "execution_count": 91,
   "metadata": {},
   "outputs": [],
   "source": [
    "#jt.reset_index(inplace = True)\n",
    "jt.set_index(['Block_num'], inplace = True)"
   ]
  },
  {
   "cell_type": "code",
   "execution_count": 95,
   "metadata": {},
   "outputs": [],
   "source": [
    "zerogas = jt[(jt['Gas_price'] == 0)]"
   ]
  },
  {
   "cell_type": "code",
   "execution_count": 111,
   "metadata": {},
   "outputs": [],
   "source": [
    "ind = zero.count()"
   ]
  },
  {
   "cell_type": "code",
   "execution_count": 115,
   "metadata": {},
   "outputs": [],
   "source": [
    "indexnum = ind[(ind['Gas_price'] > 1)].index"
   ]
  },
  {
   "cell_type": "code",
   "execution_count": 122,
   "metadata": {},
   "outputs": [
    {
     "data": {
      "text/plain": [
       "Int64Index([11565668, 11567138, 11572167, 11573756, 11573855, 11578707,\n",
       "            11580171, 11585299, 11585362, 11586692,\n",
       "            ...\n",
       "            11760968, 11761108, 11762247, 11762465, 11762883, 11763926,\n",
       "            11764577, 11766155, 11766281, 11766597],\n",
       "           dtype='int64', name='Block_num', length=327)"
      ]
     },
     "execution_count": 122,
     "metadata": {},
     "output_type": "execute_result"
    }
   ],
   "source": [
    "indexnum"
   ]
  },
  {
   "cell_type": "code",
   "execution_count": 128,
   "metadata": {},
   "outputs": [
    {
     "data": {
      "text/html": [
       "<div>\n",
       "<style scoped>\n",
       "    .dataframe tbody tr th:only-of-type {\n",
       "        vertical-align: middle;\n",
       "    }\n",
       "\n",
       "    .dataframe tbody tr th {\n",
       "        vertical-align: top;\n",
       "    }\n",
       "\n",
       "    .dataframe thead th {\n",
       "        text-align: right;\n",
       "    }\n",
       "</style>\n",
       "<table border=\"1\" class=\"dataframe\">\n",
       "  <thead>\n",
       "    <tr style=\"text-align: right;\">\n",
       "      <th></th>\n",
       "      <th>Gas_price</th>\n",
       "    </tr>\n",
       "    <tr>\n",
       "      <th>Block_num</th>\n",
       "      <th></th>\n",
       "    </tr>\n",
       "  </thead>\n",
       "  <tbody>\n",
       "    <tr>\n",
       "      <th>11565668</th>\n",
       "      <td>53</td>\n",
       "    </tr>\n",
       "    <tr>\n",
       "      <th>11567138</th>\n",
       "      <td>24</td>\n",
       "    </tr>\n",
       "    <tr>\n",
       "      <th>11572167</th>\n",
       "      <td>55</td>\n",
       "    </tr>\n",
       "    <tr>\n",
       "      <th>11573756</th>\n",
       "      <td>25</td>\n",
       "    </tr>\n",
       "    <tr>\n",
       "      <th>11578707</th>\n",
       "      <td>56</td>\n",
       "    </tr>\n",
       "    <tr>\n",
       "      <th>...</th>\n",
       "      <td>...</td>\n",
       "    </tr>\n",
       "    <tr>\n",
       "      <th>11749513</th>\n",
       "      <td>40</td>\n",
       "    </tr>\n",
       "    <tr>\n",
       "      <th>11754524</th>\n",
       "      <td>61</td>\n",
       "    </tr>\n",
       "    <tr>\n",
       "      <th>11755268</th>\n",
       "      <td>25</td>\n",
       "    </tr>\n",
       "    <tr>\n",
       "      <th>11760968</th>\n",
       "      <td>64</td>\n",
       "    </tr>\n",
       "    <tr>\n",
       "      <th>11762465</th>\n",
       "      <td>25</td>\n",
       "    </tr>\n",
       "  </tbody>\n",
       "</table>\n",
       "<p>160 rows × 1 columns</p>\n",
       "</div>"
      ],
      "text/plain": [
       "           Gas_price\n",
       "Block_num           \n",
       "11565668          53\n",
       "11567138          24\n",
       "11572167          55\n",
       "11573756          25\n",
       "11578707          56\n",
       "...              ...\n",
       "11749513          40\n",
       "11754524          61\n",
       "11755268          25\n",
       "11760968          64\n",
       "11762465          25\n",
       "\n",
       "[160 rows x 1 columns]"
      ]
     },
     "execution_count": 128,
     "metadata": {},
     "output_type": "execute_result"
    }
   ],
   "source": [
    "ind[(ind['Gas_price'] > 20)]"
   ]
  },
  {
   "cell_type": "code",
   "execution_count": 130,
   "metadata": {},
   "outputs": [
    {
     "data": {
      "text/plain": [
       "'The median max price is 250.0, the max max price is 852470.32095238 the minimum max price is 0.001692193'"
      ]
     },
     "execution_count": 130,
     "metadata": {},
     "output_type": "execute_result"
    }
   ],
   "source": [
    "f\"The median max price is {january_summary.Gas_max.median()}, the max max price is {january_summary.Gas_max.max()}\\\n",
    " the minimum max price is {january_summary.Gas_max.min()}\""
   ]
  },
  {
   "cell_type": "code",
   "execution_count": 133,
   "metadata": {},
   "outputs": [],
   "source": [
    "import matplotlib.pyplot as plt"
   ]
  },
  {
   "cell_type": "code",
   "execution_count": 149,
   "metadata": {},
   "outputs": [
    {
     "data": {
      "text/plain": [
       "Block_num\n",
       "11565019     300.000000\n",
       "11565020    1282.500000\n",
       "11565020    1124.000000\n",
       "11565020    1686.000000\n",
       "11565020     256.500000\n",
       "               ...     \n",
       "11766936     264.209530\n",
       "11766936    1449.329033\n",
       "11766936     400.000000\n",
       "11766936     725.710768\n",
       "11766938     271.687518\n",
       "Name: Gas_price, Length: 1956009, dtype: float64"
      ]
     },
     "execution_count": 149,
     "metadata": {},
     "output_type": "execute_result"
    }
   ],
   "source": [
    "jt[(jt.Gas_price >= 250)]['Gas_price']"
   ]
  },
  {
   "cell_type": "code",
   "execution_count": 163,
   "metadata": {},
   "outputs": [
    {
     "data": {
      "text/plain": [
       "Day_Time           6908\n",
       "Gas_mean           6908\n",
       "Gas_median         6908\n",
       "Gas_min            6908\n",
       "Gas_max            6908\n",
       "Transfee_min       6908\n",
       "Transfee_max       6908\n",
       "Transfee_median    6908\n",
       "Transfee_mean      6908\n",
       "Transfee_Total     6908\n",
       "Count_perBlock     6908\n",
       "dtype: int64"
      ]
     },
     "execution_count": 163,
     "metadata": {},
     "output_type": "execute_result"
    }
   ],
   "source": [
    "january_summary[(january_summary['Gas_median'] >=250)].count()"
   ]
  },
  {
   "cell_type": "code",
   "execution_count": 170,
   "metadata": {},
   "outputs": [
    {
     "data": {
      "text/html": [
       "<div>\n",
       "<style scoped>\n",
       "    .dataframe tbody tr th:only-of-type {\n",
       "        vertical-align: middle;\n",
       "    }\n",
       "\n",
       "    .dataframe tbody tr th {\n",
       "        vertical-align: top;\n",
       "    }\n",
       "\n",
       "    .dataframe thead th {\n",
       "        text-align: right;\n",
       "    }\n",
       "</style>\n",
       "<table border=\"1\" class=\"dataframe\">\n",
       "  <thead>\n",
       "    <tr style=\"text-align: right;\">\n",
       "      <th></th>\n",
       "      <th>Day_Time</th>\n",
       "      <th>Gas_amt</th>\n",
       "      <th>Gas_price</th>\n",
       "    </tr>\n",
       "    <tr>\n",
       "      <th>Block_num</th>\n",
       "      <th></th>\n",
       "      <th></th>\n",
       "      <th></th>\n",
       "    </tr>\n",
       "  </thead>\n",
       "  <tbody>\n",
       "    <tr>\n",
       "      <th>11565019</th>\n",
       "      <td>2021-01-01 00:00:00 UTC</td>\n",
       "      <td>200978</td>\n",
       "      <td>300.000000</td>\n",
       "    </tr>\n",
       "    <tr>\n",
       "      <th>11565020</th>\n",
       "      <td>2021-01-01 00:00:01 UTC</td>\n",
       "      <td>21055</td>\n",
       "      <td>1282.500000</td>\n",
       "    </tr>\n",
       "    <tr>\n",
       "      <th>11565020</th>\n",
       "      <td>2021-01-01 00:00:01 UTC</td>\n",
       "      <td>259156</td>\n",
       "      <td>1124.000000</td>\n",
       "    </tr>\n",
       "    <tr>\n",
       "      <th>11565020</th>\n",
       "      <td>2021-01-01 00:00:01 UTC</td>\n",
       "      <td>26618</td>\n",
       "      <td>1686.000000</td>\n",
       "    </tr>\n",
       "    <tr>\n",
       "      <th>11565020</th>\n",
       "      <td>2021-01-01 00:00:01 UTC</td>\n",
       "      <td>21055</td>\n",
       "      <td>256.500000</td>\n",
       "    </tr>\n",
       "    <tr>\n",
       "      <th>...</th>\n",
       "      <td>...</td>\n",
       "      <td>...</td>\n",
       "      <td>...</td>\n",
       "    </tr>\n",
       "    <tr>\n",
       "      <th>11766936</th>\n",
       "      <td>2021-01-31 23:59:20 UTC</td>\n",
       "      <td>21000</td>\n",
       "      <td>264.209530</td>\n",
       "    </tr>\n",
       "    <tr>\n",
       "      <th>11766936</th>\n",
       "      <td>2021-01-31 23:59:20 UTC</td>\n",
       "      <td>21000</td>\n",
       "      <td>1449.329033</td>\n",
       "    </tr>\n",
       "    <tr>\n",
       "      <th>11766936</th>\n",
       "      <td>2021-01-31 23:59:20 UTC</td>\n",
       "      <td>128260</td>\n",
       "      <td>400.000000</td>\n",
       "    </tr>\n",
       "    <tr>\n",
       "      <th>11766936</th>\n",
       "      <td>2021-01-31 23:59:20 UTC</td>\n",
       "      <td>74926</td>\n",
       "      <td>725.710768</td>\n",
       "    </tr>\n",
       "    <tr>\n",
       "      <th>11766938</th>\n",
       "      <td>2021-01-31 23:59:55 UTC</td>\n",
       "      <td>42456</td>\n",
       "      <td>271.687518</td>\n",
       "    </tr>\n",
       "  </tbody>\n",
       "</table>\n",
       "<p>1956009 rows × 3 columns</p>\n",
       "</div>"
      ],
      "text/plain": [
       "                          Day_Time  Gas_amt    Gas_price\n",
       "Block_num                                               \n",
       "11565019   2021-01-01 00:00:00 UTC   200978   300.000000\n",
       "11565020   2021-01-01 00:00:01 UTC    21055  1282.500000\n",
       "11565020   2021-01-01 00:00:01 UTC   259156  1124.000000\n",
       "11565020   2021-01-01 00:00:01 UTC    26618  1686.000000\n",
       "11565020   2021-01-01 00:00:01 UTC    21055   256.500000\n",
       "...                            ...      ...          ...\n",
       "11766936   2021-01-31 23:59:20 UTC    21000   264.209530\n",
       "11766936   2021-01-31 23:59:20 UTC    21000  1449.329033\n",
       "11766936   2021-01-31 23:59:20 UTC   128260   400.000000\n",
       "11766936   2021-01-31 23:59:20 UTC    74926   725.710768\n",
       "11766938   2021-01-31 23:59:55 UTC    42456   271.687518\n",
       "\n",
       "[1956009 rows x 3 columns]"
      ]
     },
     "execution_count": 170,
     "metadata": {},
     "output_type": "execute_result"
    }
   ],
   "source": [
    "jt[(jt['Gas_price'] >= 250)]"
   ]
  },
  {
   "cell_type": "code",
   "execution_count": 171,
   "metadata": {},
   "outputs": [
    {
     "data": {
      "text/plain": [
       "0.05217309405909365"
      ]
     },
     "execution_count": 171,
     "metadata": {},
     "output_type": "execute_result"
    }
   ],
   "source": [
    "1956009/len(jt.Gas_price)"
   ]
  }
 ],
 "metadata": {
  "kernelspec": {
   "display_name": "Python 3",
   "language": "python",
   "name": "python3"
  },
  "language_info": {
   "codemirror_mode": {
    "name": "ipython",
    "version": 3
   },
   "file_extension": ".py",
   "mimetype": "text/x-python",
   "name": "python",
   "nbconvert_exporter": "python",
   "pygments_lexer": "ipython3",
   "version": "3.8.5"
  }
 },
 "nbformat": 4,
 "nbformat_minor": 4
}
