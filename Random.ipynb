{
 "cells": [
  {
   "cell_type": "code",
   "execution_count": null,
   "metadata": {},
   "outputs": [],
   "source": [
    "import datetime\n",
    "import io\n",
    "import pandas as pd\n",
    "import numpy as np\n",
    "# year = the year for data, please enter in a number, no need to enter in a string\n",
    "# month = the number of the month, enter in an integer not a string\n",
    "# start = the starting day for the period of time date stamp, again enter in an integer no leading zeros\n",
    "# end = the last day for the period of time date stamp, again enter in an integer no leading zeros\n",
    "#df = the variable to which you have saved your dataframe\n",
    "def newrandom(year, month, start, end, df): \n",
    "    df.sort_values(by = ['block_timestamp'], inplace = True) #sorting the time and date\n",
    "    hours = [] #empty list to create the 24 hour period\n",
    "    selection = [] #empty list which to add transaction hash\n",
    "    for i in range(0,10): #hours 0-9\n",
    "        a = '0'\n",
    "        b = str(i)\n",
    "        c = \":\"\n",
    "        hours.append(a+b+c) #putting into form similar to'00:', '01:'\n",
    "    for i in range(10,25): #hours 10-24\n",
    "        b = str(i) \n",
    "        c = \":\"\n",
    "        hours.append(b+c) #putting into form similar to '10:', '11:'\n",
    "    df.set_index(['block_timestamp'], inplace = True) #setting the block timestamp as index\n",
    "    df.index = pd.to_datetime(df.index) #converting to time date \n",
    "    year = str(year)+ \"-\" #creating year string in form like '2021-', '2020-',\n",
    "    month = str(month) # changing month into string\n",
    "    end = end+1 #adding 1 to the end date because range does not include last number\n",
    "    if len(month) == 1: \n",
    "        month = '0' + month +\"-\" #putting month in form similar to '01-', '02-' if single digit month\n",
    "    else:\n",
    "        month = month + \"-\" #putting month in form similar to '10-', '11-' if double digit month\n",
    "    \n",
    "    for j in range(start,end): #going through each day in range\n",
    "        day = str(j)\n",
    "        if len(day) == 1:\n",
    "            day = '0' + day + \" \"  #putting day in form similar to '01 ' , '02 ' if single digit\n",
    "        else:\n",
    "            day = day + \" \" #putting day in form similar to '11 ' , '12 ' if double digit\n",
    "        for k in range(0,24):  #going through each hour\n",
    "            date1 = year + month + day + hours[k] + '00:00+00:00' #starting index date similar to form '2021-01-10 00:00+00'\n",
    "            date2 = year + month + day + hours[k] + '00:59+00:00' #end index date similar to form '2021-01-10 00:59+00'\n",
    "            timerange = df[date1 : date2] #creating a slice of dataframe that is one hour in length\n",
    "            gen = len(timerange) - 1 #the number of transactions in the hour - 1 since indexing starts at 0, and random includes high number\n",
    "            if gen > 0:\n",
    "                ran = np.random.randint(0,gen) #randomly selecting one number from the total number of transactions in the hour\n",
    "                selection.append(timerange.iloc[ran][0]) #using the number as python index to selection the randomly selected hash\n",
    "    df.reset_index(inplace = True) #resetting index\n",
    "    return(selection) #return transaction hashes for scraping"
   ]
  },
  {
   "cell_type": "code",
   "execution_count": null,
   "metadata": {},
   "outputs": [],
   "source": [
    "jan = \"C:\\\\Users\\\\srett\\\\Downloads\\Jan_01_10_2021.csv\"\n",
    "jdata = pd.read_csv(jan)\n",
    "tokens = newrandom(2021,1,1,10,jdata)\n"
   ]
  },
  {
   "cell_type": "code",
   "execution_count": null,
   "metadata": {},
   "outputs": [],
   "source": [
    "len(tokens)"
   ]
  }
 ],
 "metadata": {
  "kernelspec": {
   "display_name": "Python 3",
   "language": "python",
   "name": "python3"
  },
  "language_info": {
   "codemirror_mode": {
    "name": "ipython",
    "version": 3
   },
   "file_extension": ".py",
   "mimetype": "text/x-python",
   "name": "python",
   "nbconvert_exporter": "python",
   "pygments_lexer": "ipython3",
   "version": "3.8.5"
  }
 },
 "nbformat": 4,
 "nbformat_minor": 4
}
