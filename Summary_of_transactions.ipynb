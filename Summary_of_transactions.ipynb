{
 "cells": [
  {
   "cell_type": "code",
   "execution_count": 1,
   "metadata": {},
   "outputs": [],
   "source": [
    "#This script will take all of the transactions and compile them by block and aggregate the data. It assumes\n",
    "#The information is coming from Google Big Query, with the following tags: block number, gas_price, receipt_gas_used, and\n",
    "#block_timestamp.\n",
    "\n",
    "import pandas as pd\n",
    "import numpy as np\n",
    "\n",
    "def summary(x): #save your file to a variable.  If your file is in a different folder than your script, you need to save the\n",
    "    #entier path to the file.  x = varible for file name or path and file name\n",
    "    gas = pd.read_csv(x) #reading contents of file into a data frame\n",
    "    gas.rename(columns={\"block_number\": \"Block_num\", \"gas_price\": \"Gas_price\", \"receipt_gas_used\" : \"Gas_amt\",\\\n",
    "                        \"block_timestamp\" : \"Day_Time\"},inplace = True) #changing\n",
    "                                                                                                        #col names\n",
    "    gas['Gas_price'] = gas['Gas_price']/1000000000 #putting gas in easier to read form\n",
    "    gas1 = gas.groupby(['Block_num', 'Day_Time']) #grouping by block number\n",
    "    total_fee = gas['Gas_price']*gas['Gas_amt'] #Total transaction fee gas price times gas amount\n",
    "    gas['Total_fee'] = total_fee  #adding total fee to the dataframe\n",
    "    \n",
    "    #creating summaries by block.\n",
    "    gas_mean = gas1.Gas_price.mean()  #gas price mean by block\n",
    "    gas_median = gas1.Gas_price.median() #gas price median by block\n",
    "    gasmin = gas1.Gas_price.min() #gas price min by block\n",
    "    gasmax = gas1.Gas_price.max() #gas price max by block\n",
    "    tmin = gas1.Total_fee.min() #gas total fee min by block\n",
    "    tmax = gas1.Total_fee.max() #gas total fee max by block\n",
    "    tmed = gas1.Total_fee.median() #gas total fee median by block\n",
    "    tmean = gas1.Total_fee.mean() #gas total fee mean by block\n",
    "    tsum = gas1.Total_fee.sum() # total transactions fees by block\n",
    "    blockcount = gas1.Block_num.count() #number of transactions in the block\n",
    "    gassummary = pd.DataFrame({'Gas_mean' : gas_mean, 'Gas_median': gas_median, 'Gas_min': gasmin, 'Gas_max': gasmax,\n",
    "                          'Transfee_min': tmin, 'Transfee_max': tmax, 'Transfee_median': tmed, 'Transfee_mean': tmean,\n",
    "                          'Transfee_Total': tsum, 'Count_perBlock': blockcount})\n",
    "    gassummary.reset_index(inplace = True)\n",
    "    gassummary.set_index('Block_num', inplace = True)\n",
    "    return(gassummary)"
   ]
  }
 ],
 "metadata": {
  "kernelspec": {
   "display_name": "Python 3",
   "language": "python",
   "name": "python3"
  },
  "language_info": {
   "codemirror_mode": {
    "name": "ipython",
    "version": 3
   },
   "file_extension": ".py",
   "mimetype": "text/x-python",
   "name": "python",
   "nbconvert_exporter": "python",
   "pygments_lexer": "ipython3",
   "version": "3.8.5"
  }
 },
 "nbformat": 4,
 "nbformat_minor": 4
}
