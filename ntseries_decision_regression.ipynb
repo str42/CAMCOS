{
 "cells": [
  {
   "cell_type": "code",
   "execution_count": 1,
   "metadata": {},
   "outputs": [
    {
     "name": "stderr",
     "output_type": "stream",
     "text": [
      "/Library/Frameworks/Python.framework/Versions/3.7/lib/python3.7/site-packages/sklearn/ensemble/weight_boosting.py:29: DeprecationWarning: numpy.core.umath_tests is an internal NumPy module and should not be imported. It will be removed in a future NumPy release.\n",
      "  from numpy.core.umath_tests import inner1d\n",
      "/Library/Frameworks/Python.framework/Versions/3.7/lib/python3.7/site-packages/sklearn/ensemble/gradient_boosting.py:34: DeprecationWarning: `np.bool` is a deprecated alias for the builtin `bool`. To silence this warning, use `bool` by itself. Doing this will not modify any behavior and is safe. If you specifically wanted the numpy scalar type, use `np.bool_` here.\n",
      "Deprecated in NumPy 1.20; for more details and guidance: https://numpy.org/devdocs/release/1.20.0-notes.html#deprecations\n",
      "  from ._gradient_boosting import predict_stages\n",
      "/Library/Frameworks/Python.framework/Versions/3.7/lib/python3.7/site-packages/sklearn/ensemble/gradient_boosting.py:34: DeprecationWarning: `np.bool` is a deprecated alias for the builtin `bool`. To silence this warning, use `bool` by itself. Doing this will not modify any behavior and is safe. If you specifically wanted the numpy scalar type, use `np.bool_` here.\n",
      "Deprecated in NumPy 1.20; for more details and guidance: https://numpy.org/devdocs/release/1.20.0-notes.html#deprecations\n",
      "  from ._gradient_boosting import predict_stages\n"
     ]
    }
   ],
   "source": [
    "import pandas as pd\n",
    "from sklearn.ensemble import RandomForestRegressor\n",
    "import matplotlib.pyplot as plt\n",
    "from sklearn import tree"
   ]
  },
  {
   "cell_type": "code",
   "execution_count": 2,
   "metadata": {},
   "outputs": [],
   "source": [
    "# read data\n",
    "oct_data_path = '../../data/October_data.csv'\n",
    "nov_data_path = '../../data/November_Data.csv'\n",
    "dec_data_path = '../../data/December_Data.csv'\n",
    "feb_data_path = '../../data/February_Data.csv'\n",
    "jan_data_path = '../../data/January_Data.csv'\n",
    "oct_df = pd.read_csv(oct_data_path)\n",
    "nov_df = pd.read_csv(nov_data_path)\n",
    "dec_df = pd.read_csv(dec_data_path)\n",
    "jan_df = pd.read_csv(jan_data_path)\n",
    "feb_df = pd.read_csv(feb_data_path)"
   ]
  },
  {
   "cell_type": "code",
   "execution_count": 3,
   "metadata": {},
   "outputs": [],
   "source": [
    "df_tseries = pd.concat([oct_df, nov_df, dec_df, jan_df, feb_df])"
   ]
  },
  {
   "cell_type": "code",
   "execution_count": 4,
   "metadata": {},
   "outputs": [
    {
     "data": {
      "text/html": [
       "<div>\n",
       "<style scoped>\n",
       "    .dataframe tbody tr th:only-of-type {\n",
       "        vertical-align: middle;\n",
       "    }\n",
       "\n",
       "    .dataframe tbody tr th {\n",
       "        vertical-align: top;\n",
       "    }\n",
       "\n",
       "    .dataframe thead th {\n",
       "        text-align: right;\n",
       "    }\n",
       "</style>\n",
       "<table border=\"1\" class=\"dataframe\">\n",
       "  <thead>\n",
       "    <tr style=\"text-align: right;\">\n",
       "      <th></th>\n",
       "      <th>Unnamed: 0</th>\n",
       "      <th>time_stamp</th>\n",
       "      <th>block</th>\n",
       "      <th>hash</th>\n",
       "      <th>totalfee</th>\n",
       "      <th>confirmation</th>\n",
       "      <th>gasprice</th>\n",
       "      <th>gasamt</th>\n",
       "      <th>past_min</th>\n",
       "      <th>past_max</th>\n",
       "      <th>past_median</th>\n",
       "      <th>blck_med</th>\n",
       "      <th>blck_min</th>\n",
       "      <th>blck_max</th>\n",
       "      <th>blck_totalfee</th>\n",
       "      <th>blck_count</th>\n",
       "      <th>Eur_night</th>\n",
       "      <th>eth_high</th>\n",
       "      <th>Unnamed: 0.1</th>\n",
       "    </tr>\n",
       "  </thead>\n",
       "  <tbody>\n",
       "    <tr>\n",
       "      <th>0</th>\n",
       "      <td>0</td>\n",
       "      <td>2020-10-01 00:00:37+00:00</td>\n",
       "      <td>10966878</td>\n",
       "      <td>0xb49e220ae433a19a731a25326f98c4fe0f00a4ce889f...</td>\n",
       "      <td>0.008142</td>\n",
       "      <td>30.0</td>\n",
       "      <td>76.000000</td>\n",
       "      <td>107128</td>\n",
       "      <td>76.470588</td>\n",
       "      <td>197.470615</td>\n",
       "      <td>93.370115</td>\n",
       "      <td>77.000000</td>\n",
       "      <td>75.0</td>\n",
       "      <td>337.000000</td>\n",
       "      <td>1.246568e+09</td>\n",
       "      <td>205</td>\n",
       "      <td>0</td>\n",
       "      <td>369.286987</td>\n",
       "      <td>NaN</td>\n",
       "    </tr>\n",
       "    <tr>\n",
       "      <th>1</th>\n",
       "      <td>1</td>\n",
       "      <td>2020-10-01 01:00:24+00:00</td>\n",
       "      <td>10967143</td>\n",
       "      <td>0x38af2375d8346d2af2e027df0b798e5774839104c397...</td>\n",
       "      <td>0.005342</td>\n",
       "      <td>37.0</td>\n",
       "      <td>75.900000</td>\n",
       "      <td>70380</td>\n",
       "      <td>65.977182</td>\n",
       "      <td>92.631557</td>\n",
       "      <td>77.339352</td>\n",
       "      <td>78.000000</td>\n",
       "      <td>10.0</td>\n",
       "      <td>471.045200</td>\n",
       "      <td>1.033632e+09</td>\n",
       "      <td>226</td>\n",
       "      <td>0</td>\n",
       "      <td>369.286987</td>\n",
       "      <td>NaN</td>\n",
       "    </tr>\n",
       "    <tr>\n",
       "      <th>2</th>\n",
       "      <td>2</td>\n",
       "      <td>2020-10-01 02:00:20+00:00</td>\n",
       "      <td>10967386</td>\n",
       "      <td>0x16e591fea479bbbe23e70cdcdaa6f72a7c03f5202b47...</td>\n",
       "      <td>0.019393</td>\n",
       "      <td>60.0</td>\n",
       "      <td>94.000001</td>\n",
       "      <td>206312</td>\n",
       "      <td>71.276486</td>\n",
       "      <td>108.120646</td>\n",
       "      <td>84.076492</td>\n",
       "      <td>94.000000</td>\n",
       "      <td>6.0</td>\n",
       "      <td>1058.489463</td>\n",
       "      <td>1.550199e+09</td>\n",
       "      <td>258</td>\n",
       "      <td>0</td>\n",
       "      <td>369.286987</td>\n",
       "      <td>NaN</td>\n",
       "    </tr>\n",
       "    <tr>\n",
       "      <th>3</th>\n",
       "      <td>3</td>\n",
       "      <td>2020-10-01 03:00:38+00:00</td>\n",
       "      <td>10967637</td>\n",
       "      <td>0xf6ce167c13c672b30acebca2f2a59d04563a7da75096...</td>\n",
       "      <td>0.002079</td>\n",
       "      <td>30.0</td>\n",
       "      <td>99.000000</td>\n",
       "      <td>21000</td>\n",
       "      <td>82.153382</td>\n",
       "      <td>164.970244</td>\n",
       "      <td>92.524149</td>\n",
       "      <td>97.000000</td>\n",
       "      <td>86.1</td>\n",
       "      <td>250.000000</td>\n",
       "      <td>1.282877e+09</td>\n",
       "      <td>231</td>\n",
       "      <td>0</td>\n",
       "      <td>369.286987</td>\n",
       "      <td>NaN</td>\n",
       "    </tr>\n",
       "    <tr>\n",
       "      <th>4</th>\n",
       "      <td>4</td>\n",
       "      <td>2020-10-01 04:00:53+00:00</td>\n",
       "      <td>10967921</td>\n",
       "      <td>0x120aa9b9c42bec4405e12894c48a089bea46ea88a174...</td>\n",
       "      <td>0.002066</td>\n",
       "      <td>32.0</td>\n",
       "      <td>81.000000</td>\n",
       "      <td>25506</td>\n",
       "      <td>67.849629</td>\n",
       "      <td>168.384456</td>\n",
       "      <td>104.640753</td>\n",
       "      <td>88.321875</td>\n",
       "      <td>75.0</td>\n",
       "      <td>500.000000</td>\n",
       "      <td>1.241034e+09</td>\n",
       "      <td>132</td>\n",
       "      <td>0</td>\n",
       "      <td>369.286987</td>\n",
       "      <td>NaN</td>\n",
       "    </tr>\n",
       "  </tbody>\n",
       "</table>\n",
       "</div>"
      ],
      "text/plain": [
       "   Unnamed: 0                 time_stamp     block  \\\n",
       "0           0  2020-10-01 00:00:37+00:00  10966878   \n",
       "1           1  2020-10-01 01:00:24+00:00  10967143   \n",
       "2           2  2020-10-01 02:00:20+00:00  10967386   \n",
       "3           3  2020-10-01 03:00:38+00:00  10967637   \n",
       "4           4  2020-10-01 04:00:53+00:00  10967921   \n",
       "\n",
       "                                                hash  totalfee  confirmation  \\\n",
       "0  0xb49e220ae433a19a731a25326f98c4fe0f00a4ce889f...  0.008142          30.0   \n",
       "1  0x38af2375d8346d2af2e027df0b798e5774839104c397...  0.005342          37.0   \n",
       "2  0x16e591fea479bbbe23e70cdcdaa6f72a7c03f5202b47...  0.019393          60.0   \n",
       "3  0xf6ce167c13c672b30acebca2f2a59d04563a7da75096...  0.002079          30.0   \n",
       "4  0x120aa9b9c42bec4405e12894c48a089bea46ea88a174...  0.002066          32.0   \n",
       "\n",
       "    gasprice  gasamt   past_min    past_max  past_median   blck_med  blck_min  \\\n",
       "0  76.000000  107128  76.470588  197.470615    93.370115  77.000000      75.0   \n",
       "1  75.900000   70380  65.977182   92.631557    77.339352  78.000000      10.0   \n",
       "2  94.000001  206312  71.276486  108.120646    84.076492  94.000000       6.0   \n",
       "3  99.000000   21000  82.153382  164.970244    92.524149  97.000000      86.1   \n",
       "4  81.000000   25506  67.849629  168.384456   104.640753  88.321875      75.0   \n",
       "\n",
       "      blck_max  blck_totalfee  blck_count  Eur_night    eth_high  Unnamed: 0.1  \n",
       "0   337.000000   1.246568e+09         205          0  369.286987           NaN  \n",
       "1   471.045200   1.033632e+09         226          0  369.286987           NaN  \n",
       "2  1058.489463   1.550199e+09         258          0  369.286987           NaN  \n",
       "3   250.000000   1.282877e+09         231          0  369.286987           NaN  \n",
       "4   500.000000   1.241034e+09         132          0  369.286987           NaN  "
      ]
     },
     "execution_count": 4,
     "metadata": {},
     "output_type": "execute_result"
    }
   ],
   "source": [
    "df_tseries.head()"
   ]
  },
  {
   "cell_type": "code",
   "execution_count": 5,
   "metadata": {},
   "outputs": [
    {
     "name": "stdout",
     "output_type": "stream",
     "text": [
      "<class 'pandas.core.frame.DataFrame'>\n",
      "Int64Index: 3376 entries, 0 to 621\n",
      "Data columns (total 19 columns):\n",
      " #   Column         Non-Null Count  Dtype  \n",
      "---  ------         --------------  -----  \n",
      " 0   Unnamed: 0     3376 non-null   int64  \n",
      " 1   time_stamp     3376 non-null   object \n",
      " 2   block          3376 non-null   int64  \n",
      " 3   hash           3376 non-null   object \n",
      " 4   totalfee       3376 non-null   float64\n",
      " 5   confirmation   3376 non-null   float64\n",
      " 6   gasprice       3376 non-null   float64\n",
      " 7   gasamt         3376 non-null   int64  \n",
      " 8   past_min       3376 non-null   float64\n",
      " 9   past_max       3376 non-null   float64\n",
      " 10  past_median    3376 non-null   float64\n",
      " 11  blck_med       3376 non-null   float64\n",
      " 12  blck_min       3376 non-null   float64\n",
      " 13  blck_max       3376 non-null   float64\n",
      " 14  blck_totalfee  3376 non-null   float64\n",
      " 15  blck_count     3376 non-null   int64  \n",
      " 16  Eur_night      3376 non-null   int64  \n",
      " 17  eth_high       3376 non-null   float64\n",
      " 18  Unnamed: 0.1   1320 non-null   float64\n",
      "dtypes: float64(12), int64(5), object(2)\n",
      "memory usage: 527.5+ KB\n"
     ]
    }
   ],
   "source": [
    "df_tseries.info()"
   ]
  },
  {
   "cell_type": "code",
   "execution_count": 6,
   "metadata": {},
   "outputs": [
    {
     "data": {
      "text/plain": [
       "Index(['Unnamed: 0', 'time_stamp', 'block', 'hash', 'totalfee', 'confirmation',\n",
       "       'gasprice', 'gasamt', 'past_min', 'past_max', 'past_median', 'blck_med',\n",
       "       'blck_min', 'blck_max', 'blck_totalfee', 'blck_count', 'Eur_night',\n",
       "       'eth_high', 'Unnamed: 0.1'],\n",
       "      dtype='object')"
      ]
     },
     "execution_count": 6,
     "metadata": {},
     "output_type": "execute_result"
    }
   ],
   "source": [
    "df_tseries.columns"
   ]
  },
  {
   "cell_type": "code",
   "execution_count": 7,
   "metadata": {},
   "outputs": [],
   "source": [
    "df_totalfee = df_tseries[['totalfee','past_min', 'past_max', 'past_median', 'blck_med', \n",
    "                          'confirmation','blck_min', 'blck_max', 'blck_totalfee', \n",
    "                          'blck_count', 'Eur_night','eth_high']]"
   ]
  },
  {
   "cell_type": "code",
   "execution_count": 8,
   "metadata": {},
   "outputs": [],
   "source": [
    "df_gas_price = df_tseries[['gasprice', 'gasamt','past_min', 'past_max', 'past_median', 'blck_med', \n",
    "                          'confirmation','blck_min', 'blck_max', 'blck_totalfee', \n",
    "                          'blck_count', 'Eur_night','eth_high']]"
   ]
  },
  {
   "cell_type": "code",
   "execution_count": 9,
   "metadata": {},
   "outputs": [],
   "source": [
    "# model for total fee\n",
    "X = df_totalfee[['past_min', 'past_max', 'past_median', 'blck_med', \n",
    "                          'confirmation','blck_min', 'blck_max', 'blck_totalfee', \n",
    "                          'blck_count', 'Eur_night','eth_high']]\n",
    "Y = df_totalfee[['totalfee']]"
   ]
  },
  {
   "cell_type": "code",
   "execution_count": 22,
   "metadata": {},
   "outputs": [
    {
     "name": "stderr",
     "output_type": "stream",
     "text": [
      "/Library/Frameworks/Python.framework/Versions/3.7/lib/python3.7/site-packages/ipykernel_launcher.py:1: SettingWithCopyWarning: \n",
      "A value is trying to be set on a copy of a slice from a DataFrame.\n",
      "Try using .loc[row_indexer,col_indexer] = value instead\n",
      "\n",
      "See the caveats in the documentation: https://pandas.pydata.org/pandas-docs/stable/user_guide/indexing.html#returning-a-view-versus-a-copy\n",
      "  \"\"\"Entry point for launching an IPython kernel.\n"
     ]
    }
   ],
   "source": [
    "X['Eur_night'] = X['Eur_night'].astype('object')"
   ]
  },
  {
   "cell_type": "code",
   "execution_count": 27,
   "metadata": {},
   "outputs": [
    {
     "data": {
      "text/html": [
       "<div>\n",
       "<style scoped>\n",
       "    .dataframe tbody tr th:only-of-type {\n",
       "        vertical-align: middle;\n",
       "    }\n",
       "\n",
       "    .dataframe tbody tr th {\n",
       "        vertical-align: top;\n",
       "    }\n",
       "\n",
       "    .dataframe thead th {\n",
       "        text-align: right;\n",
       "    }\n",
       "</style>\n",
       "<table border=\"1\" class=\"dataframe\">\n",
       "  <thead>\n",
       "    <tr style=\"text-align: right;\">\n",
       "      <th></th>\n",
       "      <th>past_min</th>\n",
       "      <th>past_max</th>\n",
       "      <th>past_median</th>\n",
       "      <th>blck_med</th>\n",
       "      <th>confirmation</th>\n",
       "      <th>blck_min</th>\n",
       "      <th>blck_max</th>\n",
       "      <th>blck_totalfee</th>\n",
       "      <th>blck_count</th>\n",
       "      <th>Eur_night</th>\n",
       "      <th>eth_high</th>\n",
       "    </tr>\n",
       "  </thead>\n",
       "  <tbody>\n",
       "    <tr>\n",
       "      <th>0</th>\n",
       "      <td>76.470588</td>\n",
       "      <td>197.470615</td>\n",
       "      <td>93.370115</td>\n",
       "      <td>77.000000</td>\n",
       "      <td>30.0</td>\n",
       "      <td>75.0</td>\n",
       "      <td>337.000000</td>\n",
       "      <td>1.246568e+09</td>\n",
       "      <td>205</td>\n",
       "      <td>0</td>\n",
       "      <td>369.286987</td>\n",
       "    </tr>\n",
       "    <tr>\n",
       "      <th>1</th>\n",
       "      <td>65.977182</td>\n",
       "      <td>92.631557</td>\n",
       "      <td>77.339352</td>\n",
       "      <td>78.000000</td>\n",
       "      <td>37.0</td>\n",
       "      <td>10.0</td>\n",
       "      <td>471.045200</td>\n",
       "      <td>1.033632e+09</td>\n",
       "      <td>226</td>\n",
       "      <td>0</td>\n",
       "      <td>369.286987</td>\n",
       "    </tr>\n",
       "    <tr>\n",
       "      <th>2</th>\n",
       "      <td>71.276486</td>\n",
       "      <td>108.120646</td>\n",
       "      <td>84.076492</td>\n",
       "      <td>94.000000</td>\n",
       "      <td>60.0</td>\n",
       "      <td>6.0</td>\n",
       "      <td>1058.489463</td>\n",
       "      <td>1.550199e+09</td>\n",
       "      <td>258</td>\n",
       "      <td>0</td>\n",
       "      <td>369.286987</td>\n",
       "    </tr>\n",
       "    <tr>\n",
       "      <th>3</th>\n",
       "      <td>82.153382</td>\n",
       "      <td>164.970244</td>\n",
       "      <td>92.524149</td>\n",
       "      <td>97.000000</td>\n",
       "      <td>30.0</td>\n",
       "      <td>86.1</td>\n",
       "      <td>250.000000</td>\n",
       "      <td>1.282877e+09</td>\n",
       "      <td>231</td>\n",
       "      <td>0</td>\n",
       "      <td>369.286987</td>\n",
       "    </tr>\n",
       "    <tr>\n",
       "      <th>4</th>\n",
       "      <td>67.849629</td>\n",
       "      <td>168.384456</td>\n",
       "      <td>104.640753</td>\n",
       "      <td>88.321875</td>\n",
       "      <td>32.0</td>\n",
       "      <td>75.0</td>\n",
       "      <td>500.000000</td>\n",
       "      <td>1.241034e+09</td>\n",
       "      <td>132</td>\n",
       "      <td>0</td>\n",
       "      <td>369.286987</td>\n",
       "    </tr>\n",
       "  </tbody>\n",
       "</table>\n",
       "</div>"
      ],
      "text/plain": [
       "    past_min    past_max  past_median   blck_med  confirmation  blck_min  \\\n",
       "0  76.470588  197.470615    93.370115  77.000000          30.0      75.0   \n",
       "1  65.977182   92.631557    77.339352  78.000000          37.0      10.0   \n",
       "2  71.276486  108.120646    84.076492  94.000000          60.0       6.0   \n",
       "3  82.153382  164.970244    92.524149  97.000000          30.0      86.1   \n",
       "4  67.849629  168.384456   104.640753  88.321875          32.0      75.0   \n",
       "\n",
       "      blck_max  blck_totalfee  blck_count Eur_night    eth_high  \n",
       "0   337.000000   1.246568e+09         205         0  369.286987  \n",
       "1   471.045200   1.033632e+09         226         0  369.286987  \n",
       "2  1058.489463   1.550199e+09         258         0  369.286987  \n",
       "3   250.000000   1.282877e+09         231         0  369.286987  \n",
       "4   500.000000   1.241034e+09         132         0  369.286987  "
      ]
     },
     "execution_count": 27,
     "metadata": {},
     "output_type": "execute_result"
    }
   ],
   "source": [
    "X.head()"
   ]
  },
  {
   "cell_type": "code",
   "execution_count": null,
   "metadata": {},
   "outputs": [],
   "source": []
  },
  {
   "cell_type": "code",
   "execution_count": 16,
   "metadata": {},
   "outputs": [],
   "source": [
    "# Import the preprocessor from sklearn\n",
    "from sklearn import preprocessing"
   ]
  },
  {
   "cell_type": "code",
   "execution_count": 23,
   "metadata": {},
   "outputs": [],
   "source": [
    "mean_scaler = preprocessing.StandardScaler().fit(X)\n"
   ]
  },
  {
   "cell_type": "code",
   "execution_count": 35,
   "metadata": {},
   "outputs": [],
   "source": [
    "X_vals_transformed = mean_scaler.transform(X)"
   ]
  },
  {
   "cell_type": "code",
   "execution_count": 36,
   "metadata": {},
   "outputs": [],
   "source": [
    "X_vals_transformed[:,9] = X['Eur_night']"
   ]
  },
  {
   "cell_type": "code",
   "execution_count": 38,
   "metadata": {},
   "outputs": [
    {
     "data": {
      "text/plain": [
       "array([ 0.14886479,  0.29582544, -0.03929063, -0.19326697, -0.02069025,\n",
       "        0.25676732, -0.1964879 , -0.15428031, -0.17426237,  0.        ,\n",
       "       -1.00641666])"
      ]
     },
     "execution_count": 38,
     "metadata": {},
     "output_type": "execute_result"
    }
   ],
   "source": [
    "X_vals_transformed[0]"
   ]
  },
  {
   "cell_type": "code",
   "execution_count": 57,
   "metadata": {},
   "outputs": [],
   "source": [
    "import numpy as np\n",
    "Y_gwei = Y*1000000000\n",
    "y_scaler = preprocessing.StandardScaler().fit(Y_gwei)\n",
    "Y_transformed = y_scaler.transform(Y_gwei)"
   ]
  },
  {
   "cell_type": "code",
   "execution_count": 59,
   "metadata": {},
   "outputs": [
    {
     "name": "stdout",
     "output_type": "stream",
     "text": [
      "totalfee    4.814269e+14\n",
      "dtype: float64\n",
      "totalfee    7.071716e+06\n",
      "dtype: float64\n"
     ]
    }
   ],
   "source": [
    "y_min_max = preprocessing"
   ]
  },
  {
   "cell_type": "code",
   "execution_count": 58,
   "metadata": {},
   "outputs": [
    {
     "data": {
      "text/plain": [
       "[<matplotlib.lines.Line2D at 0x7f8e185ce668>]"
      ]
     },
     "execution_count": 58,
     "metadata": {},
     "output_type": "execute_result"
    },
    {
     "data": {
      "image/png": "[encoded data removed]",
      "text/plain": [
       "<Figure size 432x288 with 1 Axes>"
      ]
     },
     "metadata": {},
     "output_type": "display_data"
    }
   ],
   "source": [
    "plt.plot(Y_transformed)"
   ]
  },
  {
   "cell_type": "code",
   "execution_count": null,
   "metadata": {},
   "outputs": [],
   "source": []
  },
  {
   "cell_type": "code",
   "execution_count": 12,
   "metadata": {},
   "outputs": [
    {
     "name": "stdout",
     "output_type": "stream",
     "text": [
      "<class 'pandas.core.frame.DataFrame'>\n",
      "Int64Index: 3376 entries, 0 to 621\n",
      "Data columns (total 11 columns):\n",
      " #   Column         Non-Null Count  Dtype  \n",
      "---  ------         --------------  -----  \n",
      " 0   past_min       3376 non-null   float64\n",
      " 1   past_max       3376 non-null   float64\n",
      " 2   past_median    3376 non-null   float64\n",
      " 3   blck_med       3376 non-null   float64\n",
      " 4   confirmation   3376 non-null   float64\n",
      " 5   blck_min       3376 non-null   float64\n",
      " 6   blck_max       3376 non-null   float64\n",
      " 7   blck_totalfee  3376 non-null   float64\n",
      " 8   blck_count     3376 non-null   int64  \n",
      " 9   Eur_night      3376 non-null   int64  \n",
      " 10  eth_high       3376 non-null   float64\n",
      "dtypes: float64(9), int64(2)\n",
      "memory usage: 316.5 KB\n"
     ]
    }
   ],
   "source": [
    "X.info()"
   ]
  },
  {
   "cell_type": "code",
   "execution_count": null,
   "metadata": {},
   "outputs": [],
   "source": []
  },
  {
   "cell_type": "code",
   "execution_count": null,
   "metadata": {},
   "outputs": [],
   "source": []
  },
  {
   "cell_type": "code",
   "execution_count": null,
   "metadata": {},
   "outputs": [],
   "source": []
  },
  {
   "cell_type": "code",
   "execution_count": null,
   "metadata": {},
   "outputs": [],
   "source": []
  },
  {
   "cell_type": "code",
   "execution_count": 67,
   "metadata": {},
   "outputs": [],
   "source": [
    "# Model for total fee.\n",
    "total_fee_rfr = RandomForestRegressor(n_estimators=10, min_samples_split=200, random_state=0)"
   ]
  },
  {
   "cell_type": "code",
   "execution_count": 68,
   "metadata": {},
   "outputs": [
    {
     "name": "stderr",
     "output_type": "stream",
     "text": [
      "/Library/Frameworks/Python.framework/Versions/3.7/lib/python3.7/site-packages/ipykernel_launcher.py:1: DataConversionWarning: A column-vector y was passed when a 1d array was expected. Please change the shape of y to (n_samples,), for example using ravel().\n",
      "  \"\"\"Entry point for launching an IPython kernel.\n"
     ]
    },
    {
     "data": {
      "text/plain": [
       "RandomForestRegressor(bootstrap=True, criterion='mse', max_depth=None,\n",
       "           max_features='auto', max_leaf_nodes=None,\n",
       "           min_impurity_decrease=0.0, min_impurity_split=None,\n",
       "           min_samples_leaf=1, min_samples_split=200,\n",
       "           min_weight_fraction_leaf=0.0, n_estimators=10, n_jobs=1,\n",
       "           oob_score=False, random_state=0, verbose=0, warm_start=False)"
      ]
     },
     "execution_count": 68,
     "metadata": {},
     "output_type": "execute_result"
    }
   ],
   "source": [
    "total_fee_rfr.fit(X_vals_transformed, Y)"
   ]
  },
  {
   "cell_type": "code",
   "execution_count": 69,
   "metadata": {},
   "outputs": [
    {
     "name": "stderr",
     "output_type": "stream",
     "text": [
      "/Library/Frameworks/Python.framework/Versions/3.7/lib/python3.7/site-packages/sklearn/ensemble/base.py:157: DeprecationWarning: `np.int` is a deprecated alias for the builtin `int`. To silence this warning, use `int` by itself. Doing this will not modify any behavior and is safe. When replacing `np.int`, you may wish to use e.g. `np.int64` or `np.int32` to specify the precision. If you wish to review your current use, check the release note link for additional information.\n",
      "Deprecated in NumPy 1.20; for more details and guidance: https://numpy.org/devdocs/release/1.20.0-notes.html#deprecations\n",
      "  dtype=np.int)\n"
     ]
    },
    {
     "data": {
      "text/plain": [
       "0.23520986704026078"
      ]
     },
     "execution_count": 69,
     "metadata": {},
     "output_type": "execute_result"
    }
   ],
   "source": [
    "total_fee_rfr.score(X_vals_transformed, Y)"
   ]
  },
  {
   "cell_type": "code",
   "execution_count": null,
   "metadata": {},
   "outputs": [],
   "source": []
  },
  {
   "cell_type": "code",
   "execution_count": 95,
   "metadata": {},
   "outputs": [
    {
     "data": {
      "text/plain": [
       "[DecisionTreeRegressor(criterion='mse', max_depth=None, max_features='auto',\n",
       "            max_leaf_nodes=None, min_impurity_decrease=0.0,\n",
       "            min_impurity_split=None, min_samples_leaf=1,\n",
       "            min_samples_split=200, min_weight_fraction_leaf=0.0,\n",
       "            presort=False, random_state=209652396, splitter='best'),\n",
       " DecisionTreeRegressor(criterion='mse', max_depth=None, max_features='auto',\n",
       "            max_leaf_nodes=None, min_impurity_decrease=0.0,\n",
       "            min_impurity_split=None, min_samples_leaf=1,\n",
       "            min_samples_split=200, min_weight_fraction_leaf=0.0,\n",
       "            presort=False, random_state=398764591, splitter='best'),\n",
       " DecisionTreeRegressor(criterion='mse', max_depth=None, max_features='auto',\n",
       "            max_leaf_nodes=None, min_impurity_decrease=0.0,\n",
       "            min_impurity_split=None, min_samples_leaf=1,\n",
       "            min_samples_split=200, min_weight_fraction_leaf=0.0,\n",
       "            presort=False, random_state=924231285, splitter='best'),\n",
       " DecisionTreeRegressor(criterion='mse', max_depth=None, max_features='auto',\n",
       "            max_leaf_nodes=None, min_impurity_decrease=0.0,\n",
       "            min_impurity_split=None, min_samples_leaf=1,\n",
       "            min_samples_split=200, min_weight_fraction_leaf=0.0,\n",
       "            presort=False, random_state=1478610112, splitter='best'),\n",
       " DecisionTreeRegressor(criterion='mse', max_depth=None, max_features='auto',\n",
       "            max_leaf_nodes=None, min_impurity_decrease=0.0,\n",
       "            min_impurity_split=None, min_samples_leaf=1,\n",
       "            min_samples_split=200, min_weight_fraction_leaf=0.0,\n",
       "            presort=False, random_state=441365315, splitter='best'),\n",
       " DecisionTreeRegressor(criterion='mse', max_depth=None, max_features='auto',\n",
       "            max_leaf_nodes=None, min_impurity_decrease=0.0,\n",
       "            min_impurity_split=None, min_samples_leaf=1,\n",
       "            min_samples_split=200, min_weight_fraction_leaf=0.0,\n",
       "            presort=False, random_state=1537364731, splitter='best'),\n",
       " DecisionTreeRegressor(criterion='mse', max_depth=None, max_features='auto',\n",
       "            max_leaf_nodes=None, min_impurity_decrease=0.0,\n",
       "            min_impurity_split=None, min_samples_leaf=1,\n",
       "            min_samples_split=200, min_weight_fraction_leaf=0.0,\n",
       "            presort=False, random_state=192771779, splitter='best'),\n",
       " DecisionTreeRegressor(criterion='mse', max_depth=None, max_features='auto',\n",
       "            max_leaf_nodes=None, min_impurity_decrease=0.0,\n",
       "            min_impurity_split=None, min_samples_leaf=1,\n",
       "            min_samples_split=200, min_weight_fraction_leaf=0.0,\n",
       "            presort=False, random_state=1491434855, splitter='best'),\n",
       " DecisionTreeRegressor(criterion='mse', max_depth=None, max_features='auto',\n",
       "            max_leaf_nodes=None, min_impurity_decrease=0.0,\n",
       "            min_impurity_split=None, min_samples_leaf=1,\n",
       "            min_samples_split=200, min_weight_fraction_leaf=0.0,\n",
       "            presort=False, random_state=1819583497, splitter='best'),\n",
       " DecisionTreeRegressor(criterion='mse', max_depth=None, max_features='auto',\n",
       "            max_leaf_nodes=None, min_impurity_decrease=0.0,\n",
       "            min_impurity_split=None, min_samples_leaf=1,\n",
       "            min_samples_split=200, min_weight_fraction_leaf=0.0,\n",
       "            presort=False, random_state=530702035, splitter='best'),\n",
       " DecisionTreeRegressor(criterion='mse', max_depth=None, max_features='auto',\n",
       "            max_leaf_nodes=None, min_impurity_decrease=0.0,\n",
       "            min_impurity_split=None, min_samples_leaf=1,\n",
       "            min_samples_split=200, min_weight_fraction_leaf=0.0,\n",
       "            presort=False, random_state=626610453, splitter='best')]"
      ]
     },
     "execution_count": 95,
     "metadata": {},
     "output_type": "execute_result"
    }
   ],
   "source": [
    "total_fee_rfr.estimators_"
   ]
  },
  {
   "cell_type": "code",
   "execution_count": null,
   "metadata": {},
   "outputs": [],
   "source": []
  },
  {
   "cell_type": "code",
   "execution_count": null,
   "metadata": {},
   "outputs": [],
   "source": []
  },
  {
   "cell_type": "code",
   "execution_count": null,
   "metadata": {},
   "outputs": [],
   "source": []
  },
  {
   "cell_type": "code",
   "execution_count": null,
   "metadata": {},
   "outputs": [],
   "source": []
  },
  {
   "cell_type": "code",
   "execution_count": null,
   "metadata": {},
   "outputs": [],
   "source": []
  },
  {
   "cell_type": "code",
   "execution_count": null,
   "metadata": {},
   "outputs": [],
   "source": []
  },
  {
   "cell_type": "code",
   "execution_count": 9,
   "metadata": {},
   "outputs": [],
   "source": [
    "feb_df.drop(labels=['Unnamed: 0', 'time_stamp', 'block', 'hash', 'confirmation', 'Unnamed: 0.1'], axis=1, inplace=True)"
   ]
  },
  {
   "cell_type": "code",
   "execution_count": 10,
   "metadata": {},
   "outputs": [
    {
     "data": {
      "text/html": [
       "<div>\n",
       "<style scoped>\n",
       "    .dataframe tbody tr th:only-of-type {\n",
       "        vertical-align: middle;\n",
       "    }\n",
       "\n",
       "    .dataframe tbody tr th {\n",
       "        vertical-align: top;\n",
       "    }\n",
       "\n",
       "    .dataframe thead th {\n",
       "        text-align: right;\n",
       "    }\n",
       "</style>\n",
       "<table border=\"1\" class=\"dataframe\">\n",
       "  <thead>\n",
       "    <tr style=\"text-align: right;\">\n",
       "      <th></th>\n",
       "      <th>totalfee</th>\n",
       "      <th>gasprice</th>\n",
       "      <th>gasamt</th>\n",
       "      <th>past_min</th>\n",
       "      <th>past_max</th>\n",
       "      <th>past_median</th>\n",
       "      <th>blck_med</th>\n",
       "      <th>blck_min</th>\n",
       "      <th>blck_max</th>\n",
       "      <th>blck_totalfee</th>\n",
       "      <th>blck_count</th>\n",
       "      <th>Eur_night</th>\n",
       "      <th>eth_high</th>\n",
       "    </tr>\n",
       "  </thead>\n",
       "  <tbody>\n",
       "    <tr>\n",
       "      <th>0</th>\n",
       "      <td>0.003675</td>\n",
       "      <td>175.0</td>\n",
       "      <td>21000</td>\n",
       "      <td>124.743319</td>\n",
       "      <td>262.693332</td>\n",
       "      <td>185.197310</td>\n",
       "      <td>168.00</td>\n",
       "      <td>1.000000e-09</td>\n",
       "      <td>1116.434395</td>\n",
       "      <td>2.010777e+09</td>\n",
       "      <td>129</td>\n",
       "      <td>0</td>\n",
       "      <td>1373.845825</td>\n",
       "    </tr>\n",
       "    <tr>\n",
       "      <th>1</th>\n",
       "      <td>0.007061</td>\n",
       "      <td>138.0</td>\n",
       "      <td>51166</td>\n",
       "      <td>91.388586</td>\n",
       "      <td>132.276820</td>\n",
       "      <td>113.470664</td>\n",
       "      <td>154.00</td>\n",
       "      <td>1.000000e+00</td>\n",
       "      <td>613.353995</td>\n",
       "      <td>2.068317e+09</td>\n",
       "      <td>217</td>\n",
       "      <td>0</td>\n",
       "      <td>1373.845825</td>\n",
       "    </tr>\n",
       "    <tr>\n",
       "      <th>2</th>\n",
       "      <td>0.004126</td>\n",
       "      <td>123.0</td>\n",
       "      <td>33545</td>\n",
       "      <td>108.925975</td>\n",
       "      <td>140.282411</td>\n",
       "      <td>119.226554</td>\n",
       "      <td>134.00</td>\n",
       "      <td>1.210000e+02</td>\n",
       "      <td>2942.766178</td>\n",
       "      <td>2.051544e+09</td>\n",
       "      <td>243</td>\n",
       "      <td>0</td>\n",
       "      <td>1373.845825</td>\n",
       "    </tr>\n",
       "    <tr>\n",
       "      <th>3</th>\n",
       "      <td>0.021265</td>\n",
       "      <td>141.9</td>\n",
       "      <td>149861</td>\n",
       "      <td>55.230928</td>\n",
       "      <td>146.827749</td>\n",
       "      <td>122.134217</td>\n",
       "      <td>156.94</td>\n",
       "      <td>1.294000e+02</td>\n",
       "      <td>258.000000</td>\n",
       "      <td>1.953688e+09</td>\n",
       "      <td>266</td>\n",
       "      <td>0</td>\n",
       "      <td>1373.845825</td>\n",
       "    </tr>\n",
       "    <tr>\n",
       "      <th>4</th>\n",
       "      <td>0.003339</td>\n",
       "      <td>159.0</td>\n",
       "      <td>21000</td>\n",
       "      <td>78.181133</td>\n",
       "      <td>164.477451</td>\n",
       "      <td>131.180700</td>\n",
       "      <td>150.00</td>\n",
       "      <td>1.000000e+00</td>\n",
       "      <td>363.410425</td>\n",
       "      <td>1.906237e+09</td>\n",
       "      <td>323</td>\n",
       "      <td>0</td>\n",
       "      <td>1373.845825</td>\n",
       "    </tr>\n",
       "  </tbody>\n",
       "</table>\n",
       "</div>"
      ],
      "text/plain": [
       "   totalfee  gasprice  gasamt    past_min    past_max  past_median  blck_med  \\\n",
       "0  0.003675     175.0   21000  124.743319  262.693332   185.197310    168.00   \n",
       "1  0.007061     138.0   51166   91.388586  132.276820   113.470664    154.00   \n",
       "2  0.004126     123.0   33545  108.925975  140.282411   119.226554    134.00   \n",
       "3  0.021265     141.9  149861   55.230928  146.827749   122.134217    156.94   \n",
       "4  0.003339     159.0   21000   78.181133  164.477451   131.180700    150.00   \n",
       "\n",
       "       blck_min     blck_max  blck_totalfee  blck_count  Eur_night  \\\n",
       "0  1.000000e-09  1116.434395   2.010777e+09         129          0   \n",
       "1  1.000000e+00   613.353995   2.068317e+09         217          0   \n",
       "2  1.210000e+02  2942.766178   2.051544e+09         243          0   \n",
       "3  1.294000e+02   258.000000   1.953688e+09         266          0   \n",
       "4  1.000000e+00   363.410425   1.906237e+09         323          0   \n",
       "\n",
       "      eth_high  \n",
       "0  1373.845825  \n",
       "1  1373.845825  \n",
       "2  1373.845825  \n",
       "3  1373.845825  \n",
       "4  1373.845825  "
      ]
     },
     "execution_count": 10,
     "metadata": {},
     "output_type": "execute_result"
    }
   ],
   "source": [
    "feb_df.head()"
   ]
  },
  {
   "cell_type": "code",
   "execution_count": 12,
   "metadata": {},
   "outputs": [],
   "source": [
    "X = feb_df[['gasprice', 'gasamt', 'past_min', 'past_max', 'past_median', 'blck_med',\n",
    "       'blck_min', 'blck_max', 'blck_totalfee', 'blck_count', 'Eur_night',\n",
    "       'eth_high']]"
   ]
  },
  {
   "cell_type": "code",
   "execution_count": 13,
   "metadata": {},
   "outputs": [],
   "source": [
    " y = feb_df[['totalfee']]"
   ]
  },
  {
   "cell_type": "code",
   "execution_count": 30,
   "metadata": {},
   "outputs": [],
   "source": [
    "rregr = RandomForestRegressor(min_samples_split=100, random_state=0)"
   ]
  },
  {
   "cell_type": "code",
   "execution_count": 31,
   "metadata": {},
   "outputs": [
    {
     "name": "stderr",
     "output_type": "stream",
     "text": [
      "/Library/Frameworks/Python.framework/Versions/3.7/lib/python3.7/site-packages/ipykernel_launcher.py:1: DataConversionWarning: A column-vector y was passed when a 1d array was expected. Please change the shape of y to (n_samples,), for example using ravel().\n",
      "  \"\"\"Entry point for launching an IPython kernel.\n"
     ]
    },
    {
     "data": {
      "text/plain": [
       "RandomForestRegressor(bootstrap=True, criterion='mse', max_depth=None,\n",
       "           max_features='auto', max_leaf_nodes=None,\n",
       "           min_impurity_decrease=0.0, min_impurity_split=None,\n",
       "           min_samples_leaf=1, min_samples_split=100,\n",
       "           min_weight_fraction_leaf=0.0, n_estimators=10, n_jobs=1,\n",
       "           oob_score=False, random_state=0, verbose=0, warm_start=False)"
      ]
     },
     "execution_count": 31,
     "metadata": {},
     "output_type": "execute_result"
    }
   ],
   "source": [
    "rregr.fit(X,y)"
   ]
  },
  {
   "cell_type": "code",
   "execution_count": 32,
   "metadata": {},
   "outputs": [
    {
     "name": "stdout",
     "output_type": "stream",
     "text": [
      "{'bootstrap': True, 'criterion': 'mse', 'max_depth': None, 'max_features': 'auto', 'max_leaf_nodes': None, 'min_impurity_decrease': 0.0, 'min_impurity_split': None, 'min_samples_leaf': 1, 'min_samples_split': 100, 'min_weight_fraction_leaf': 0.0, 'n_estimators': 10, 'n_jobs': 1, 'oob_score': False, 'random_state': 0, 'verbose': 0, 'warm_start': False}\n"
     ]
    }
   ],
   "source": [
    "print(rregr.get_params(deep=True))"
   ]
  },
  {
   "cell_type": "code",
   "execution_count": 33,
   "metadata": {},
   "outputs": [
    {
     "data": {
      "text/plain": [
       "0.8664538484599461"
      ]
     },
     "execution_count": 33,
     "metadata": {},
     "output_type": "execute_result"
    }
   ],
   "source": [
    "rregr.score(X, y)"
   ]
  },
  {
   "cell_type": "code",
   "execution_count": 34,
   "metadata": {},
   "outputs": [
    {
     "data": {
      "text/plain": [
       "(<667x186 sparse matrix of type '<class 'numpy.longlong'>'\n",
       " \twith 47289 stored elements in Compressed Sparse Row format>,\n",
       " array([  0,  19,  36,  55,  72,  93, 112, 129, 148, 167, 186]))"
      ]
     },
     "execution_count": 34,
     "metadata": {},
     "output_type": "execute_result"
    }
   ],
   "source": [
    "rregr.decision_path(X)"
   ]
  },
  {
   "cell_type": "code",
   "execution_count": 35,
   "metadata": {},
   "outputs": [
    {
     "data": {
      "text/plain": [
       "array([0.0174412, 0.9825588, 0.       , 0.       , 0.       , 0.       ,\n",
       "       0.       , 0.       , 0.       , 0.       , 0.       , 0.       ])"
      ]
     },
     "execution_count": 35,
     "metadata": {},
     "output_type": "execute_result"
    }
   ],
   "source": [
    "rregr.estimators_[0].feature_importances_"
   ]
  },
  {
   "cell_type": "code",
   "execution_count": null,
   "metadata": {},
   "outputs": [],
   "source": []
  },
  {
   "cell_type": "code",
   "execution_count": null,
   "metadata": {},
   "outputs": [],
   "source": []
  },
  {
   "cell_type": "code",
   "execution_count": null,
   "metadata": {},
   "outputs": [],
   "source": []
  },
  {
   "cell_type": "code",
   "execution_count": null,
   "metadata": {},
   "outputs": [],
   "source": []
  },
  {
   "cell_type": "code",
   "execution_count": null,
   "metadata": {},
   "outputs": [],
   "source": []
  },
  {
   "cell_type": "code",
   "execution_count": null,
   "metadata": {},
   "outputs": [],
   "source": []
  },
  {
   "cell_type": "code",
   "execution_count": null,
   "metadata": {},
   "outputs": [],
   "source": []
  },
  {
   "cell_type": "code",
   "execution_count": 40,
   "metadata": {},
   "outputs": [
    {
     "data": {
      "image/png": "[encoded data removed]",
      "text/plain": [
       "<Figure size 3200x3200 with 1 Axes>"
      ]
     },
     "metadata": {},
     "output_type": "display_data"
    }
   ],
   "source": [
    "fn=X.columns\n",
    "cn=y.columns\n",
    "fig, axes = plt.subplots(nrows = 1,ncols = 1,figsize = (4,4), dpi=800)\n",
    "tree.export_graphviz(rregr.estimators_[0],\n",
    "               feature_names = fn, \n",
    "               class_names=cn,\n",
    "               filled = True);\n",
    "fig.savefig('rf_individualtree.png')"
   ]
  },
  {
   "cell_type": "code",
   "execution_count": null,
   "metadata": {},
   "outputs": [],
   "source": []
  },
  {
   "cell_type": "code",
   "execution_count": null,
   "metadata": {},
   "outputs": [],
   "source": []
  },
  {
   "cell_type": "code",
   "execution_count": null,
   "metadata": {},
   "outputs": [],
   "source": []
  }
 ],
 "metadata": {
  "kernelspec": {
   "display_name": "Python 3",
   "language": "python",
   "name": "python3"
  },
  "language_info": {
   "codemirror_mode": {
    "name": "ipython",
    "version": 3
   },
   "file_extension": ".py",
   "mimetype": "text/x-python",
   "name": "python",
   "nbconvert_exporter": "python",
   "pygments_lexer": "ipython3",
   "version": "3.7.0"
  }
 },
 "nbformat": 4,
 "nbformat_minor": 2
}
