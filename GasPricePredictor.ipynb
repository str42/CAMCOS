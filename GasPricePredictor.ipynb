{
 "cells": [
  {
   "cell_type": "markdown",
   "metadata": {},
   "source": [
    "# Random Forest Classsification of the gas_price in ethereum network"
   ]
  },
  {
   "cell_type": "markdown",
   "metadata": {},
   "source": [
    "### Introduction:\n",
    "#### In this project, we are going to use random forest classifier to predict what price range should a user pay to have their transaction included in the ethereum blockchain."
   ]
  },
  {
   "cell_type": "code",
   "execution_count": 172,
   "metadata": {},
   "outputs": [],
   "source": [
    "# Standard imports\n",
    "import pandas as pd\n",
    "import numpy as np\n",
    "import matplotlib.pyplot as plt\n",
    "from typing import List\n",
    "\n",
    "# Transformers\n",
    "from sklearn.preprocessing import StandardScaler, MinMaxScaler\n",
    "\n",
    "# Pipelines\n",
    "from sklearn.pipeline import Pipeline\n",
    "\n",
    "# Model Selection\n",
    "from sklearn.model_selection import train_test_split, cross_val_score, KFold, GridSearchCV\n",
    "\n",
    "# Metrices\n",
    "from sklearn.metrics import accuracy_score, f1_score, recall_score, precision_score, classification_report, plot_confusion_matrix\n",
    "# Machine Learning\n",
    "from sklearn.ensemble import RandomForestClassifier\n",
    "from sklearn import tree\n",
    "from sklearn.tree import DecisionTreeClassifier\n",
    "\n",
    "\n",
    "# Balancing the dataset\n",
    "from imblearn.over_sampling import SMOTE\n",
    "\n",
    "# visualize\n",
    "from sklearn.tree import export_graphviz"
   ]
  },
  {
   "cell_type": "code",
   "execution_count": null,
   "metadata": {},
   "outputs": [],
   "source": []
  },
  {
   "cell_type": "markdown",
   "metadata": {},
   "source": [
    "### Data:\n",
    "Data path:"
   ]
  },
  {
   "cell_type": "code",
   "execution_count": 2,
   "metadata": {},
   "outputs": [],
   "source": [
    "sample_data_path = '../../data/Sample_Data.csv' "
   ]
  },
  {
   "cell_type": "code",
   "execution_count": 3,
   "metadata": {},
   "outputs": [],
   "source": [
    "sample_df = pd.read_csv(sample_data_path)"
   ]
  },
  {
   "cell_type": "code",
   "execution_count": 4,
   "metadata": {},
   "outputs": [
    {
     "data": {
      "text/html": [
       "<div>\n",
       "<style scoped>\n",
       "    .dataframe tbody tr th:only-of-type {\n",
       "        vertical-align: middle;\n",
       "    }\n",
       "\n",
       "    .dataframe tbody tr th {\n",
       "        vertical-align: top;\n",
       "    }\n",
       "\n",
       "    .dataframe thead th {\n",
       "        text-align: right;\n",
       "    }\n",
       "</style>\n",
       "<table border=\"1\" class=\"dataframe\">\n",
       "  <thead>\n",
       "    <tr style=\"text-align: right;\">\n",
       "      <th></th>\n",
       "      <th>Unnamed: 0</th>\n",
       "      <th>time_stamp</th>\n",
       "      <th>block_number</th>\n",
       "      <th>hash</th>\n",
       "      <th>gas_price</th>\n",
       "      <th>receipt_gas_used</th>\n",
       "      <th>totalfee</th>\n",
       "      <th>past_min</th>\n",
       "      <th>past_max</th>\n",
       "      <th>past_median</th>\n",
       "      <th>blck_med</th>\n",
       "      <th>blck_min</th>\n",
       "      <th>blck_max</th>\n",
       "      <th>blck_totalfee</th>\n",
       "      <th>blck_count</th>\n",
       "      <th>Eur_night</th>\n",
       "      <th>eth_high</th>\n",
       "      <th>Unnamed: 0.1</th>\n",
       "    </tr>\n",
       "  </thead>\n",
       "  <tbody>\n",
       "    <tr>\n",
       "      <th>0</th>\n",
       "      <td>0</td>\n",
       "      <td>2020-10-01 00:00:31+00:00</td>\n",
       "      <td>10966876</td>\n",
       "      <td>0xfe04bf5504dadbbe3a42c7e0ff5c19df3cecbb0690dd...</td>\n",
       "      <td>75.0</td>\n",
       "      <td>46779</td>\n",
       "      <td>3508425.0</td>\n",
       "      <td>73.386952</td>\n",
       "      <td>197.470615</td>\n",
       "      <td>94.312484</td>\n",
       "      <td>75.9</td>\n",
       "      <td>66.000000</td>\n",
       "      <td>130.000001</td>\n",
       "      <td>9.158803e+08</td>\n",
       "      <td>184</td>\n",
       "      <td>0</td>\n",
       "      <td>369.286987</td>\n",
       "      <td>NaN</td>\n",
       "    </tr>\n",
       "    <tr>\n",
       "      <th>1</th>\n",
       "      <td>1</td>\n",
       "      <td>2020-10-01 00:02:53+00:00</td>\n",
       "      <td>10966884</td>\n",
       "      <td>0x86eb68f0a61cc2db2ade0106ce246b7c568723e89e7f...</td>\n",
       "      <td>90.0</td>\n",
       "      <td>112429</td>\n",
       "      <td>10118610.0</td>\n",
       "      <td>69.303340</td>\n",
       "      <td>267.901379</td>\n",
       "      <td>92.047103</td>\n",
       "      <td>84.0</td>\n",
       "      <td>75.000000</td>\n",
       "      <td>359.000000</td>\n",
       "      <td>1.324160e+09</td>\n",
       "      <td>168</td>\n",
       "      <td>0</td>\n",
       "      <td>369.286987</td>\n",
       "      <td>NaN</td>\n",
       "    </tr>\n",
       "    <tr>\n",
       "      <th>2</th>\n",
       "      <td>2</td>\n",
       "      <td>2020-10-01 00:02:53+00:00</td>\n",
       "      <td>10966884</td>\n",
       "      <td>0x9d0ba410c4938f1b0bbbae05509169b04a4f90cfccf4...</td>\n",
       "      <td>180.0</td>\n",
       "      <td>56209</td>\n",
       "      <td>10117620.0</td>\n",
       "      <td>69.303340</td>\n",
       "      <td>267.901379</td>\n",
       "      <td>92.047103</td>\n",
       "      <td>84.0</td>\n",
       "      <td>75.000000</td>\n",
       "      <td>359.000000</td>\n",
       "      <td>1.324160e+09</td>\n",
       "      <td>168</td>\n",
       "      <td>0</td>\n",
       "      <td>369.286987</td>\n",
       "      <td>NaN</td>\n",
       "    </tr>\n",
       "    <tr>\n",
       "      <th>3</th>\n",
       "      <td>3</td>\n",
       "      <td>2020-10-01 00:03:42+00:00</td>\n",
       "      <td>10966887</td>\n",
       "      <td>0xd2b0317b6a49f17974918f546615be29e9c782a42411...</td>\n",
       "      <td>73.0</td>\n",
       "      <td>26209</td>\n",
       "      <td>1913257.0</td>\n",
       "      <td>69.303340</td>\n",
       "      <td>267.901379</td>\n",
       "      <td>93.699142</td>\n",
       "      <td>75.0</td>\n",
       "      <td>70.000001</td>\n",
       "      <td>400.000000</td>\n",
       "      <td>1.260698e+09</td>\n",
       "      <td>223</td>\n",
       "      <td>0</td>\n",
       "      <td>369.286987</td>\n",
       "      <td>NaN</td>\n",
       "    </tr>\n",
       "    <tr>\n",
       "      <th>4</th>\n",
       "      <td>4</td>\n",
       "      <td>2020-10-01 00:03:47+00:00</td>\n",
       "      <td>10966888</td>\n",
       "      <td>0x40584bff51a203b97f28b6d2f83e2cbb3a8f2c706b00...</td>\n",
       "      <td>150.0</td>\n",
       "      <td>643648</td>\n",
       "      <td>96547200.0</td>\n",
       "      <td>69.303340</td>\n",
       "      <td>267.901379</td>\n",
       "      <td>90.304533</td>\n",
       "      <td>76.0</td>\n",
       "      <td>69.000100</td>\n",
       "      <td>500.000000</td>\n",
       "      <td>1.159260e+09</td>\n",
       "      <td>113</td>\n",
       "      <td>0</td>\n",
       "      <td>369.286987</td>\n",
       "      <td>NaN</td>\n",
       "    </tr>\n",
       "  </tbody>\n",
       "</table>\n",
       "</div>"
      ],
      "text/plain": [
       "   Unnamed: 0                 time_stamp  block_number  \\\n",
       "0           0  2020-10-01 00:00:31+00:00      10966876   \n",
       "1           1  2020-10-01 00:02:53+00:00      10966884   \n",
       "2           2  2020-10-01 00:02:53+00:00      10966884   \n",
       "3           3  2020-10-01 00:03:42+00:00      10966887   \n",
       "4           4  2020-10-01 00:03:47+00:00      10966888   \n",
       "\n",
       "                                                hash  gas_price  \\\n",
       "0  0xfe04bf5504dadbbe3a42c7e0ff5c19df3cecbb0690dd...       75.0   \n",
       "1  0x86eb68f0a61cc2db2ade0106ce246b7c568723e89e7f...       90.0   \n",
       "2  0x9d0ba410c4938f1b0bbbae05509169b04a4f90cfccf4...      180.0   \n",
       "3  0xd2b0317b6a49f17974918f546615be29e9c782a42411...       73.0   \n",
       "4  0x40584bff51a203b97f28b6d2f83e2cbb3a8f2c706b00...      150.0   \n",
       "\n",
       "   receipt_gas_used    totalfee   past_min    past_max  past_median  blck_med  \\\n",
       "0             46779   3508425.0  73.386952  197.470615    94.312484      75.9   \n",
       "1            112429  10118610.0  69.303340  267.901379    92.047103      84.0   \n",
       "2             56209  10117620.0  69.303340  267.901379    92.047103      84.0   \n",
       "3             26209   1913257.0  69.303340  267.901379    93.699142      75.0   \n",
       "4            643648  96547200.0  69.303340  267.901379    90.304533      76.0   \n",
       "\n",
       "    blck_min    blck_max  blck_totalfee  blck_count  Eur_night    eth_high  \\\n",
       "0  66.000000  130.000001   9.158803e+08         184          0  369.286987   \n",
       "1  75.000000  359.000000   1.324160e+09         168          0  369.286987   \n",
       "2  75.000000  359.000000   1.324160e+09         168          0  369.286987   \n",
       "3  70.000001  400.000000   1.260698e+09         223          0  369.286987   \n",
       "4  69.000100  500.000000   1.159260e+09         113          0  369.286987   \n",
       "\n",
       "   Unnamed: 0.1  \n",
       "0           NaN  \n",
       "1           NaN  \n",
       "2           NaN  \n",
       "3           NaN  \n",
       "4           NaN  "
      ]
     },
     "execution_count": 4,
     "metadata": {},
     "output_type": "execute_result"
    }
   ],
   "source": [
    "sample_df.head()"
   ]
  },
  {
   "cell_type": "code",
   "execution_count": 155,
   "metadata": {},
   "outputs": [
    {
     "data": {
      "text/plain": [
       "Index(['Unnamed: 0', 'time_stamp', 'block_number', 'hash', 'gas_price',\n",
       "       'receipt_gas_used', 'totalfee', 'past_min', 'past_max', 'past_median',\n",
       "       'blck_med', 'blck_min', 'blck_max', 'blck_totalfee', 'blck_count',\n",
       "       'Eur_night', 'eth_high', 'Unnamed: 0.1'],\n",
       "      dtype='object')"
      ]
     },
     "execution_count": 155,
     "metadata": {},
     "output_type": "execute_result"
    }
   ],
   "source": [
    "sample_df.columns"
   ]
  },
  {
   "cell_type": "markdown",
   "metadata": {},
   "source": [
    "### Clean the dataframe and categorize the features based on their dtypes.\n",
    "#### Steps:\n",
    "##### 1: Remove the unnecessary features like Unnamed: 0, time_stamp, and block_number features. \n",
    "##### 2. Find the categorize the numerical and categorical features."
   ]
  },
  {
   "cell_type": "code",
   "execution_count": 21,
   "metadata": {},
   "outputs": [
    {
     "data": {
      "text/plain": [
       "Index(['Unnamed: 0', 'time_stamp', 'block_number', 'hash', 'gas_price',\n",
       "       'receipt_gas_used', 'totalfee', 'past_min', 'past_max', 'past_median',\n",
       "       'blck_med', 'blck_min', 'blck_max', 'blck_totalfee', 'blck_count',\n",
       "       'Eur_night', 'eth_high', 'Unnamed: 0.1'],\n",
       "      dtype='object')"
      ]
     },
     "execution_count": 21,
     "metadata": {},
     "output_type": "execute_result"
    }
   ],
   "source": [
    "sample_df.columns"
   ]
  },
  {
   "cell_type": "code",
   "execution_count": 22,
   "metadata": {},
   "outputs": [],
   "source": [
    "drop_features = ['Unnamed: 0', 'time_stamp', 'block_number', 'hash', \n",
    "                 'Unnamed: 0.1', 'receipt_gas_used', 'totalfee','blck_med', \n",
    "                 'blck_min', 'blck_max', 'blck_totalfee', 'blck_count']\n",
    "numerical_features = ['past_min', 'past_max', 'past_median', 'eth_high']\n",
    "categorical_features = ['Eur_night','blck_count']"
   ]
  },
  {
   "cell_type": "code",
   "execution_count": 23,
   "metadata": {},
   "outputs": [],
   "source": [
    "# This is the original copy of the data after removing the unnecessary data.\n",
    "original_clean_data = sample_df.drop(drop_features, axis=1)"
   ]
  },
  {
   "cell_type": "markdown",
   "metadata": {},
   "source": [
    "## Original state of data frame"
   ]
  },
  {
   "cell_type": "code",
   "execution_count": 24,
   "metadata": {},
   "outputs": [
    {
     "data": {
      "text/html": [
       "<div>\n",
       "<style scoped>\n",
       "    .dataframe tbody tr th:only-of-type {\n",
       "        vertical-align: middle;\n",
       "    }\n",
       "\n",
       "    .dataframe tbody tr th {\n",
       "        vertical-align: top;\n",
       "    }\n",
       "\n",
       "    .dataframe thead th {\n",
       "        text-align: right;\n",
       "    }\n",
       "</style>\n",
       "<table border=\"1\" class=\"dataframe\">\n",
       "  <thead>\n",
       "    <tr style=\"text-align: right;\">\n",
       "      <th></th>\n",
       "      <th>gas_price</th>\n",
       "      <th>past_min</th>\n",
       "      <th>past_max</th>\n",
       "      <th>past_median</th>\n",
       "      <th>Eur_night</th>\n",
       "      <th>eth_high</th>\n",
       "    </tr>\n",
       "  </thead>\n",
       "  <tbody>\n",
       "    <tr>\n",
       "      <th>0</th>\n",
       "      <td>75.0</td>\n",
       "      <td>73.386952</td>\n",
       "      <td>197.470615</td>\n",
       "      <td>94.312484</td>\n",
       "      <td>0</td>\n",
       "      <td>369.286987</td>\n",
       "    </tr>\n",
       "    <tr>\n",
       "      <th>1</th>\n",
       "      <td>90.0</td>\n",
       "      <td>69.303340</td>\n",
       "      <td>267.901379</td>\n",
       "      <td>92.047103</td>\n",
       "      <td>0</td>\n",
       "      <td>369.286987</td>\n",
       "    </tr>\n",
       "    <tr>\n",
       "      <th>2</th>\n",
       "      <td>180.0</td>\n",
       "      <td>69.303340</td>\n",
       "      <td>267.901379</td>\n",
       "      <td>92.047103</td>\n",
       "      <td>0</td>\n",
       "      <td>369.286987</td>\n",
       "    </tr>\n",
       "    <tr>\n",
       "      <th>3</th>\n",
       "      <td>73.0</td>\n",
       "      <td>69.303340</td>\n",
       "      <td>267.901379</td>\n",
       "      <td>93.699142</td>\n",
       "      <td>0</td>\n",
       "      <td>369.286987</td>\n",
       "    </tr>\n",
       "    <tr>\n",
       "      <th>4</th>\n",
       "      <td>150.0</td>\n",
       "      <td>69.303340</td>\n",
       "      <td>267.901379</td>\n",
       "      <td>90.304533</td>\n",
       "      <td>0</td>\n",
       "      <td>369.286987</td>\n",
       "    </tr>\n",
       "  </tbody>\n",
       "</table>\n",
       "</div>"
      ],
      "text/plain": [
       "   gas_price   past_min    past_max  past_median  Eur_night    eth_high\n",
       "0       75.0  73.386952  197.470615    94.312484          0  369.286987\n",
       "1       90.0  69.303340  267.901379    92.047103          0  369.286987\n",
       "2      180.0  69.303340  267.901379    92.047103          0  369.286987\n",
       "3       73.0  69.303340  267.901379    93.699142          0  369.286987\n",
       "4      150.0  69.303340  267.901379    90.304533          0  369.286987"
      ]
     },
     "execution_count": 24,
     "metadata": {},
     "output_type": "execute_result"
    }
   ],
   "source": [
    "original_clean_data.head()"
   ]
  },
  {
   "cell_type": "code",
   "execution_count": 25,
   "metadata": {},
   "outputs": [
    {
     "name": "stdout",
     "output_type": "stream",
     "text": [
      "<class 'pandas.core.frame.DataFrame'>\n",
      "RangeIndex: 200000 entries, 0 to 199999\n",
      "Data columns (total 6 columns):\n",
      " #   Column       Non-Null Count   Dtype  \n",
      "---  ------       --------------   -----  \n",
      " 0   gas_price    200000 non-null  float64\n",
      " 1   past_min     200000 non-null  float64\n",
      " 2   past_max     200000 non-null  float64\n",
      " 3   past_median  200000 non-null  float64\n",
      " 4   Eur_night    200000 non-null  int64  \n",
      " 5   eth_high     196169 non-null  float64\n",
      "dtypes: float64(5), int64(1)\n",
      "memory usage: 9.2 MB\n"
     ]
    }
   ],
   "source": [
    "original_clean_data.info()"
   ]
  },
  {
   "cell_type": "code",
   "execution_count": 26,
   "metadata": {},
   "outputs": [],
   "source": [
    "# remove observations with na\n",
    "original_clean_data.dropna(axis=0, inplace=True)"
   ]
  },
  {
   "cell_type": "markdown",
   "metadata": {},
   "source": [
    "### Data for exploration"
   ]
  },
  {
   "cell_type": "code",
   "execution_count": 27,
   "metadata": {},
   "outputs": [],
   "source": [
    "dds = sample_df.drop(drop_features, axis=1)"
   ]
  },
  {
   "cell_type": "code",
   "execution_count": 28,
   "metadata": {},
   "outputs": [],
   "source": [
    "dds.dropna(axis=0, inplace=True)"
   ]
  },
  {
   "cell_type": "code",
   "execution_count": 29,
   "metadata": {},
   "outputs": [
    {
     "name": "stdout",
     "output_type": "stream",
     "text": [
      "<class 'pandas.core.frame.DataFrame'>\n",
      "Int64Index: 196169 entries, 0 to 199999\n",
      "Data columns (total 6 columns):\n",
      " #   Column       Non-Null Count   Dtype  \n",
      "---  ------       --------------   -----  \n",
      " 0   gas_price    196169 non-null  float64\n",
      " 1   past_min     196169 non-null  float64\n",
      " 2   past_max     196169 non-null  float64\n",
      " 3   past_median  196169 non-null  float64\n",
      " 4   Eur_night    196169 non-null  int64  \n",
      " 5   eth_high     196169 non-null  float64\n",
      "dtypes: float64(5), int64(1)\n",
      "memory usage: 10.5 MB\n"
     ]
    }
   ],
   "source": [
    "dds.info()"
   ]
  },
  {
   "cell_type": "code",
   "execution_count": 30,
   "metadata": {},
   "outputs": [],
   "source": [
    "scale = MinMaxScaler()\n",
    "dds[numerical_features] = scale.fit_transform(dds[numerical_features])"
   ]
  },
  {
   "cell_type": "markdown",
   "metadata": {},
   "source": [
    "## Get the labels from the different gas price ranges.\n",
    "#### The ranges were taken from K-mean cluster. They are given as follows:\n",
    "1. ranges_4_clusters = [177.91976034, 3000.0, 12699.05, 34912.02562252]\n",
    "2. ranges_5_clusters = [129.88, 429.681, 3352.85825472, 12699.04775591, 34912.02562252]\n",
    "3. ranges_6_clusters = [87.45000222, 196.802, 489.5, 3352.85825472, 12699.04775591, 34912.02562252]\n",
    "\n",
    "In this part of the code, we will create different levels based on the ranges above. For each of the ranges, we will have one level. For example for ranges_4_clusters, we will have 4 labels. Ranges_5_cluster  and Ranges_6_cluster will have 5 and 6 ranges respectively."
   ]
  },
  {
   "cell_type": "markdown",
   "metadata": {},
   "source": [
    "#### The original dataset after scaled.\n",
    "1. gas_price is the response variable\n",
    "2. Everything else are the predictors.\n",
    "3. We are going to break the gas_price into different labels to categorize different ranges for the gas_price."
   ]
  },
  {
   "cell_type": "code",
   "execution_count": 31,
   "metadata": {},
   "outputs": [
    {
     "data": {
      "text/html": [
       "<div>\n",
       "<style scoped>\n",
       "    .dataframe tbody tr th:only-of-type {\n",
       "        vertical-align: middle;\n",
       "    }\n",
       "\n",
       "    .dataframe tbody tr th {\n",
       "        vertical-align: top;\n",
       "    }\n",
       "\n",
       "    .dataframe thead th {\n",
       "        text-align: right;\n",
       "    }\n",
       "</style>\n",
       "<table border=\"1\" class=\"dataframe\">\n",
       "  <thead>\n",
       "    <tr style=\"text-align: right;\">\n",
       "      <th></th>\n",
       "      <th>gas_price</th>\n",
       "      <th>past_min</th>\n",
       "      <th>past_max</th>\n",
       "      <th>past_median</th>\n",
       "      <th>Eur_night</th>\n",
       "      <th>eth_high</th>\n",
       "    </tr>\n",
       "  </thead>\n",
       "  <tbody>\n",
       "    <tr>\n",
       "      <th>0</th>\n",
       "      <td>75.0</td>\n",
       "      <td>0.055161</td>\n",
       "      <td>0.012555</td>\n",
       "      <td>0.044918</td>\n",
       "      <td>0</td>\n",
       "      <td>0.015762</td>\n",
       "    </tr>\n",
       "    <tr>\n",
       "      <th>1</th>\n",
       "      <td>90.0</td>\n",
       "      <td>0.052092</td>\n",
       "      <td>0.017483</td>\n",
       "      <td>0.043667</td>\n",
       "      <td>0</td>\n",
       "      <td>0.015762</td>\n",
       "    </tr>\n",
       "    <tr>\n",
       "      <th>2</th>\n",
       "      <td>180.0</td>\n",
       "      <td>0.052092</td>\n",
       "      <td>0.017483</td>\n",
       "      <td>0.043667</td>\n",
       "      <td>0</td>\n",
       "      <td>0.015762</td>\n",
       "    </tr>\n",
       "    <tr>\n",
       "      <th>3</th>\n",
       "      <td>73.0</td>\n",
       "      <td>0.052092</td>\n",
       "      <td>0.017483</td>\n",
       "      <td>0.044579</td>\n",
       "      <td>0</td>\n",
       "      <td>0.015762</td>\n",
       "    </tr>\n",
       "    <tr>\n",
       "      <th>4</th>\n",
       "      <td>150.0</td>\n",
       "      <td>0.052092</td>\n",
       "      <td>0.017483</td>\n",
       "      <td>0.042704</td>\n",
       "      <td>0</td>\n",
       "      <td>0.015762</td>\n",
       "    </tr>\n",
       "  </tbody>\n",
       "</table>\n",
       "</div>"
      ],
      "text/plain": [
       "   gas_price  past_min  past_max  past_median  Eur_night  eth_high\n",
       "0       75.0  0.055161  0.012555     0.044918          0  0.015762\n",
       "1       90.0  0.052092  0.017483     0.043667          0  0.015762\n",
       "2      180.0  0.052092  0.017483     0.043667          0  0.015762\n",
       "3       73.0  0.052092  0.017483     0.044579          0  0.015762\n",
       "4      150.0  0.052092  0.017483     0.042704          0  0.015762"
      ]
     },
     "execution_count": 31,
     "metadata": {},
     "output_type": "execute_result"
    }
   ],
   "source": [
    "dds.head()"
   ]
  },
  {
   "cell_type": "markdown",
   "metadata": {},
   "source": [
    "### Step 1: Get different labels for different gar_price ranges"
   ]
  },
  {
   "cell_type": "code",
   "execution_count": 32,
   "metadata": {},
   "outputs": [],
   "source": [
    "    def create_categorize(data_frame: pd.DataFrame, feature: str, label: str, ranges: List[float]):\n",
    "        \"\"\"\n",
    "        This function will create label based on the values in feature column.\n",
    "        :param feature: The feature column that you want to use to create label.\n",
    "        :param label: The label column that you want to create based on the values in feature column.\n",
    "        :param ranges: The ranges of value in feature column that you want to use to create the label column.\n",
    "        :return: Create a column in the dataframe called label.\n",
    "        \"\"\"\n",
    "        data_frame = data_frame.copy(deep=True)\n",
    "        if not len(ranges):\n",
    "            raise ValueError(\"The ranges list is empty\")\n",
    "        for i, val in enumerate(ranges):\n",
    "            if i == 0:\n",
    "                data_frame.loc[data_frame[data_frame[feature] <= val].index, label] = str(i + 1)\n",
    "                continue\n",
    "            data_frame.loc[data_frame[(data_frame[feature] <= val) &\n",
    "                                                (data_frame[feature] > ranges[i - 1])].index, label] = str(i + 1)\n",
    "        data_frame = data_frame.drop([feature], axis=1)\n",
    "        return data_frame.sort_index()"
   ]
  },
  {
   "cell_type": "code",
   "execution_count": 33,
   "metadata": {},
   "outputs": [],
   "source": [
    "ranges_4_clusters = [177.91976034, 3000.0, 12699.05, 34912.02562252]\n",
    "ranges_5_clusters = [129.88, 429.681, 3352.85825472, 12699.04775591, 34912.02562252]\n",
    "ranges_6_clusters = [87.45000222, 196.802, 489.5, 3352.85825472, 12699.04775591, 34912.02562252]"
   ]
  },
  {
   "cell_type": "code",
   "execution_count": 34,
   "metadata": {},
   "outputs": [],
   "source": [
    "df_4_cluster = create_categorize(dds, \"gas_price\", \"label\", ranges_4_clusters)\n",
    "df_5_cluster = create_categorize(dds, \"gas_price\", \"label\", ranges_5_clusters)\n",
    "df_6_cluster = create_categorize(dds, \"gas_price\", \"label\", ranges_6_clusters)"
   ]
  },
  {
   "cell_type": "markdown",
   "metadata": {},
   "source": [
    "### Create a function that will summarize value counts for each of the labels"
   ]
  },
  {
   "cell_type": "code",
   "execution_count": 35,
   "metadata": {},
   "outputs": [],
   "source": [
    "def count_summarize(data_frame: pd.DataFrame, label: str, data_frame_name: str):\n",
    "    \"\"\"\n",
    "    This function will return a summary of label in the given dataframe. It will return their counts and ratios\n",
    "    in the dataframe.\n",
    "    \"\"\"\n",
    "    if label not in data_frame.columns:\n",
    "        raise AttributeError(f\"Feature {label} not found in the dataframe\")\n",
    "    counts = data_frame[label].value_counts()\n",
    "    percents = counts.apply(lambda x: (x*100)/counts.sum())\n",
    "    print(f\"Counts of each label in {data_frame_name}:\\n {counts}\\n------------------\")\n",
    "    print(f\"Percent of each label in {data_frame_name}:\\n {percents}\\n------------------\")"
   ]
  },
  {
   "cell_type": "markdown",
   "metadata": {},
   "source": [
    "### Show the count in the different groups for each cluster"
   ]
  },
  {
   "cell_type": "code",
   "execution_count": 36,
   "metadata": {},
   "outputs": [
    {
     "name": "stdout",
     "output_type": "stream",
     "text": [
      "Counts of each label in df_4_cluster:\n",
      " 1    169482\n",
      "2     26614\n",
      "3        64\n",
      "4         9\n",
      "Name: label, dtype: int64\n",
      "------------------\n",
      "Percent of each label in df_4_cluster:\n",
      " 1    86.395914\n",
      "2    13.566873\n",
      "3     0.032625\n",
      "4     0.004588\n",
      "Name: label, dtype: float64\n",
      "------------------\n",
      "Counts of each label in df_5_cluster:\n",
      " 1    148969\n",
      "2     44318\n",
      "3      2820\n",
      "4        53\n",
      "5         9\n",
      "Name: label, dtype: int64\n",
      "------------------\n",
      "Percent of each label in df_5_cluster:\n",
      " 1    75.939114\n",
      "2    22.591745\n",
      "3     1.437536\n",
      "4     0.027018\n",
      "5     0.004588\n",
      "Name: label, dtype: float64\n",
      "------------------\n",
      "Counts of each label in df_6_cluster:\n",
      " 1    115384\n",
      "2     59381\n",
      "3     19133\n",
      "4      2209\n",
      "5        53\n",
      "6         9\n",
      "Name: label, dtype: int64\n",
      "------------------\n",
      "Percent of each label in df_6_cluster:\n",
      " 1    58.818672\n",
      "2    30.270328\n",
      "3     9.753325\n",
      "4     1.126070\n",
      "5     0.027018\n",
      "6     0.004588\n",
      "Name: label, dtype: float64\n",
      "------------------\n"
     ]
    }
   ],
   "source": [
    "count_summarize(df_4_cluster, 'label', 'df_4_cluster')\n",
    "count_summarize(df_5_cluster, 'label', 'df_5_cluster')\n",
    "count_summarize(df_6_cluster, 'label', 'df_6_cluster')"
   ]
  },
  {
   "cell_type": "markdown",
   "metadata": {},
   "source": [
    "#### Summary of the labeling:\n",
    "\n",
    "It looks like our data set is very imbalanced. For 4 cluster and 5 cluster data, we have the most imbalanced data.\n",
    "More than 75% of the total data in 4 and 5 clusters belong to label 1. So, any machine learning model will have a problem with this type of dataset. We need to take care of the data imbalance problem in cluster 4 and 5. The problem is not as bad in cluster 6 but we will still need to balance the data to make sure there is no bias in the model.\n",
    "\n",
    "#### Steps forward:\n",
    "1. Select the proper cluster that is easier to balance the data in i.e we don't have as bad of the data imbalance problem as in other cluster. \n",
    "2. Balance the data in that cluster using methods like under sampling, oversampling, and SMOTE (Synthetic Minority Oversampling Technique.)\n",
    "3. Use machine learning models for each on the data produced after applying data balancing techniques."
   ]
  },
  {
   "cell_type": "markdown",
   "metadata": {},
   "source": [
    "### Try different ranges\n",
    "### Analysis:\n",
    "#### Checking for transactions that are less than 1.0 gwei\n",
    "\n",
    "After doing some analysis, I found that a very low ratio of transaction pay one on less gwei in transaction gas_price:\n"
   ]
  },
  {
   "cell_type": "code",
   "execution_count": 37,
   "metadata": {},
   "outputs": [
    {
     "name": "stdout",
     "output_type": "stream",
     "text": [
      "Counts of each label in new_cluster_df:\n",
      " 2    102987\n",
      "3     77348\n",
      "5      6449\n",
      "1      5158\n",
      "4      4227\n",
      "Name: label, dtype: int64\n",
      "------------------\n",
      "Percent of each label in new_cluster_df:\n",
      " 2    52.499121\n",
      "3    39.429268\n",
      "5     3.287472\n",
      "1     2.629365\n",
      "4     2.154775\n",
      "Name: label, dtype: float64\n",
      "------------------\n"
     ]
    }
   ],
   "source": [
    "a_ranges = [1.0, 80.00, 250.00, 300.00, 34912.02562252]\n",
    "new_cluster_df = create_categorize(original_clean_data, 'gas_price', 'label', a_ranges)\n",
    "count_summarize(new_cluster_df, 'label', 'new_cluster_df')"
   ]
  },
  {
   "cell_type": "markdown",
   "metadata": {},
   "source": [
    "# Modeling for 3 class labels\n",
    "\n",
    "1. There are 3 classes we are using and they are [1.0, 80.00, 250.00, np.inf].\n",
    "2. We are removing anything from 0 to 1 ether.\n",
    "3. Everything from (1.0 - 80.00] is classified as class 2, (80.00 - 250.00] is classified as class 3.\n",
    "3. Every ether value from 250.0 to max value is classified as class 4."
   ]
  },
  {
   "cell_type": "markdown",
   "metadata": {},
   "source": [
    "### Step 1: Cluster all the data into 4 classes."
   ]
  },
  {
   "cell_type": "code",
   "execution_count": 171,
   "metadata": {},
   "outputs": [
    {
     "name": "stdout",
     "output_type": "stream",
     "text": [
      "Counts of each label in inf_cluster_df:\n",
      " 2    102987\n",
      "3     81575\n",
      "4      6449\n",
      "1      5158\n",
      "Name: label, dtype: int64\n",
      "------------------\n",
      "Percent of each label in inf_cluster_df:\n",
      " 2    52.499121\n",
      "3    41.584042\n",
      "4     3.287472\n",
      "1     2.629365\n",
      "Name: label, dtype: float64\n",
      "------------------\n"
     ]
    }
   ],
   "source": [
    "inf_ranges = [1.0, 80.00, 300.00, np.inf]\n",
    "inf_cluster_df = create_categorize(original_clean_data, 'gas_price', 'label', inf_ranges)\n",
    "count_summarize(inf_cluster_df, 'label', 'inf_cluster_df')"
   ]
  },
  {
   "cell_type": "code",
   "execution_count": null,
   "metadata": {},
   "outputs": [],
   "source": []
  },
  {
   "cell_type": "code",
   "execution_count": null,
   "metadata": {},
   "outputs": [],
   "source": []
  },
  {
   "cell_type": "markdown",
   "metadata": {},
   "source": [
    "### Step 2: Select the observations with label 2, 3, and 4 only i.e get all the labels except for 1"
   ]
  },
  {
   "cell_type": "code",
   "execution_count": 152,
   "metadata": {},
   "outputs": [],
   "source": [
    "three_classes_new_df = inf_cluster_df[inf_cluster_df['label'] != '1']"
   ]
  },
  {
   "cell_type": "code",
   "execution_count": null,
   "metadata": {},
   "outputs": [],
   "source": []
  },
  {
   "cell_type": "code",
   "execution_count": 153,
   "metadata": {},
   "outputs": [
    {
     "data": {
      "text/html": [
       "<div>\n",
       "<style scoped>\n",
       "    .dataframe tbody tr th:only-of-type {\n",
       "        vertical-align: middle;\n",
       "    }\n",
       "\n",
       "    .dataframe tbody tr th {\n",
       "        vertical-align: top;\n",
       "    }\n",
       "\n",
       "    .dataframe thead th {\n",
       "        text-align: right;\n",
       "    }\n",
       "</style>\n",
       "<table border=\"1\" class=\"dataframe\">\n",
       "  <thead>\n",
       "    <tr style=\"text-align: right;\">\n",
       "      <th></th>\n",
       "      <th>past_min</th>\n",
       "      <th>past_max</th>\n",
       "      <th>past_median</th>\n",
       "      <th>Eur_night</th>\n",
       "      <th>eth_high</th>\n",
       "      <th>label</th>\n",
       "    </tr>\n",
       "  </thead>\n",
       "  <tbody>\n",
       "    <tr>\n",
       "      <th>0</th>\n",
       "      <td>73.386952</td>\n",
       "      <td>197.470615</td>\n",
       "      <td>94.312484</td>\n",
       "      <td>0</td>\n",
       "      <td>369.286987</td>\n",
       "      <td>2</td>\n",
       "    </tr>\n",
       "    <tr>\n",
       "      <th>1</th>\n",
       "      <td>69.303340</td>\n",
       "      <td>267.901379</td>\n",
       "      <td>92.047103</td>\n",
       "      <td>0</td>\n",
       "      <td>369.286987</td>\n",
       "      <td>3</td>\n",
       "    </tr>\n",
       "    <tr>\n",
       "      <th>2</th>\n",
       "      <td>69.303340</td>\n",
       "      <td>267.901379</td>\n",
       "      <td>92.047103</td>\n",
       "      <td>0</td>\n",
       "      <td>369.286987</td>\n",
       "      <td>3</td>\n",
       "    </tr>\n",
       "    <tr>\n",
       "      <th>3</th>\n",
       "      <td>69.303340</td>\n",
       "      <td>267.901379</td>\n",
       "      <td>93.699142</td>\n",
       "      <td>0</td>\n",
       "      <td>369.286987</td>\n",
       "      <td>2</td>\n",
       "    </tr>\n",
       "    <tr>\n",
       "      <th>4</th>\n",
       "      <td>69.303340</td>\n",
       "      <td>267.901379</td>\n",
       "      <td>90.304533</td>\n",
       "      <td>0</td>\n",
       "      <td>369.286987</td>\n",
       "      <td>3</td>\n",
       "    </tr>\n",
       "  </tbody>\n",
       "</table>\n",
       "</div>"
      ],
      "text/plain": [
       "    past_min    past_max  past_median  Eur_night    eth_high label\n",
       "0  73.386952  197.470615    94.312484          0  369.286987     2\n",
       "1  69.303340  267.901379    92.047103          0  369.286987     3\n",
       "2  69.303340  267.901379    92.047103          0  369.286987     3\n",
       "3  69.303340  267.901379    93.699142          0  369.286987     2\n",
       "4  69.303340  267.901379    90.304533          0  369.286987     3"
      ]
     },
     "execution_count": 153,
     "metadata": {},
     "output_type": "execute_result"
    }
   ],
   "source": [
    "three_classes_new_df.head()"
   ]
  },
  {
   "cell_type": "markdown",
   "metadata": {},
   "source": [
    "### Step 3: Seperate the features and labels. Features in 'X' and labels in 'y'"
   ]
  },
  {
   "cell_type": "code",
   "execution_count": 41,
   "metadata": {},
   "outputs": [],
   "source": [
    "X = three_classes_new_df.drop(['label'], axis=1)\n",
    "y = three_classes_new_df['label']"
   ]
  },
  {
   "cell_type": "markdown",
   "metadata": {},
   "source": [
    "### Step 4: Create train, test split."
   ]
  },
  {
   "cell_type": "code",
   "execution_count": 154,
   "metadata": {},
   "outputs": [],
   "source": [
    "X_train, X_test, y_train, y_test = train_test_split(X, y, test_size=0.2, stratify=y)"
   ]
  },
  {
   "cell_type": "markdown",
   "metadata": {},
   "source": [
    "### Step 5: Model"
   ]
  },
  {
   "cell_type": "code",
   "execution_count": 196,
   "metadata": {},
   "outputs": [],
   "source": [
    "three_class_rfc = RandomForestClassifier(n_estimators=10, min_samples_split=200, random_state=0)"
   ]
  },
  {
   "cell_type": "code",
   "execution_count": 197,
   "metadata": {},
   "outputs": [
    {
     "data": {
      "text/plain": [
       "RandomForestClassifier(min_samples_split=200, n_estimators=10, random_state=0)"
      ]
     },
     "execution_count": 197,
     "metadata": {},
     "output_type": "execute_result"
    }
   ],
   "source": [
    "three_class_rfc.fit(X_train, y_train)"
   ]
  },
  {
   "cell_type": "code",
   "execution_count": 185,
   "metadata": {},
   "outputs": [],
   "source": [
    "##\n",
    "dtc = DecisionTreeClassifier(min_samples_split=20000)"
   ]
  },
  {
   "cell_type": "code",
   "execution_count": 186,
   "metadata": {},
   "outputs": [
    {
     "data": {
      "text/plain": [
       "DecisionTreeClassifier(min_samples_split=20000)"
      ]
     },
     "execution_count": 186,
     "metadata": {},
     "output_type": "execute_result"
    }
   ],
   "source": [
    "dtc.fit(X_train, y_train)"
   ]
  },
  {
   "cell_type": "code",
   "execution_count": 187,
   "metadata": {},
   "outputs": [],
   "source": [
    "grph = tree.export_graphviz(dtc, out_file=None, \n",
    "                            feature_names=X_train.columns,\n",
    "                            class_names=['2', '3', '4'],\n",
    "                            filled=True, rounded=True,\n",
    "                            special_characters=True)"
   ]
  },
  {
   "cell_type": "code",
   "execution_count": 177,
   "metadata": {},
   "outputs": [],
   "source": [
    "import graphviz"
   ]
  },
  {
   "cell_type": "code",
   "execution_count": 190,
   "metadata": {},
   "outputs": [],
   "source": [
    "graph = graphviz.Source(grph, format='png')"
   ]
  },
  {
   "cell_type": "code",
   "execution_count": 191,
   "metadata": {},
   "outputs": [
    {
     "data": {
      "text/plain": [
       "'eth_tree.png'"
      ]
     },
     "execution_count": 191,
     "metadata": {},
     "output_type": "execute_result"
    }
   ],
   "source": [
    "graph.render('eth_tree')"
   ]
  },
  {
   "cell_type": "code",
   "execution_count": null,
   "metadata": {},
   "outputs": [],
   "source": []
  },
  {
   "cell_type": "markdown",
   "metadata": {},
   "source": [
    "## Results:\n",
    "\n",
    "### Accuracy score of the model\n"
   ]
  },
  {
   "cell_type": "code",
   "execution_count": 198,
   "metadata": {},
   "outputs": [],
   "source": [
    "y_pred_train = three_class_rfc.predict(X_train)"
   ]
  },
  {
   "cell_type": "code",
   "execution_count": 199,
   "metadata": {},
   "outputs": [
    {
     "name": "stderr",
     "output_type": "stream",
     "text": [
      "/Users/sagarshahi/.envs/ether/lib/python3.9/site-packages/sklearn/metrics/_classification.py:1248: UndefinedMetricWarning: Precision and F-score are ill-defined and being set to 0.0 in labels with no predicted samples. Use `zero_division` parameter to control this behavior.\n",
      "  _warn_prf(average, modifier, msg_start, len(result))\n",
      "/Users/sagarshahi/.envs/ether/lib/python3.9/site-packages/sklearn/metrics/_classification.py:1248: UndefinedMetricWarning: Precision and F-score are ill-defined and being set to 0.0 in labels with no predicted samples. Use `zero_division` parameter to control this behavior.\n",
      "  _warn_prf(average, modifier, msg_start, len(result))\n"
     ]
    },
    {
     "name": "stdout",
     "output_type": "stream",
     "text": [
      "              precision    recall  f1-score   support\n",
      "\n",
      "           2       0.77      0.90      0.83     82389\n",
      "           3       0.73      0.67      0.70     61878\n",
      "           4       0.00      0.00      0.00      8541\n",
      "\n",
      "    accuracy                           0.76    152808\n",
      "   macro avg       0.50      0.52      0.51    152808\n",
      "weighted avg       0.71      0.76      0.73    152808\n",
      "\n"
     ]
    },
    {
     "name": "stderr",
     "output_type": "stream",
     "text": [
      "/Users/sagarshahi/.envs/ether/lib/python3.9/site-packages/sklearn/metrics/_classification.py:1248: UndefinedMetricWarning: Precision and F-score are ill-defined and being set to 0.0 in labels with no predicted samples. Use `zero_division` parameter to control this behavior.\n",
      "  _warn_prf(average, modifier, msg_start, len(result))\n"
     ]
    }
   ],
   "source": [
    "print(classification_report(y_train, y_pred=y_pred_train))"
   ]
  },
  {
   "cell_type": "code",
   "execution_count": 201,
   "metadata": {},
   "outputs": [
    {
     "data": {
      "image/png": "[encoded data removed]",
      "text/plain": [
       "<Figure size 432x288 with 2 Axes>"
      ]
     },
     "metadata": {
      "needs_background": "light"
     },
     "output_type": "display_data"
    }
   ],
   "source": [
    "plot_confusion_matrix(three_class_rfc, X_train, y_train)\n",
    "plt.show()"
   ]
  },
  {
   "cell_type": "code",
   "execution_count": 202,
   "metadata": {},
   "outputs": [],
   "source": [
    "y_pred_test = three_class_rfc.predict(X_test)"
   ]
  },
  {
   "cell_type": "code",
   "execution_count": 204,
   "metadata": {},
   "outputs": [
    {
     "name": "stderr",
     "output_type": "stream",
     "text": [
      "/Users/sagarshahi/.envs/ether/lib/python3.9/site-packages/sklearn/metrics/_classification.py:1248: UndefinedMetricWarning: Precision and F-score are ill-defined and being set to 0.0 in labels with no predicted samples. Use `zero_division` parameter to control this behavior.\n",
      "  _warn_prf(average, modifier, msg_start, len(result))\n",
      "/Users/sagarshahi/.envs/ether/lib/python3.9/site-packages/sklearn/metrics/_classification.py:1248: UndefinedMetricWarning: Precision and F-score are ill-defined and being set to 0.0 in labels with no predicted samples. Use `zero_division` parameter to control this behavior.\n",
      "  _warn_prf(average, modifier, msg_start, len(result))\n"
     ]
    },
    {
     "name": "stdout",
     "output_type": "stream",
     "text": [
      "              precision    recall  f1-score   support\n",
      "\n",
      "           2       0.76      0.89      0.82     20598\n",
      "           3       0.71      0.66      0.69     15470\n",
      "           4       0.00      0.00      0.00      2135\n",
      "\n",
      "    accuracy                           0.75     38203\n",
      "   macro avg       0.49      0.52      0.50     38203\n",
      "weighted avg       0.70      0.75      0.72     38203\n",
      "\n"
     ]
    },
    {
     "name": "stderr",
     "output_type": "stream",
     "text": [
      "/Users/sagarshahi/.envs/ether/lib/python3.9/site-packages/sklearn/metrics/_classification.py:1248: UndefinedMetricWarning: Precision and F-score are ill-defined and being set to 0.0 in labels with no predicted samples. Use `zero_division` parameter to control this behavior.\n",
      "  _warn_prf(average, modifier, msg_start, len(result))\n"
     ]
    }
   ],
   "source": [
    "print(classification_report(y_test, y_pred_test))"
   ]
  },
  {
   "cell_type": "code",
   "execution_count": 205,
   "metadata": {},
   "outputs": [
    {
     "data": {
      "image/png": "[encoded data removed]",
      "text/plain": [
       "<Figure size 432x288 with 2 Axes>"
      ]
     },
     "metadata": {
      "needs_background": "light"
     },
     "output_type": "display_data"
    }
   ],
   "source": [
    "plot_confusion_matrix(three_class_rfc, X_test, y_test)\n",
    "plt.show()"
   ]
  },
  {
   "cell_type": "markdown",
   "metadata": {},
   "source": [
    "### Important features"
   ]
  },
  {
   "cell_type": "code",
   "execution_count": 206,
   "metadata": {},
   "outputs": [
    {
     "data": {
      "text/plain": [
       "array([0.11273871, 0.11905283, 0.25169023, 0.00308957, 0.51342866])"
      ]
     },
     "execution_count": 206,
     "metadata": {},
     "output_type": "execute_result"
    }
   ],
   "source": [
    "three_class_rfc.feature_importances_"
   ]
  },
  {
   "cell_type": "code",
   "execution_count": 208,
   "metadata": {},
   "outputs": [],
   "source": [
    "imp_features_ratio = dict(zip(X_train.columns, three_class_rfc.feature_importances_))"
   ]
  },
  {
   "cell_type": "code",
   "execution_count": 214,
   "metadata": {},
   "outputs": [
    {
     "name": "stdout",
     "output_type": "stream",
     "text": [
      "('past_min', 0.1127387063082512)\n",
      "('past_max', 0.11905282675456996)\n",
      "('past_median', 0.2516902311082346)\n",
      "('Eur_night', 0.0030895714338154733)\n",
      "('eth_high', 0.5134286643951288)\n"
     ]
    }
   ],
   "source": [
    "for item in imp_features_ratio.items():\n",
    "    print(f\"{item[0]}:\")"
   ]
  },
  {
   "cell_type": "markdown",
   "metadata": {},
   "source": [
    "# Results Ends"
   ]
  },
  {
   "cell_type": "code",
   "execution_count": null,
   "metadata": {},
   "outputs": [],
   "source": []
  },
  {
   "cell_type": "code",
   "execution_count": null,
   "metadata": {},
   "outputs": [],
   "source": []
  },
  {
   "cell_type": "code",
   "execution_count": 87,
   "metadata": {},
   "outputs": [
    {
     "data": {
      "text/plain": [
       "0.7510536097586514"
      ]
     },
     "execution_count": 87,
     "metadata": {},
     "output_type": "execute_result"
    }
   ],
   "source": [
    "accuracy_score(y_true=y_train, y_pred=y_pred_train)"
   ]
  },
  {
   "cell_type": "code",
   "execution_count": 88,
   "metadata": {},
   "outputs": [
    {
     "data": {
      "text/plain": [
       "(152808, 3)"
      ]
     },
     "execution_count": 88,
     "metadata": {},
     "output_type": "execute_result"
    }
   ],
   "source": [
    "three_class_rfc.predict_proba(X_train).shape"
   ]
  },
  {
   "cell_type": "markdown",
   "metadata": {},
   "source": [
    "### For test dataset"
   ]
  },
  {
   "cell_type": "code",
   "execution_count": 89,
   "metadata": {},
   "outputs": [],
   "source": [
    "y_pred_test = three_class_rfc.predict(X_test)"
   ]
  },
  {
   "cell_type": "code",
   "execution_count": 90,
   "metadata": {},
   "outputs": [
    {
     "name": "stdout",
     "output_type": "stream",
     "text": [
      "              precision    recall  f1-score   support\n",
      "\n",
      "           2       0.76      0.87      0.81     20598\n",
      "           3       0.69      0.66      0.68     15470\n",
      "           4       0.15      0.00      0.01      2135\n",
      "\n",
      "    accuracy                           0.73     38203\n",
      "   macro avg       0.54      0.51      0.50     38203\n",
      "weighted avg       0.70      0.73      0.71     38203\n",
      "\n"
     ]
    }
   ],
   "source": [
    "print(classification_report(y_true=y_test, y_pred=y_pred_test))"
   ]
  },
  {
   "cell_type": "code",
   "execution_count": 91,
   "metadata": {},
   "outputs": [
    {
     "data": {
      "text/plain": [
       "0.7347328743815931"
      ]
     },
     "execution_count": 91,
     "metadata": {},
     "output_type": "execute_result"
    }
   ],
   "source": [
    "accuracy_score(y_true=y_test, y_pred=y_pred_test)"
   ]
  },
  {
   "cell_type": "code",
   "execution_count": 92,
   "metadata": {},
   "outputs": [
    {
     "data": {
      "text/plain": [
       "array([[0.82402499, 0.16281711, 0.01315789],\n",
       "       [0.95591802, 0.03777751, 0.00630447],\n",
       "       [0.02763359, 0.8403626 , 0.13200382],\n",
       "       ...,\n",
       "       [0.61005481, 0.37859712, 0.01134806],\n",
       "       [0.62789729, 0.36123315, 0.01086957],\n",
       "       [0.56410658, 0.41124048, 0.02465293]])"
      ]
     },
     "execution_count": 92,
     "metadata": {},
     "output_type": "execute_result"
    }
   ],
   "source": [
    "three_class_rfc.predict_proba(X_test)"
   ]
  },
  {
   "cell_type": "markdown",
   "metadata": {},
   "source": [
    "### Important Features"
   ]
  },
  {
   "cell_type": "code",
   "execution_count": 94,
   "metadata": {},
   "outputs": [
    {
     "name": "stdout",
     "output_type": "stream",
     "text": [
      "[0.04903413 0.04019903 0.59102987 0.00220632 0.31753064]\n",
      "Index(['past_min', 'past_max', 'past_median', 'Eur_night', 'eth_high',\n",
      "       'label'],\n",
      "      dtype='object')\n"
     ]
    }
   ],
   "source": [
    "print(three_class_rfc.feature_importances_)\n",
    "print(three_classes_new_df.columns)"
   ]
  },
  {
   "cell_type": "markdown",
   "metadata": {},
   "source": [
    "## Visualize"
   ]
  },
  {
   "cell_type": "code",
   "execution_count": 159,
   "metadata": {},
   "outputs": [],
   "source": [
    "estimator = three_class_rfc.estimators_[0]"
   ]
  },
  {
   "cell_type": "code",
   "execution_count": 160,
   "metadata": {},
   "outputs": [],
   "source": [
    "export_graphviz(estimator, out_file='tree.out',\n",
    "                feature_names=X_train.columns, \n",
    "                class_names=['2', '3', '4'],\n",
    "                rounded=True,\n",
    "                proportion=False,\n",
    "                precision=2,\n",
    "                filled=True\n",
    "               )"
   ]
  },
  {
   "cell_type": "code",
   "execution_count": 192,
   "metadata": {},
   "outputs": [],
   "source": [
    "exp = tree.export_graphviz(estimator, out_file=None,\n",
    "                feature_names=X_train.columns, \n",
    "                class_names=['2', '3', '4'],\n",
    "                rounded=True,\n",
    "                proportion=False,\n",
    "                precision=2,\n",
    "                filled=True\n",
    "               )"
   ]
  },
  {
   "cell_type": "code",
   "execution_count": 193,
   "metadata": {},
   "outputs": [
    {
     "name": "stderr",
     "output_type": "stream",
     "text": [
      "dot: graph is too large for cairo-renderer bitmaps. Scaling by 0.583261 to fit\n"
     ]
    },
    {
     "data": {
      "text/plain": [
       "'testone.png'"
      ]
     },
     "execution_count": 193,
     "metadata": {},
     "output_type": "execute_result"
    }
   ],
   "source": [
    "gph2 = graphviz.Source(exp, format='png')\n",
    "gph2.render('testone')"
   ]
  },
  {
   "cell_type": "code",
   "execution_count": 195,
   "metadata": {},
   "outputs": [
    {
     "data": {
      "text/html": [
       "<div>\n",
       "<style scoped>\n",
       "    .dataframe tbody tr th:only-of-type {\n",
       "        vertical-align: middle;\n",
       "    }\n",
       "\n",
       "    .dataframe tbody tr th {\n",
       "        vertical-align: top;\n",
       "    }\n",
       "\n",
       "    .dataframe thead th {\n",
       "        text-align: right;\n",
       "    }\n",
       "</style>\n",
       "<table border=\"1\" class=\"dataframe\">\n",
       "  <thead>\n",
       "    <tr style=\"text-align: right;\">\n",
       "      <th></th>\n",
       "      <th>past_min</th>\n",
       "      <th>past_max</th>\n",
       "      <th>past_median</th>\n",
       "      <th>Eur_night</th>\n",
       "      <th>eth_high</th>\n",
       "    </tr>\n",
       "  </thead>\n",
       "  <tbody>\n",
       "    <tr>\n",
       "      <th>155561</th>\n",
       "      <td>116.749218</td>\n",
       "      <td>165.025856</td>\n",
       "      <td>133.553410</td>\n",
       "      <td>1</td>\n",
       "      <td>1467.784912</td>\n",
       "    </tr>\n",
       "    <tr>\n",
       "      <th>176619</th>\n",
       "      <td>79.305396</td>\n",
       "      <td>170.768456</td>\n",
       "      <td>102.741965</td>\n",
       "      <td>1</td>\n",
       "      <td>1861.356934</td>\n",
       "    </tr>\n",
       "    <tr>\n",
       "      <th>18718</th>\n",
       "      <td>55.386673</td>\n",
       "      <td>137.130573</td>\n",
       "      <td>84.972131</td>\n",
       "      <td>1</td>\n",
       "      <td>380.021515</td>\n",
       "    </tr>\n",
       "    <tr>\n",
       "      <th>119374</th>\n",
       "      <td>79.480502</td>\n",
       "      <td>121.086290</td>\n",
       "      <td>88.678723</td>\n",
       "      <td>1</td>\n",
       "      <td>786.798462</td>\n",
       "    </tr>\n",
       "    <tr>\n",
       "      <th>45733</th>\n",
       "      <td>27.618131</td>\n",
       "      <td>41.867290</td>\n",
       "      <td>34.473411</td>\n",
       "      <td>0</td>\n",
       "      <td>407.665649</td>\n",
       "    </tr>\n",
       "  </tbody>\n",
       "</table>\n",
       "</div>"
      ],
      "text/plain": [
       "          past_min    past_max  past_median  Eur_night     eth_high\n",
       "155561  116.749218  165.025856   133.553410          1  1467.784912\n",
       "176619   79.305396  170.768456   102.741965          1  1861.356934\n",
       "18718    55.386673  137.130573    84.972131          1   380.021515\n",
       "119374   79.480502  121.086290    88.678723          1   786.798462\n",
       "45733    27.618131   41.867290    34.473411          0   407.665649"
      ]
     },
     "execution_count": 195,
     "metadata": {},
     "output_type": "execute_result"
    }
   ],
   "source": [
    "X_test.head()"
   ]
  },
  {
   "cell_type": "code",
   "execution_count": null,
   "metadata": {},
   "outputs": [],
   "source": []
  },
  {
   "cell_type": "code",
   "execution_count": null,
   "metadata": {},
   "outputs": [],
   "source": []
  },
  {
   "cell_type": "markdown",
   "metadata": {},
   "source": [
    "# Modeling on the scaled data:\n",
    "### Normalized data:\n",
    "\n",
    "The past_min, past_max, and past_median are in gwei and eth_high is in dollar. So, we need to normalize the data to make sure that they are in the same scale. We are using the MinMaxScaler because standardizing the data would result in negative values which are valid for past_min, past_max, past-median, and eth_high."
   ]
  },
  {
   "cell_type": "code",
   "execution_count": 149,
   "metadata": {},
   "outputs": [],
   "source": [
    "# These are the features with numerical data\n",
    "num_features = ['past_min', 'past_max', 'past_median', 'eth_high']"
   ]
  },
  {
   "cell_type": "code",
   "execution_count": 100,
   "metadata": {},
   "outputs": [
    {
     "name": "stderr",
     "output_type": "stream",
     "text": [
      "<ipython-input-100-3e05779a5fd2>:2: SettingWithCopyWarning: \n",
      "A value is trying to be set on a copy of a slice from a DataFrame.\n",
      "Try using .loc[row_indexer,col_indexer] = value instead\n",
      "\n",
      "See the caveats in the documentation: https://pandas.pydata.org/pandas-docs/stable/user_guide/indexing.html#returning-a-view-versus-a-copy\n",
      "  X_train[num_features] = min_max_3_class_scaler.fit_transform(X_train[num_features])\n",
      "/Users/sagarshahi/.envs/ether/lib/python3.9/site-packages/pandas/core/indexing.py:1738: SettingWithCopyWarning: \n",
      "A value is trying to be set on a copy of a slice from a DataFrame.\n",
      "Try using .loc[row_indexer,col_indexer] = value instead\n",
      "\n",
      "See the caveats in the documentation: https://pandas.pydata.org/pandas-docs/stable/user_guide/indexing.html#returning-a-view-versus-a-copy\n",
      "  self._setitem_single_column(loc, value[:, i].tolist(), pi)\n"
     ]
    }
   ],
   "source": [
    "# Using the MinMaxScaler.\n",
    "min_max_3_class_scaler = MinMaxScaler()\n",
    "X_train[num_features] = min_max_3_class_scaler.fit_transform(X_train[num_features])"
   ]
  },
  {
   "cell_type": "code",
   "execution_count": 102,
   "metadata": {},
   "outputs": [
    {
     "name": "stderr",
     "output_type": "stream",
     "text": [
      "<ipython-input-102-25725ce8f021>:1: SettingWithCopyWarning: \n",
      "A value is trying to be set on a copy of a slice from a DataFrame.\n",
      "Try using .loc[row_indexer,col_indexer] = value instead\n",
      "\n",
      "See the caveats in the documentation: https://pandas.pydata.org/pandas-docs/stable/user_guide/indexing.html#returning-a-view-versus-a-copy\n",
      "  X_test[num_features] = min_max_3_class_scaler.transform(X_test[num_features])\n",
      "/Users/sagarshahi/.envs/ether/lib/python3.9/site-packages/pandas/core/indexing.py:1738: SettingWithCopyWarning: \n",
      "A value is trying to be set on a copy of a slice from a DataFrame.\n",
      "Try using .loc[row_indexer,col_indexer] = value instead\n",
      "\n",
      "See the caveats in the documentation: https://pandas.pydata.org/pandas-docs/stable/user_guide/indexing.html#returning-a-view-versus-a-copy\n",
      "  self._setitem_single_column(loc, value[:, i].tolist(), pi)\n"
     ]
    }
   ],
   "source": [
    "X_test[num_features] = min_max_3_class_scaler.transform(X_test[num_features])"
   ]
  },
  {
   "cell_type": "code",
   "execution_count": 139,
   "metadata": {},
   "outputs": [],
   "source": [
    "three_class_rfc_scalled = RandomForestClassifier(n_estimators=25, min_samples_split=300, random_state=0)"
   ]
  },
  {
   "cell_type": "code",
   "execution_count": 140,
   "metadata": {},
   "outputs": [
    {
     "data": {
      "text/plain": [
       "RandomForestClassifier(min_samples_split=300, n_estimators=25, random_state=0)"
      ]
     },
     "execution_count": 140,
     "metadata": {},
     "output_type": "execute_result"
    }
   ],
   "source": [
    "three_class_rfc_scalled.fit(X_train, y_train)"
   ]
  },
  {
   "cell_type": "code",
   "execution_count": 142,
   "metadata": {},
   "outputs": [],
   "source": [
    "y_pred_scaled_train = three_class_rfc_scalled.predict(X_train)"
   ]
  },
  {
   "cell_type": "code",
   "execution_count": 143,
   "metadata": {},
   "outputs": [
    {
     "name": "stdout",
     "output_type": "stream",
     "text": [
      "              precision    recall  f1-score   support\n",
      "\n",
      "           2       0.77      0.89      0.83     82389\n",
      "           3       0.72      0.67      0.70     61878\n",
      "           4       0.67      0.00      0.00      8541\n",
      "\n",
      "    accuracy                           0.75    152808\n",
      "   macro avg       0.72      0.52      0.51    152808\n",
      "weighted avg       0.75      0.75      0.73    152808\n",
      "\n"
     ]
    }
   ],
   "source": [
    "print(classification_report(y_pred=y_pred_scaled_train, y_true=y_train))"
   ]
  },
  {
   "cell_type": "code",
   "execution_count": 144,
   "metadata": {},
   "outputs": [
    {
     "data": {
      "text/plain": [
       "array([0.13524408, 0.09337741, 0.24235324, 0.00269888, 0.52632638])"
      ]
     },
     "execution_count": 144,
     "metadata": {},
     "output_type": "execute_result"
    }
   ],
   "source": [
    "three_class_rfc_scalled.feature_importances_"
   ]
  },
  {
   "cell_type": "code",
   "execution_count": null,
   "metadata": {},
   "outputs": [],
   "source": []
  },
  {
   "cell_type": "code",
   "execution_count": 145,
   "metadata": {},
   "outputs": [
    {
     "data": {
      "image/png": "[encoded data removed]",
      "text/plain": [
       "<Figure size 432x288 with 2 Axes>"
      ]
     },
     "metadata": {
      "needs_background": "light"
     },
     "output_type": "display_data"
    }
   ],
   "source": [
    "plot_confusion_matrix(three_class_rfc_scalled, X_test, y_test)\n",
    "plt.show()"
   ]
  },
  {
   "cell_type": "code",
   "execution_count": 146,
   "metadata": {},
   "outputs": [],
   "source": [
    "y_pred_test = three_class_rfc_scalled.predict(X_test)"
   ]
  },
  {
   "cell_type": "code",
   "execution_count": 150,
   "metadata": {},
   "outputs": [
    {
     "name": "stderr",
     "output_type": "stream",
     "text": [
      "/Users/sagarshahi/.envs/ether/lib/python3.9/site-packages/sklearn/metrics/_classification.py:1248: UndefinedMetricWarning: Precision and F-score are ill-defined and being set to 0.0 in labels with no predicted samples. Use `zero_division` parameter to control this behavior.\n",
      "  _warn_prf(average, modifier, msg_start, len(result))\n"
     ]
    },
    {
     "name": "stdout",
     "output_type": "stream",
     "text": [
      "              precision    recall  f1-score   support\n",
      "\n",
      "           2       0.77      0.88      0.82     20598\n",
      "           3       0.71      0.67      0.69     15470\n",
      "           4       0.00      0.00      0.00      2135\n",
      "\n",
      "    accuracy                           0.75     38203\n",
      "   macro avg       0.49      0.52      0.50     38203\n",
      "weighted avg       0.70      0.75      0.72     38203\n",
      "\n"
     ]
    },
    {
     "name": "stderr",
     "output_type": "stream",
     "text": [
      "/Users/sagarshahi/.envs/ether/lib/python3.9/site-packages/sklearn/metrics/_classification.py:1248: UndefinedMetricWarning: Precision and F-score are ill-defined and being set to 0.0 in labels with no predicted samples. Use `zero_division` parameter to control this behavior.\n",
      "  _warn_prf(average, modifier, msg_start, len(result))\n",
      "/Users/sagarshahi/.envs/ether/lib/python3.9/site-packages/sklearn/metrics/_classification.py:1248: UndefinedMetricWarning: Precision and F-score are ill-defined and being set to 0.0 in labels with no predicted samples. Use `zero_division` parameter to control this behavior.\n",
      "  _warn_prf(average, modifier, msg_start, len(result))\n"
     ]
    }
   ],
   "source": [
    "print(classification_report(y_true=y_test, y_pred=y_pred_test))"
   ]
  },
  {
   "cell_type": "code",
   "execution_count": null,
   "metadata": {},
   "outputs": [],
   "source": []
  },
  {
   "cell_type": "code",
   "execution_count": null,
   "metadata": {},
   "outputs": [],
   "source": []
  },
  {
   "cell_type": "code",
   "execution_count": 156,
   "metadata": {},
   "outputs": [],
   "source": []
  },
  {
   "cell_type": "code",
   "execution_count": null,
   "metadata": {},
   "outputs": [],
   "source": []
  },
  {
   "cell_type": "code",
   "execution_count": null,
   "metadata": {},
   "outputs": [],
   "source": []
  },
  {
   "cell_type": "code",
   "execution_count": null,
   "metadata": {},
   "outputs": [],
   "source": []
  },
  {
   "cell_type": "code",
   "execution_count": null,
   "metadata": {},
   "outputs": [],
   "source": []
  },
  {
   "cell_type": "code",
   "execution_count": null,
   "metadata": {},
   "outputs": [],
   "source": []
  },
  {
   "cell_type": "code",
   "execution_count": null,
   "metadata": {},
   "outputs": [],
   "source": []
  },
  {
   "cell_type": "code",
   "execution_count": null,
   "metadata": {},
   "outputs": [],
   "source": []
  },
  {
   "cell_type": "code",
   "execution_count": null,
   "metadata": {},
   "outputs": [],
   "source": []
  },
  {
   "cell_type": "markdown",
   "metadata": {},
   "source": [
    "## ------------------------This portion is for the testing purposes----------------------------------"
   ]
  },
  {
   "cell_type": "code",
   "execution_count": 69,
   "metadata": {},
   "outputs": [],
   "source": [
    "two_class_less_predictors = two_class_new_df.drop(['blck_totalfee', 'blck_count'], axis=1)"
   ]
  },
  {
   "cell_type": "code",
   "execution_count": 70,
   "metadata": {},
   "outputs": [],
   "source": [
    "X = two_class_less_predictors.drop('label', axis=1)\n",
    "y = two_class_less_predictors['label']"
   ]
  },
  {
   "cell_type": "markdown",
   "metadata": {},
   "source": [
    "### Data Balancing using SMOTE"
   ]
  },
  {
   "cell_type": "code",
   "execution_count": 71,
   "metadata": {},
   "outputs": [],
   "source": [
    "smote = SMOTE(sampling_strategy='minority')"
   ]
  },
  {
   "cell_type": "code",
   "execution_count": 72,
   "metadata": {},
   "outputs": [],
   "source": [
    "X_sm, y_sm = smote.fit_resample(X, y)"
   ]
  },
  {
   "cell_type": "code",
   "execution_count": 73,
   "metadata": {},
   "outputs": [],
   "source": [
    "X_train, X_test, y_train, y_test = train_test_split(X_sm, y_sm, test_size=0.2, random_state=15, stratify=y_sm) "
   ]
  },
  {
   "cell_type": "markdown",
   "metadata": {},
   "source": [
    "#### Scale the data using MinMaxScaler"
   ]
  },
  {
   "cell_type": "code",
   "execution_count": 74,
   "metadata": {},
   "outputs": [],
   "source": [
    "min_max_scaler = MinMaxScaler()"
   ]
  },
  {
   "cell_type": "code",
   "execution_count": 75,
   "metadata": {},
   "outputs": [
    {
     "name": "stdout",
     "output_type": "stream",
     "text": [
      "['past_min', 'past_max', 'past_median', 'blck_med', 'blck_min', 'blck_max', 'blck_totalfee', 'eth_high']\n"
     ]
    }
   ],
   "source": [
    "print(numerical_features)"
   ]
  },
  {
   "cell_type": "code",
   "execution_count": 76,
   "metadata": {},
   "outputs": [],
   "source": [
    "new_numerical_features = ['past_min', 'past_max', 'past_median', 'blck_med', 'blck_min', \n",
    "                          'blck_max', 'eth_high']"
   ]
  },
  {
   "cell_type": "code",
   "execution_count": 77,
   "metadata": {},
   "outputs": [
    {
     "name": "stderr",
     "output_type": "stream",
     "text": [
      "/Library/Frameworks/Python.framework/Versions/3.7/lib/python3.7/site-packages/ipykernel_launcher.py:1: SettingWithCopyWarning: \n",
      "A value is trying to be set on a copy of a slice from a DataFrame.\n",
      "Try using .loc[row_indexer,col_indexer] = value instead\n",
      "\n",
      "See the caveats in the documentation: https://pandas.pydata.org/pandas-docs/stable/user_guide/indexing.html#returning-a-view-versus-a-copy\n",
      "  \"\"\"Entry point for launching an IPython kernel.\n",
      "/Library/Frameworks/Python.framework/Versions/3.7/lib/python3.7/site-packages/pandas/core/indexing.py:1734: SettingWithCopyWarning: \n",
      "A value is trying to be set on a copy of a slice from a DataFrame.\n",
      "Try using .loc[row_indexer,col_indexer] = value instead\n",
      "\n",
      "See the caveats in the documentation: https://pandas.pydata.org/pandas-docs/stable/user_guide/indexing.html#returning-a-view-versus-a-copy\n",
      "  isetter(loc, value[:, i].tolist())\n"
     ]
    }
   ],
   "source": [
    "X_train[new_numerical_features] = min_max_scaler.fit_transform(X_train[new_numerical_features])"
   ]
  },
  {
   "cell_type": "code",
   "execution_count": 78,
   "metadata": {},
   "outputs": [
    {
     "name": "stderr",
     "output_type": "stream",
     "text": [
      "/Library/Frameworks/Python.framework/Versions/3.7/lib/python3.7/site-packages/ipykernel_launcher.py:1: SettingWithCopyWarning: \n",
      "A value is trying to be set on a copy of a slice from a DataFrame.\n",
      "Try using .loc[row_indexer,col_indexer] = value instead\n",
      "\n",
      "See the caveats in the documentation: https://pandas.pydata.org/pandas-docs/stable/user_guide/indexing.html#returning-a-view-versus-a-copy\n",
      "  \"\"\"Entry point for launching an IPython kernel.\n",
      "/Library/Frameworks/Python.framework/Versions/3.7/lib/python3.7/site-packages/pandas/core/indexing.py:1734: SettingWithCopyWarning: \n",
      "A value is trying to be set on a copy of a slice from a DataFrame.\n",
      "Try using .loc[row_indexer,col_indexer] = value instead\n",
      "\n",
      "See the caveats in the documentation: https://pandas.pydata.org/pandas-docs/stable/user_guide/indexing.html#returning-a-view-versus-a-copy\n",
      "  isetter(loc, value[:, i].tolist())\n"
     ]
    }
   ],
   "source": [
    "X_test[new_numerical_features] = min_max_scaler.transform(X_test[new_numerical_features])"
   ]
  },
  {
   "cell_type": "markdown",
   "metadata": {},
   "source": [
    "### Model"
   ]
  },
  {
   "cell_type": "code",
   "execution_count": 79,
   "metadata": {},
   "outputs": [],
   "source": [
    "min_max_random_forest_classifier = RandomForestClassifier(n_estimators=200, min_samples_split=400, random_state=0)"
   ]
  },
  {
   "cell_type": "code",
   "execution_count": 80,
   "metadata": {},
   "outputs": [
    {
     "data": {
      "text/plain": [
       "RandomForestClassifier(min_samples_split=400, n_estimators=200, random_state=0)"
      ]
     },
     "execution_count": 80,
     "metadata": {},
     "output_type": "execute_result"
    }
   ],
   "source": [
    "min_max_random_forest_classifier.fit(X_train, y_train)"
   ]
  },
  {
   "cell_type": "code",
   "execution_count": 81,
   "metadata": {},
   "outputs": [
    {
     "data": {
      "text/plain": [
       "0.7875578805551678"
      ]
     },
     "execution_count": 81,
     "metadata": {},
     "output_type": "execute_result"
    }
   ],
   "source": [
    "min_max_random_forest_classifier.score(X_train, y_train)"
   ]
  },
  {
   "cell_type": "code",
   "execution_count": 82,
   "metadata": {},
   "outputs": [
    {
     "data": {
      "text/plain": [
       "0.7840029129748756"
      ]
     },
     "execution_count": 82,
     "metadata": {},
     "output_type": "execute_result"
    }
   ],
   "source": [
    "min_max_random_forest_classifier.score(X_test, y_test)"
   ]
  },
  {
   "cell_type": "code",
   "execution_count": 83,
   "metadata": {},
   "outputs": [],
   "source": [
    "y_pred_train = min_max_random_forest_classifier.predict(X_train)"
   ]
  },
  {
   "cell_type": "code",
   "execution_count": 84,
   "metadata": {},
   "outputs": [],
   "source": [
    "y_pred_test = min_max_random_forest_classifier.predict(X_test)"
   ]
  },
  {
   "cell_type": "code",
   "execution_count": null,
   "metadata": {},
   "outputs": [],
   "source": []
  },
  {
   "cell_type": "code",
   "execution_count": null,
   "metadata": {},
   "outputs": [],
   "source": []
  },
  {
   "cell_type": "code",
   "execution_count": null,
   "metadata": {},
   "outputs": [],
   "source": []
  },
  {
   "cell_type": "code",
   "execution_count": 47,
   "metadata": {},
   "outputs": [],
   "source": [
    "def get_measurement_matrices(true_values, predicted_values, positive_level):\n",
    "    precision = precision_score(true_values, predicted_values, pos_label=positive_level)\n",
    "    recall = recall_score(true_values, predicted_values, pos_label=positive_level)\n",
    "    f1 = f1_score(true_values, predicted_values, pos_label=positive_level)\n",
    "    print(f\"Precision score: {precision} \\n\")\n",
    "    print(f\"Recall score: {recall} \\n\")\n",
    "    print(f\"F1 score: {f1} \\n\")"
   ]
  },
  {
   "cell_type": "code",
   "execution_count": 85,
   "metadata": {},
   "outputs": [
    {
     "name": "stdout",
     "output_type": "stream",
     "text": [
      "Precision score: 0.7591642509434994 \n",
      "\n",
      "Recall score: 0.8423333211957907 \n",
      "\n",
      "F1 score: 0.7985892154380797 \n",
      "\n"
     ]
    }
   ],
   "source": [
    "get_measurement_matrices(y_train, y_pred_train, '2')"
   ]
  },
  {
   "cell_type": "code",
   "execution_count": 86,
   "metadata": {},
   "outputs": [
    {
     "name": "stdout",
     "output_type": "stream",
     "text": [
      "Precision score: 0.7549019607843137 \n",
      "\n",
      "Recall score: 0.8411010777745412 \n",
      "\n",
      "F1 score: 0.7956737393221274 \n",
      "\n"
     ]
    }
   ],
   "source": [
    "get_measurement_matrices(y_test, y_pred_test, '2')"
   ]
  },
  {
   "cell_type": "markdown",
   "metadata": {},
   "source": [
    "## Two class with some removed features"
   ]
  },
  {
   "cell_type": "code",
   "execution_count": 87,
   "metadata": {},
   "outputs": [],
   "source": [
    "reduced_forest = RandomForestClassifier(n_estimators=200, min_samples_split=400, random_state=0)"
   ]
  },
  {
   "cell_type": "code",
   "execution_count": 88,
   "metadata": {},
   "outputs": [
    {
     "data": {
      "text/html": [
       "<div>\n",
       "<style scoped>\n",
       "    .dataframe tbody tr th:only-of-type {\n",
       "        vertical-align: middle;\n",
       "    }\n",
       "\n",
       "    .dataframe tbody tr th {\n",
       "        vertical-align: top;\n",
       "    }\n",
       "\n",
       "    .dataframe thead th {\n",
       "        text-align: right;\n",
       "    }\n",
       "</style>\n",
       "<table border=\"1\" class=\"dataframe\">\n",
       "  <thead>\n",
       "    <tr style=\"text-align: right;\">\n",
       "      <th></th>\n",
       "      <th>past_min</th>\n",
       "      <th>past_max</th>\n",
       "      <th>past_median</th>\n",
       "      <th>blck_med</th>\n",
       "      <th>blck_min</th>\n",
       "      <th>blck_max</th>\n",
       "      <th>Eur_night</th>\n",
       "      <th>eth_high</th>\n",
       "    </tr>\n",
       "  </thead>\n",
       "  <tbody>\n",
       "    <tr>\n",
       "      <th>153602</th>\n",
       "      <td>0.082541</td>\n",
       "      <td>0.014417</td>\n",
       "      <td>0.090784</td>\n",
       "      <td>0.045060</td>\n",
       "      <td>0.007141</td>\n",
       "      <td>0.002971</td>\n",
       "      <td>0</td>\n",
       "      <td>0.778368</td>\n",
       "    </tr>\n",
       "    <tr>\n",
       "      <th>31785</th>\n",
       "      <td>0.020931</td>\n",
       "      <td>0.001789</td>\n",
       "      <td>0.012265</td>\n",
       "      <td>0.005730</td>\n",
       "      <td>0.014353</td>\n",
       "      <td>0.000481</td>\n",
       "      <td>0</td>\n",
       "      <td>0.029769</td>\n",
       "    </tr>\n",
       "    <tr>\n",
       "      <th>53066</th>\n",
       "      <td>0.021449</td>\n",
       "      <td>0.002203</td>\n",
       "      <td>0.012509</td>\n",
       "      <td>0.009377</td>\n",
       "      <td>0.019994</td>\n",
       "      <td>0.000948</td>\n",
       "      <td>1</td>\n",
       "      <td>0.081201</td>\n",
       "    </tr>\n",
       "    <tr>\n",
       "      <th>193974</th>\n",
       "      <td>0.053496</td>\n",
       "      <td>0.006893</td>\n",
       "      <td>0.037426</td>\n",
       "      <td>0.020500</td>\n",
       "      <td>0.051599</td>\n",
       "      <td>0.000454</td>\n",
       "      <td>0</td>\n",
       "      <td>0.664654</td>\n",
       "    </tr>\n",
       "    <tr>\n",
       "      <th>139028</th>\n",
       "      <td>0.035597</td>\n",
       "      <td>0.005037</td>\n",
       "      <td>0.028081</td>\n",
       "      <td>0.017712</td>\n",
       "      <td>0.044271</td>\n",
       "      <td>0.000638</td>\n",
       "      <td>1</td>\n",
       "      <td>0.614097</td>\n",
       "    </tr>\n",
       "  </tbody>\n",
       "</table>\n",
       "</div>"
      ],
      "text/plain": [
       "        past_min  past_max  past_median  blck_med  blck_min  blck_max  \\\n",
       "153602  0.082541  0.014417     0.090784  0.045060  0.007141  0.002971   \n",
       "31785   0.020931  0.001789     0.012265  0.005730  0.014353  0.000481   \n",
       "53066   0.021449  0.002203     0.012509  0.009377  0.019994  0.000948   \n",
       "193974  0.053496  0.006893     0.037426  0.020500  0.051599  0.000454   \n",
       "139028  0.035597  0.005037     0.028081  0.017712  0.044271  0.000638   \n",
       "\n",
       "        Eur_night  eth_high  \n",
       "153602          0  0.778368  \n",
       "31785           0  0.029769  \n",
       "53066           1  0.081201  \n",
       "193974          0  0.664654  \n",
       "139028          1  0.614097  "
      ]
     },
     "execution_count": 88,
     "metadata": {},
     "output_type": "execute_result"
    }
   ],
   "source": [
    "X_train.head()"
   ]
  },
  {
   "cell_type": "code",
   "execution_count": 89,
   "metadata": {},
   "outputs": [],
   "source": [
    "X_train_red = X_train.drop(['blck_med', 'blck_min','blck_max'], axis=1)\n",
    "X_test_red = X_test.drop(['blck_med', 'blck_min','blck_max'], axis=1)"
   ]
  },
  {
   "cell_type": "code",
   "execution_count": 98,
   "metadata": {},
   "outputs": [
    {
     "data": {
      "text/html": [
       "<div>\n",
       "<style scoped>\n",
       "    .dataframe tbody tr th:only-of-type {\n",
       "        vertical-align: middle;\n",
       "    }\n",
       "\n",
       "    .dataframe tbody tr th {\n",
       "        vertical-align: top;\n",
       "    }\n",
       "\n",
       "    .dataframe thead th {\n",
       "        text-align: right;\n",
       "    }\n",
       "</style>\n",
       "<table border=\"1\" class=\"dataframe\">\n",
       "  <thead>\n",
       "    <tr style=\"text-align: right;\">\n",
       "      <th></th>\n",
       "      <th>past_min</th>\n",
       "      <th>past_max</th>\n",
       "      <th>past_median</th>\n",
       "      <th>Eur_night</th>\n",
       "      <th>eth_high</th>\n",
       "    </tr>\n",
       "  </thead>\n",
       "  <tbody>\n",
       "    <tr>\n",
       "      <th>153602</th>\n",
       "      <td>0.082541</td>\n",
       "      <td>0.014417</td>\n",
       "      <td>0.090784</td>\n",
       "      <td>0</td>\n",
       "      <td>0.778368</td>\n",
       "    </tr>\n",
       "    <tr>\n",
       "      <th>31785</th>\n",
       "      <td>0.020931</td>\n",
       "      <td>0.001789</td>\n",
       "      <td>0.012265</td>\n",
       "      <td>0</td>\n",
       "      <td>0.029769</td>\n",
       "    </tr>\n",
       "    <tr>\n",
       "      <th>53066</th>\n",
       "      <td>0.021449</td>\n",
       "      <td>0.002203</td>\n",
       "      <td>0.012509</td>\n",
       "      <td>1</td>\n",
       "      <td>0.081201</td>\n",
       "    </tr>\n",
       "    <tr>\n",
       "      <th>193974</th>\n",
       "      <td>0.053496</td>\n",
       "      <td>0.006893</td>\n",
       "      <td>0.037426</td>\n",
       "      <td>0</td>\n",
       "      <td>0.664654</td>\n",
       "    </tr>\n",
       "    <tr>\n",
       "      <th>139028</th>\n",
       "      <td>0.035597</td>\n",
       "      <td>0.005037</td>\n",
       "      <td>0.028081</td>\n",
       "      <td>1</td>\n",
       "      <td>0.614097</td>\n",
       "    </tr>\n",
       "  </tbody>\n",
       "</table>\n",
       "</div>"
      ],
      "text/plain": [
       "        past_min  past_max  past_median  Eur_night  eth_high\n",
       "153602  0.082541  0.014417     0.090784          0  0.778368\n",
       "31785   0.020931  0.001789     0.012265          0  0.029769\n",
       "53066   0.021449  0.002203     0.012509          1  0.081201\n",
       "193974  0.053496  0.006893     0.037426          0  0.664654\n",
       "139028  0.035597  0.005037     0.028081          1  0.614097"
      ]
     },
     "execution_count": 98,
     "metadata": {},
     "output_type": "execute_result"
    }
   ],
   "source": [
    "X_train_red.head()"
   ]
  },
  {
   "cell_type": "code",
   "execution_count": 90,
   "metadata": {},
   "outputs": [
    {
     "data": {
      "text/plain": [
       "RandomForestClassifier(min_samples_split=400, n_estimators=200, random_state=0)"
      ]
     },
     "execution_count": 90,
     "metadata": {},
     "output_type": "execute_result"
    }
   ],
   "source": [
    "reduced_forest.fit(X_train_red, y_train)"
   ]
  },
  {
   "cell_type": "code",
   "execution_count": 91,
   "metadata": {},
   "outputs": [],
   "source": [
    "y_pred_red_train = reduced_forest.predict(X_train_red)"
   ]
  },
  {
   "cell_type": "code",
   "execution_count": 92,
   "metadata": {},
   "outputs": [
    {
     "name": "stdout",
     "output_type": "stream",
     "text": [
      "Precision score: 0.7531562577890482 \n",
      "\n",
      "Recall score: 0.8435470754591026 \n",
      "\n",
      "F1 score: 0.7957931137141746 \n",
      "\n"
     ]
    }
   ],
   "source": [
    "get_measurement_matrices(y_train, y_pred_red_train, '2')"
   ]
  },
  {
   "cell_type": "code",
   "execution_count": 93,
   "metadata": {},
   "outputs": [],
   "source": [
    "y_pred_red_test = reduced_forest.predict(X_test_red)"
   ]
  },
  {
   "cell_type": "code",
   "execution_count": 94,
   "metadata": {},
   "outputs": [
    {
     "name": "stdout",
     "output_type": "stream",
     "text": [
      "Precision score: 0.7500970287636379 \n",
      "\n",
      "Recall score: 0.8444509175648122 \n",
      "\n",
      "F1 score: 0.7944823806152511 \n",
      "\n"
     ]
    }
   ],
   "source": [
    "get_measurement_matrices(y_test, y_pred_red_test, '2')"
   ]
  },
  {
   "cell_type": "markdown",
   "metadata": {},
   "source": [
    "## This is for more than 2 classes"
   ]
  },
  {
   "cell_type": "code",
   "execution_count": 97,
   "metadata": {},
   "outputs": [
    {
     "name": "stdout",
     "output_type": "stream",
     "text": [
      "Counts of each label in new_cluster_df:\n",
      " 2    102987\n",
      "3     77348\n",
      "5      6449\n",
      "1      5158\n",
      "4      4227\n",
      "Name: label, dtype: int64\n",
      "------------------\n",
      "Percent of each label in new_cluster_df:\n",
      " 2    52.499121\n",
      "3    39.429268\n",
      "5     3.287472\n",
      "1     2.629365\n",
      "4     2.154775\n",
      "Name: label, dtype: float64\n",
      "------------------\n"
     ]
    }
   ],
   "source": [
    "three_ranges = [1.0, 50.00, 100.00, 150.00, 300.00, 34912.02562252]\n",
    "new_cluster_df = create_categorize(original_clean_data, 'gas_price', 'label', a_ranges)\n",
    "count_summarize(new_cluster_df, 'label', 'new_cluster_df')"
   ]
  },
  {
   "cell_type": "code",
   "execution_count": null,
   "metadata": {},
   "outputs": [],
   "source": []
  }
 ],
 "metadata": {
  "kernelspec": {
   "display_name": "Python 3",
   "language": "python",
   "name": "python3"
  },
  "language_info": {
   "codemirror_mode": {
    "name": "ipython",
    "version": 3
   },
   "file_extension": ".py",
   "mimetype": "text/x-python",
   "name": "python",
   "nbconvert_exporter": "python",
   "pygments_lexer": "ipython3",
   "version": "3.9.4"
  }
 },
 "nbformat": 4,
 "nbformat_minor": 2
}
