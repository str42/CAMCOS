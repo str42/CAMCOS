{
 "cells": [
  {
   "cell_type": "markdown",
   "metadata": {},
   "source": [
    "# Random Forest Classsification of the gas_price in ethereum network"
   ]
  },
  {
   "cell_type": "markdown",
   "metadata": {},
   "source": [
    "### Introduction:\n",
    "#### In this project, we are going to use random forest classifier to predict what price range should a user pay to have their transaction included in the ethereum blockchain."
   ]
  },
  {
   "cell_type": "code",
   "execution_count": 70,
   "metadata": {},
   "outputs": [],
   "source": [
    "# Standard imports\n",
    "import pandas as pd\n",
    "import numpy as np\n",
    "import matplotlib.pyplot as plt\n",
    "from typing import List\n",
    "\n",
    "# Transformers\n",
    "from sklearn.preprocessing import StandardScaler, MinMaxScaler\n",
    "\n",
    "# Pipelines\n",
    "from sklearn.pipeline import Pipeline\n",
    "\n",
    "# Model Selection\n",
    "from sklearn.model_selection import train_test_split, cross_val_score, KFold, GridSearchCV\n",
    "\n",
    "# Metrices\n",
    "from sklearn.metrics import accuracy_score, f1_score, recall_score, precision_score\n",
    "\n",
    "\n",
    "# Machine Learning\n",
    "from sklearn.ensemble import RandomForestClassifier\n",
    "\n",
    "\n",
    "# Balancing the dataset\n",
    "from imblearn.over_sampling import SMOTE"
   ]
  },
  {
   "cell_type": "code",
   "execution_count": null,
   "metadata": {},
   "outputs": [],
   "source": []
  },
  {
   "cell_type": "markdown",
   "metadata": {},
   "source": [
    "### Data:\n",
    "Data path:"
   ]
  },
  {
   "cell_type": "code",
   "execution_count": 2,
   "metadata": {},
   "outputs": [],
   "source": [
    "sample_data_path = '../../data/Sample_Data.csv' "
   ]
  },
  {
   "cell_type": "code",
   "execution_count": 3,
   "metadata": {},
   "outputs": [],
   "source": [
    "sample_df = pd.read_csv(sample_data_path)"
   ]
  },
  {
   "cell_type": "code",
   "execution_count": 4,
   "metadata": {},
   "outputs": [
    {
     "data": {
      "text/html": [
       "<div>\n",
       "<style scoped>\n",
       "    .dataframe tbody tr th:only-of-type {\n",
       "        vertical-align: middle;\n",
       "    }\n",
       "\n",
       "    .dataframe tbody tr th {\n",
       "        vertical-align: top;\n",
       "    }\n",
       "\n",
       "    .dataframe thead th {\n",
       "        text-align: right;\n",
       "    }\n",
       "</style>\n",
       "<table border=\"1\" class=\"dataframe\">\n",
       "  <thead>\n",
       "    <tr style=\"text-align: right;\">\n",
       "      <th></th>\n",
       "      <th>Unnamed: 0</th>\n",
       "      <th>time_stamp</th>\n",
       "      <th>block_number</th>\n",
       "      <th>hash</th>\n",
       "      <th>gas_price</th>\n",
       "      <th>receipt_gas_used</th>\n",
       "      <th>totalfee</th>\n",
       "      <th>past_min</th>\n",
       "      <th>past_max</th>\n",
       "      <th>past_median</th>\n",
       "      <th>blck_med</th>\n",
       "      <th>blck_min</th>\n",
       "      <th>blck_max</th>\n",
       "      <th>blck_totalfee</th>\n",
       "      <th>blck_count</th>\n",
       "      <th>Eur_night</th>\n",
       "      <th>eth_high</th>\n",
       "      <th>Unnamed: 0.1</th>\n",
       "    </tr>\n",
       "  </thead>\n",
       "  <tbody>\n",
       "    <tr>\n",
       "      <th>0</th>\n",
       "      <td>0</td>\n",
       "      <td>2020-10-01 00:00:31+00:00</td>\n",
       "      <td>10966876</td>\n",
       "      <td>0xfe04bf5504dadbbe3a42c7e0ff5c19df3cecbb0690dd...</td>\n",
       "      <td>75.0</td>\n",
       "      <td>46779</td>\n",
       "      <td>3508425.0</td>\n",
       "      <td>73.386952</td>\n",
       "      <td>197.470615</td>\n",
       "      <td>94.312484</td>\n",
       "      <td>75.9</td>\n",
       "      <td>66.000000</td>\n",
       "      <td>130.000001</td>\n",
       "      <td>9.158803e+08</td>\n",
       "      <td>184</td>\n",
       "      <td>0</td>\n",
       "      <td>369.286987</td>\n",
       "      <td>NaN</td>\n",
       "    </tr>\n",
       "    <tr>\n",
       "      <th>1</th>\n",
       "      <td>1</td>\n",
       "      <td>2020-10-01 00:02:53+00:00</td>\n",
       "      <td>10966884</td>\n",
       "      <td>0x86eb68f0a61cc2db2ade0106ce246b7c568723e89e7f...</td>\n",
       "      <td>90.0</td>\n",
       "      <td>112429</td>\n",
       "      <td>10118610.0</td>\n",
       "      <td>69.303340</td>\n",
       "      <td>267.901379</td>\n",
       "      <td>92.047103</td>\n",
       "      <td>84.0</td>\n",
       "      <td>75.000000</td>\n",
       "      <td>359.000000</td>\n",
       "      <td>1.324160e+09</td>\n",
       "      <td>168</td>\n",
       "      <td>0</td>\n",
       "      <td>369.286987</td>\n",
       "      <td>NaN</td>\n",
       "    </tr>\n",
       "    <tr>\n",
       "      <th>2</th>\n",
       "      <td>2</td>\n",
       "      <td>2020-10-01 00:02:53+00:00</td>\n",
       "      <td>10966884</td>\n",
       "      <td>0x9d0ba410c4938f1b0bbbae05509169b04a4f90cfccf4...</td>\n",
       "      <td>180.0</td>\n",
       "      <td>56209</td>\n",
       "      <td>10117620.0</td>\n",
       "      <td>69.303340</td>\n",
       "      <td>267.901379</td>\n",
       "      <td>92.047103</td>\n",
       "      <td>84.0</td>\n",
       "      <td>75.000000</td>\n",
       "      <td>359.000000</td>\n",
       "      <td>1.324160e+09</td>\n",
       "      <td>168</td>\n",
       "      <td>0</td>\n",
       "      <td>369.286987</td>\n",
       "      <td>NaN</td>\n",
       "    </tr>\n",
       "    <tr>\n",
       "      <th>3</th>\n",
       "      <td>3</td>\n",
       "      <td>2020-10-01 00:03:42+00:00</td>\n",
       "      <td>10966887</td>\n",
       "      <td>0xd2b0317b6a49f17974918f546615be29e9c782a42411...</td>\n",
       "      <td>73.0</td>\n",
       "      <td>26209</td>\n",
       "      <td>1913257.0</td>\n",
       "      <td>69.303340</td>\n",
       "      <td>267.901379</td>\n",
       "      <td>93.699142</td>\n",
       "      <td>75.0</td>\n",
       "      <td>70.000001</td>\n",
       "      <td>400.000000</td>\n",
       "      <td>1.260698e+09</td>\n",
       "      <td>223</td>\n",
       "      <td>0</td>\n",
       "      <td>369.286987</td>\n",
       "      <td>NaN</td>\n",
       "    </tr>\n",
       "    <tr>\n",
       "      <th>4</th>\n",
       "      <td>4</td>\n",
       "      <td>2020-10-01 00:03:47+00:00</td>\n",
       "      <td>10966888</td>\n",
       "      <td>0x40584bff51a203b97f28b6d2f83e2cbb3a8f2c706b00...</td>\n",
       "      <td>150.0</td>\n",
       "      <td>643648</td>\n",
       "      <td>96547200.0</td>\n",
       "      <td>69.303340</td>\n",
       "      <td>267.901379</td>\n",
       "      <td>90.304533</td>\n",
       "      <td>76.0</td>\n",
       "      <td>69.000100</td>\n",
       "      <td>500.000000</td>\n",
       "      <td>1.159260e+09</td>\n",
       "      <td>113</td>\n",
       "      <td>0</td>\n",
       "      <td>369.286987</td>\n",
       "      <td>NaN</td>\n",
       "    </tr>\n",
       "  </tbody>\n",
       "</table>\n",
       "</div>"
      ],
      "text/plain": [
       "   Unnamed: 0                 time_stamp  block_number  \\\n",
       "0           0  2020-10-01 00:00:31+00:00      10966876   \n",
       "1           1  2020-10-01 00:02:53+00:00      10966884   \n",
       "2           2  2020-10-01 00:02:53+00:00      10966884   \n",
       "3           3  2020-10-01 00:03:42+00:00      10966887   \n",
       "4           4  2020-10-01 00:03:47+00:00      10966888   \n",
       "\n",
       "                                                hash  gas_price  \\\n",
       "0  0xfe04bf5504dadbbe3a42c7e0ff5c19df3cecbb0690dd...       75.0   \n",
       "1  0x86eb68f0a61cc2db2ade0106ce246b7c568723e89e7f...       90.0   \n",
       "2  0x9d0ba410c4938f1b0bbbae05509169b04a4f90cfccf4...      180.0   \n",
       "3  0xd2b0317b6a49f17974918f546615be29e9c782a42411...       73.0   \n",
       "4  0x40584bff51a203b97f28b6d2f83e2cbb3a8f2c706b00...      150.0   \n",
       "\n",
       "   receipt_gas_used    totalfee   past_min    past_max  past_median  blck_med  \\\n",
       "0             46779   3508425.0  73.386952  197.470615    94.312484      75.9   \n",
       "1            112429  10118610.0  69.303340  267.901379    92.047103      84.0   \n",
       "2             56209  10117620.0  69.303340  267.901379    92.047103      84.0   \n",
       "3             26209   1913257.0  69.303340  267.901379    93.699142      75.0   \n",
       "4            643648  96547200.0  69.303340  267.901379    90.304533      76.0   \n",
       "\n",
       "    blck_min    blck_max  blck_totalfee  blck_count  Eur_night    eth_high  \\\n",
       "0  66.000000  130.000001   9.158803e+08         184          0  369.286987   \n",
       "1  75.000000  359.000000   1.324160e+09         168          0  369.286987   \n",
       "2  75.000000  359.000000   1.324160e+09         168          0  369.286987   \n",
       "3  70.000001  400.000000   1.260698e+09         223          0  369.286987   \n",
       "4  69.000100  500.000000   1.159260e+09         113          0  369.286987   \n",
       "\n",
       "   Unnamed: 0.1  \n",
       "0           NaN  \n",
       "1           NaN  \n",
       "2           NaN  \n",
       "3           NaN  \n",
       "4           NaN  "
      ]
     },
     "execution_count": 4,
     "metadata": {},
     "output_type": "execute_result"
    }
   ],
   "source": [
    "sample_df.head()"
   ]
  },
  {
   "cell_type": "markdown",
   "metadata": {},
   "source": [
    "### Clean the dataframe and categorize the features based on their dtypes.\n",
    "#### Steps:\n",
    "##### 1: Remove the unnecessary features like Unnamed: 0, time_stamp, and block_number features. \n",
    "##### 2. Find the categorize the numerical and categorical features."
   ]
  },
  {
   "cell_type": "code",
   "execution_count": 5,
   "metadata": {},
   "outputs": [
    {
     "data": {
      "text/plain": [
       "Index(['Unnamed: 0', 'time_stamp', 'block_number', 'hash', 'gas_price',\n",
       "       'receipt_gas_used', 'totalfee', 'past_min', 'past_max', 'past_median',\n",
       "       'blck_med', 'blck_min', 'blck_max', 'blck_totalfee', 'blck_count',\n",
       "       'Eur_night', 'eth_high', 'Unnamed: 0.1'],\n",
       "      dtype='object')"
      ]
     },
     "execution_count": 5,
     "metadata": {},
     "output_type": "execute_result"
    }
   ],
   "source": [
    "sample_df.columns"
   ]
  },
  {
   "cell_type": "code",
   "execution_count": 6,
   "metadata": {},
   "outputs": [],
   "source": [
    "drop_features = ['Unnamed: 0', 'time_stamp', 'block_number', 'hash', 'Unnamed: 0.1', 'receipt_gas_used', 'totalfee']\n",
    "numerical_features = ['past_min', 'past_max', 'past_median', 'blck_med', 'blck_min', 'blck_max', 'blck_totalfee', \n",
    "                      'eth_high']\n",
    "categorical_features = ['Eur_night','blck_count']"
   ]
  },
  {
   "cell_type": "code",
   "execution_count": 7,
   "metadata": {},
   "outputs": [],
   "source": [
    "# This is the original copy of the data after removing the unnecessary data.\n",
    "original_clean_data = sample_df.drop(drop_features, axis=1)"
   ]
  },
  {
   "cell_type": "markdown",
   "metadata": {},
   "source": [
    "## Original state of data frame"
   ]
  },
  {
   "cell_type": "code",
   "execution_count": 8,
   "metadata": {},
   "outputs": [
    {
     "data": {
      "text/html": [
       "<div>\n",
       "<style scoped>\n",
       "    .dataframe tbody tr th:only-of-type {\n",
       "        vertical-align: middle;\n",
       "    }\n",
       "\n",
       "    .dataframe tbody tr th {\n",
       "        vertical-align: top;\n",
       "    }\n",
       "\n",
       "    .dataframe thead th {\n",
       "        text-align: right;\n",
       "    }\n",
       "</style>\n",
       "<table border=\"1\" class=\"dataframe\">\n",
       "  <thead>\n",
       "    <tr style=\"text-align: right;\">\n",
       "      <th></th>\n",
       "      <th>gas_price</th>\n",
       "      <th>past_min</th>\n",
       "      <th>past_max</th>\n",
       "      <th>past_median</th>\n",
       "      <th>blck_med</th>\n",
       "      <th>blck_min</th>\n",
       "      <th>blck_max</th>\n",
       "      <th>blck_totalfee</th>\n",
       "      <th>blck_count</th>\n",
       "      <th>Eur_night</th>\n",
       "      <th>eth_high</th>\n",
       "    </tr>\n",
       "  </thead>\n",
       "  <tbody>\n",
       "    <tr>\n",
       "      <th>0</th>\n",
       "      <td>75.0</td>\n",
       "      <td>73.386952</td>\n",
       "      <td>197.470615</td>\n",
       "      <td>94.312484</td>\n",
       "      <td>75.9</td>\n",
       "      <td>66.000000</td>\n",
       "      <td>130.000001</td>\n",
       "      <td>9.158803e+08</td>\n",
       "      <td>184</td>\n",
       "      <td>0</td>\n",
       "      <td>369.286987</td>\n",
       "    </tr>\n",
       "    <tr>\n",
       "      <th>1</th>\n",
       "      <td>90.0</td>\n",
       "      <td>69.303340</td>\n",
       "      <td>267.901379</td>\n",
       "      <td>92.047103</td>\n",
       "      <td>84.0</td>\n",
       "      <td>75.000000</td>\n",
       "      <td>359.000000</td>\n",
       "      <td>1.324160e+09</td>\n",
       "      <td>168</td>\n",
       "      <td>0</td>\n",
       "      <td>369.286987</td>\n",
       "    </tr>\n",
       "    <tr>\n",
       "      <th>2</th>\n",
       "      <td>180.0</td>\n",
       "      <td>69.303340</td>\n",
       "      <td>267.901379</td>\n",
       "      <td>92.047103</td>\n",
       "      <td>84.0</td>\n",
       "      <td>75.000000</td>\n",
       "      <td>359.000000</td>\n",
       "      <td>1.324160e+09</td>\n",
       "      <td>168</td>\n",
       "      <td>0</td>\n",
       "      <td>369.286987</td>\n",
       "    </tr>\n",
       "    <tr>\n",
       "      <th>3</th>\n",
       "      <td>73.0</td>\n",
       "      <td>69.303340</td>\n",
       "      <td>267.901379</td>\n",
       "      <td>93.699142</td>\n",
       "      <td>75.0</td>\n",
       "      <td>70.000001</td>\n",
       "      <td>400.000000</td>\n",
       "      <td>1.260698e+09</td>\n",
       "      <td>223</td>\n",
       "      <td>0</td>\n",
       "      <td>369.286987</td>\n",
       "    </tr>\n",
       "    <tr>\n",
       "      <th>4</th>\n",
       "      <td>150.0</td>\n",
       "      <td>69.303340</td>\n",
       "      <td>267.901379</td>\n",
       "      <td>90.304533</td>\n",
       "      <td>76.0</td>\n",
       "      <td>69.000100</td>\n",
       "      <td>500.000000</td>\n",
       "      <td>1.159260e+09</td>\n",
       "      <td>113</td>\n",
       "      <td>0</td>\n",
       "      <td>369.286987</td>\n",
       "    </tr>\n",
       "  </tbody>\n",
       "</table>\n",
       "</div>"
      ],
      "text/plain": [
       "   gas_price   past_min    past_max  past_median  blck_med   blck_min  \\\n",
       "0       75.0  73.386952  197.470615    94.312484      75.9  66.000000   \n",
       "1       90.0  69.303340  267.901379    92.047103      84.0  75.000000   \n",
       "2      180.0  69.303340  267.901379    92.047103      84.0  75.000000   \n",
       "3       73.0  69.303340  267.901379    93.699142      75.0  70.000001   \n",
       "4      150.0  69.303340  267.901379    90.304533      76.0  69.000100   \n",
       "\n",
       "     blck_max  blck_totalfee  blck_count  Eur_night    eth_high  \n",
       "0  130.000001   9.158803e+08         184          0  369.286987  \n",
       "1  359.000000   1.324160e+09         168          0  369.286987  \n",
       "2  359.000000   1.324160e+09         168          0  369.286987  \n",
       "3  400.000000   1.260698e+09         223          0  369.286987  \n",
       "4  500.000000   1.159260e+09         113          0  369.286987  "
      ]
     },
     "execution_count": 8,
     "metadata": {},
     "output_type": "execute_result"
    }
   ],
   "source": [
    "original_clean_data.head()"
   ]
  },
  {
   "cell_type": "code",
   "execution_count": 9,
   "metadata": {},
   "outputs": [
    {
     "name": "stdout",
     "output_type": "stream",
     "text": [
      "<class 'pandas.core.frame.DataFrame'>\n",
      "RangeIndex: 200000 entries, 0 to 199999\n",
      "Data columns (total 11 columns):\n",
      " #   Column         Non-Null Count   Dtype  \n",
      "---  ------         --------------   -----  \n",
      " 0   gas_price      200000 non-null  float64\n",
      " 1   past_min       200000 non-null  float64\n",
      " 2   past_max       200000 non-null  float64\n",
      " 3   past_median    200000 non-null  float64\n",
      " 4   blck_med       200000 non-null  float64\n",
      " 5   blck_min       200000 non-null  float64\n",
      " 6   blck_max       200000 non-null  float64\n",
      " 7   blck_totalfee  200000 non-null  float64\n",
      " 8   blck_count     200000 non-null  int64  \n",
      " 9   Eur_night      200000 non-null  int64  \n",
      " 10  eth_high       196169 non-null  float64\n",
      "dtypes: float64(9), int64(2)\n",
      "memory usage: 16.8 MB\n"
     ]
    }
   ],
   "source": [
    "original_clean_data.info()"
   ]
  },
  {
   "cell_type": "code",
   "execution_count": 10,
   "metadata": {},
   "outputs": [],
   "source": [
    "# remove observations with na\n",
    "original_clean_data.dropna(axis=0, inplace=True)"
   ]
  },
  {
   "cell_type": "markdown",
   "metadata": {},
   "source": [
    "### Data for exploration"
   ]
  },
  {
   "cell_type": "code",
   "execution_count": 11,
   "metadata": {},
   "outputs": [],
   "source": [
    "dds = sample_df.drop(drop_features, axis=1)"
   ]
  },
  {
   "cell_type": "code",
   "execution_count": 12,
   "metadata": {},
   "outputs": [],
   "source": [
    "dds.dropna(axis=0, inplace=True)"
   ]
  },
  {
   "cell_type": "code",
   "execution_count": 13,
   "metadata": {},
   "outputs": [
    {
     "name": "stdout",
     "output_type": "stream",
     "text": [
      "<class 'pandas.core.frame.DataFrame'>\n",
      "Int64Index: 196169 entries, 0 to 199999\n",
      "Data columns (total 11 columns):\n",
      " #   Column         Non-Null Count   Dtype  \n",
      "---  ------         --------------   -----  \n",
      " 0   gas_price      196169 non-null  float64\n",
      " 1   past_min       196169 non-null  float64\n",
      " 2   past_max       196169 non-null  float64\n",
      " 3   past_median    196169 non-null  float64\n",
      " 4   blck_med       196169 non-null  float64\n",
      " 5   blck_min       196169 non-null  float64\n",
      " 6   blck_max       196169 non-null  float64\n",
      " 7   blck_totalfee  196169 non-null  float64\n",
      " 8   blck_count     196169 non-null  int64  \n",
      " 9   Eur_night      196169 non-null  int64  \n",
      " 10  eth_high       196169 non-null  float64\n",
      "dtypes: float64(9), int64(2)\n",
      "memory usage: 18.0 MB\n"
     ]
    }
   ],
   "source": [
    "dds.info()"
   ]
  },
  {
   "cell_type": "code",
   "execution_count": null,
   "metadata": {},
   "outputs": [],
   "source": [
    "scale = StandardScaler()\n",
    "dds[numerical_features] = scale.fit_transform(dds[numerical_features])"
   ]
  },
  {
   "cell_type": "code",
   "execution_count": null,
   "metadata": {},
   "outputs": [],
   "source": []
  },
  {
   "cell_type": "markdown",
   "metadata": {},
   "source": [
    "## Get the labels from the different gas price ranges.\n",
    "#### The ranges were taken from K-mean cluster. They are given as follows:\n",
    "1. ranges_4_clusters = [177.91976034, 3000.0, 12699.05, 34912.02562252]\n",
    "2. ranges_5_clusters = [129.88, 429.681, 3352.85825472, 12699.04775591, 34912.02562252]\n",
    "3. ranges_6_clusters = [87.45000222, 196.802, 489.5, 3352.85825472, 12699.04775591, 34912.02562252]\n",
    "\n",
    "In this part of the code, we will create different levels based on the ranges above. For each of the ranges, we will have one level. For example for ranges_4_clusters, we will have 4 labels. Ranges_5_cluster  and Ranges_6_cluster will have 5 and 6 ranges respectively."
   ]
  },
  {
   "cell_type": "markdown",
   "metadata": {},
   "source": [
    "#### The original dataset after scaled.\n",
    "1. gas_price is the response variable\n",
    "2. Everything else are the predictors.\n",
    "3. We are going to break the gas_price into different labels to categorize different ranges for the gas_price."
   ]
  },
  {
   "cell_type": "code",
   "execution_count": 14,
   "metadata": {},
   "outputs": [
    {
     "data": {
      "text/html": [
       "<div>\n",
       "<style scoped>\n",
       "    .dataframe tbody tr th:only-of-type {\n",
       "        vertical-align: middle;\n",
       "    }\n",
       "\n",
       "    .dataframe tbody tr th {\n",
       "        vertical-align: top;\n",
       "    }\n",
       "\n",
       "    .dataframe thead th {\n",
       "        text-align: right;\n",
       "    }\n",
       "</style>\n",
       "<table border=\"1\" class=\"dataframe\">\n",
       "  <thead>\n",
       "    <tr style=\"text-align: right;\">\n",
       "      <th></th>\n",
       "      <th>gas_price</th>\n",
       "      <th>past_min</th>\n",
       "      <th>past_max</th>\n",
       "      <th>past_median</th>\n",
       "      <th>blck_med</th>\n",
       "      <th>blck_min</th>\n",
       "      <th>blck_max</th>\n",
       "      <th>blck_totalfee</th>\n",
       "      <th>blck_count</th>\n",
       "      <th>Eur_night</th>\n",
       "      <th>eth_high</th>\n",
       "    </tr>\n",
       "  </thead>\n",
       "  <tbody>\n",
       "    <tr>\n",
       "      <th>0</th>\n",
       "      <td>75.0</td>\n",
       "      <td>73.386952</td>\n",
       "      <td>197.470615</td>\n",
       "      <td>94.312484</td>\n",
       "      <td>75.9</td>\n",
       "      <td>66.000000</td>\n",
       "      <td>130.000001</td>\n",
       "      <td>9.158803e+08</td>\n",
       "      <td>184</td>\n",
       "      <td>0</td>\n",
       "      <td>369.286987</td>\n",
       "    </tr>\n",
       "    <tr>\n",
       "      <th>1</th>\n",
       "      <td>90.0</td>\n",
       "      <td>69.303340</td>\n",
       "      <td>267.901379</td>\n",
       "      <td>92.047103</td>\n",
       "      <td>84.0</td>\n",
       "      <td>75.000000</td>\n",
       "      <td>359.000000</td>\n",
       "      <td>1.324160e+09</td>\n",
       "      <td>168</td>\n",
       "      <td>0</td>\n",
       "      <td>369.286987</td>\n",
       "    </tr>\n",
       "    <tr>\n",
       "      <th>2</th>\n",
       "      <td>180.0</td>\n",
       "      <td>69.303340</td>\n",
       "      <td>267.901379</td>\n",
       "      <td>92.047103</td>\n",
       "      <td>84.0</td>\n",
       "      <td>75.000000</td>\n",
       "      <td>359.000000</td>\n",
       "      <td>1.324160e+09</td>\n",
       "      <td>168</td>\n",
       "      <td>0</td>\n",
       "      <td>369.286987</td>\n",
       "    </tr>\n",
       "    <tr>\n",
       "      <th>3</th>\n",
       "      <td>73.0</td>\n",
       "      <td>69.303340</td>\n",
       "      <td>267.901379</td>\n",
       "      <td>93.699142</td>\n",
       "      <td>75.0</td>\n",
       "      <td>70.000001</td>\n",
       "      <td>400.000000</td>\n",
       "      <td>1.260698e+09</td>\n",
       "      <td>223</td>\n",
       "      <td>0</td>\n",
       "      <td>369.286987</td>\n",
       "    </tr>\n",
       "    <tr>\n",
       "      <th>4</th>\n",
       "      <td>150.0</td>\n",
       "      <td>69.303340</td>\n",
       "      <td>267.901379</td>\n",
       "      <td>90.304533</td>\n",
       "      <td>76.0</td>\n",
       "      <td>69.000100</td>\n",
       "      <td>500.000000</td>\n",
       "      <td>1.159260e+09</td>\n",
       "      <td>113</td>\n",
       "      <td>0</td>\n",
       "      <td>369.286987</td>\n",
       "    </tr>\n",
       "  </tbody>\n",
       "</table>\n",
       "</div>"
      ],
      "text/plain": [
       "   gas_price   past_min    past_max  past_median  blck_med   blck_min  \\\n",
       "0       75.0  73.386952  197.470615    94.312484      75.9  66.000000   \n",
       "1       90.0  69.303340  267.901379    92.047103      84.0  75.000000   \n",
       "2      180.0  69.303340  267.901379    92.047103      84.0  75.000000   \n",
       "3       73.0  69.303340  267.901379    93.699142      75.0  70.000001   \n",
       "4      150.0  69.303340  267.901379    90.304533      76.0  69.000100   \n",
       "\n",
       "     blck_max  blck_totalfee  blck_count  Eur_night    eth_high  \n",
       "0  130.000001   9.158803e+08         184          0  369.286987  \n",
       "1  359.000000   1.324160e+09         168          0  369.286987  \n",
       "2  359.000000   1.324160e+09         168          0  369.286987  \n",
       "3  400.000000   1.260698e+09         223          0  369.286987  \n",
       "4  500.000000   1.159260e+09         113          0  369.286987  "
      ]
     },
     "execution_count": 14,
     "metadata": {},
     "output_type": "execute_result"
    }
   ],
   "source": [
    "dds.head()"
   ]
  },
  {
   "cell_type": "markdown",
   "metadata": {},
   "source": [
    "### Step 1: Get different labels for different gar_price ranges"
   ]
  },
  {
   "cell_type": "code",
   "execution_count": 15,
   "metadata": {},
   "outputs": [],
   "source": [
    "    def create_categorize(data_frame: pd.DataFrame, feature: str, label: str, ranges: List[float]):\n",
    "        \"\"\"\n",
    "        This function will create label based on the values in feature columns.\n",
    "        :param feature: The feature column that you want to use to create label.\n",
    "        :param label: The label column that you want to create based on the values in feature column.\n",
    "        :param ranges: The ranges of value in feature column that you want to use to create the label column.\n",
    "        :return: Create a column in the dataframe called label.\n",
    "        \"\"\"\n",
    "        data_frame = data_frame.copy(deep=True)\n",
    "        if not len(ranges):\n",
    "            raise ValueError(\"The ranges list is empty\")\n",
    "        for i, val in enumerate(ranges):\n",
    "            if i == 0:\n",
    "                data_frame.loc[data_frame[data_frame[feature] <= val].index, label] = str(i + 1)\n",
    "                continue\n",
    "            data_frame.loc[data_frame[(data_frame[feature] <= val) &\n",
    "                                                (data_frame[feature] > ranges[i - 1])].index, label] = str(i + 1)\n",
    "        data_frame = data_frame.drop([feature], axis=1)\n",
    "        return data_frame.sort_index()"
   ]
  },
  {
   "cell_type": "code",
   "execution_count": 16,
   "metadata": {},
   "outputs": [],
   "source": [
    "ranges_4_clusters = [177.91976034, 3000.0, 12699.05, 34912.02562252]\n",
    "ranges_5_clusters = [129.88, 429.681, 3352.85825472, 12699.04775591, 34912.02562252]\n",
    "ranges_6_clusters = [87.45000222, 196.802, 489.5, 3352.85825472, 12699.04775591, 34912.02562252]"
   ]
  },
  {
   "cell_type": "code",
   "execution_count": 17,
   "metadata": {},
   "outputs": [],
   "source": [
    "df_4_cluster = create_categorize(dds, \"gas_price\", \"label\", ranges_4_clusters)\n",
    "df_5_cluster = create_categorize(dds, \"gas_price\", \"label\", ranges_5_clusters)\n",
    "df_6_cluster = create_categorize(dds, \"gas_price\", \"label\", ranges_6_clusters)"
   ]
  },
  {
   "cell_type": "markdown",
   "metadata": {},
   "source": [
    "### Create a function that will summarize value counts for each of the labels"
   ]
  },
  {
   "cell_type": "code",
   "execution_count": 18,
   "metadata": {},
   "outputs": [],
   "source": [
    "def count_summarize(data_frame: pd.DataFrame, label: str, data_frame_name: str):\n",
    "    \"\"\"\n",
    "    This function will return a summary of label in the given dataframe. It will return their counts and ratios\n",
    "    in the dataframe.\n",
    "    \"\"\"\n",
    "    if label not in data_frame.columns:\n",
    "        raise AttributeError(f\"Feature {label} not found in the dataframe\")\n",
    "    counts = data_frame[label].value_counts()\n",
    "    percents = counts.apply(lambda x: (x*100)/counts.sum())\n",
    "    print(f\"Counts of each label in {data_frame_name}:\\n {counts}\\n------------------\")\n",
    "    print(f\"Percent of each label in {data_frame_name}:\\n {percents}\\n------------------\")"
   ]
  },
  {
   "cell_type": "markdown",
   "metadata": {},
   "source": [
    "### Show the count in the different groups for each cluster"
   ]
  },
  {
   "cell_type": "code",
   "execution_count": 19,
   "metadata": {},
   "outputs": [
    {
     "name": "stdout",
     "output_type": "stream",
     "text": [
      "Counts of each label in df_4_cluster:\n",
      " 1    169482\n",
      "2     26614\n",
      "3        64\n",
      "4         9\n",
      "Name: label, dtype: int64\n",
      "------------------\n",
      "Percent of each label in df_4_cluster:\n",
      " 1    86.395914\n",
      "2    13.566873\n",
      "3     0.032625\n",
      "4     0.004588\n",
      "Name: label, dtype: float64\n",
      "------------------\n",
      "Counts of each label in df_5_cluster:\n",
      " 1    148969\n",
      "2     44318\n",
      "3      2820\n",
      "4        53\n",
      "5         9\n",
      "Name: label, dtype: int64\n",
      "------------------\n",
      "Percent of each label in df_5_cluster:\n",
      " 1    75.939114\n",
      "2    22.591745\n",
      "3     1.437536\n",
      "4     0.027018\n",
      "5     0.004588\n",
      "Name: label, dtype: float64\n",
      "------------------\n",
      "Counts of each label in df_6_cluster:\n",
      " 1    115384\n",
      "2     59380\n",
      "3     19134\n",
      "4      2209\n",
      "5        53\n",
      "6         9\n",
      "Name: label, dtype: int64\n",
      "------------------\n",
      "Percent of each label in df_6_cluster:\n",
      " 1    58.818672\n",
      "2    30.269818\n",
      "3     9.753835\n",
      "4     1.126070\n",
      "5     0.027018\n",
      "6     0.004588\n",
      "Name: label, dtype: float64\n",
      "------------------\n"
     ]
    }
   ],
   "source": [
    "count_summarize(df_4_cluster, 'label', 'df_4_cluster')\n",
    "count_summarize(df_5_cluster, 'label', 'df_5_cluster')\n",
    "count_summarize(df_6_cluster, 'label', 'df_6_cluster')"
   ]
  },
  {
   "cell_type": "code",
   "execution_count": null,
   "metadata": {},
   "outputs": [],
   "source": []
  },
  {
   "cell_type": "code",
   "execution_count": null,
   "metadata": {},
   "outputs": [],
   "source": []
  },
  {
   "cell_type": "markdown",
   "metadata": {},
   "source": [
    "#### Summary of the labeling:\n",
    "\n",
    "It looks like our data set is very imbalanced. For 4 cluster and 5 cluster data, we have the most imbalanced data.\n",
    "More than 75% of the total data in 4 and 5 clusters belong to label 1. So, any machine learning model will have a problem with this type of dataset. We need to take care of the data imbalance problem in cluster 4 and 5. The problem is not as bad in cluster 6 but we will still need to balance the data to make sure there is no bias in the model.\n",
    "\n",
    "#### Steps forward:\n",
    "1. Select the proper cluster that is easier to balance the data in i.e we don't have as bad of the data imbalance problem as in other cluster. \n",
    "2. Balance the data in that cluster using methods like under sampling, oversampling, and SMOTE (Synthetic Minority Oversampling Technique.)\n",
    "3. Use machine learning models for each on the data produced after applying data balancing techniques."
   ]
  },
  {
   "cell_type": "markdown",
   "metadata": {},
   "source": [
    "### Analysis:\n",
    "\n",
    "After doing some analysis, I found that a very low ratio of transaction pay one on less gwei in transaction gas_price:\n"
   ]
  },
  {
   "cell_type": "code",
   "execution_count": 20,
   "metadata": {},
   "outputs": [
    {
     "name": "stdout",
     "output_type": "stream",
     "text": [
      "Counts of each label in new_cluster_df:\n",
      " 2    110226\n",
      "3     74336\n",
      "4      6440\n",
      "1      5158\n",
      "5         9\n",
      "Name: label, dtype: int64\n",
      "------------------\n",
      "Percent of each label in new_cluster_df:\n",
      " 2    56.189306\n",
      "3    37.893857\n",
      "4     3.282884\n",
      "1     2.629365\n",
      "5     0.004588\n",
      "Name: label, dtype: float64\n",
      "------------------\n"
     ]
    }
   ],
   "source": [
    "a_ranges = [1.0, 87.45000222, 300.00, 12699.04775591, 34912.02562252]\n",
    "new_cluster_df = create_categorize(original_clean_data, 'gas_price', 'label', a_ranges)\n",
    "count_summarize(new_cluster_df, 'label', 'new_cluster_df')"
   ]
  },
  {
   "cell_type": "code",
   "execution_count": 21,
   "metadata": {},
   "outputs": [],
   "source": [
    "two_class_new_df = new_cluster_df[(new_cluster_df['label'] == '2') | (new_cluster_df['label'] == '3')]"
   ]
  },
  {
   "cell_type": "code",
   "execution_count": 22,
   "metadata": {},
   "outputs": [
    {
     "data": {
      "text/html": [
       "<div>\n",
       "<style scoped>\n",
       "    .dataframe tbody tr th:only-of-type {\n",
       "        vertical-align: middle;\n",
       "    }\n",
       "\n",
       "    .dataframe tbody tr th {\n",
       "        vertical-align: top;\n",
       "    }\n",
       "\n",
       "    .dataframe thead th {\n",
       "        text-align: right;\n",
       "    }\n",
       "</style>\n",
       "<table border=\"1\" class=\"dataframe\">\n",
       "  <thead>\n",
       "    <tr style=\"text-align: right;\">\n",
       "      <th></th>\n",
       "      <th>past_min</th>\n",
       "      <th>past_max</th>\n",
       "      <th>past_median</th>\n",
       "      <th>blck_med</th>\n",
       "      <th>blck_min</th>\n",
       "      <th>blck_max</th>\n",
       "      <th>blck_totalfee</th>\n",
       "      <th>blck_count</th>\n",
       "      <th>Eur_night</th>\n",
       "      <th>eth_high</th>\n",
       "      <th>label</th>\n",
       "    </tr>\n",
       "  </thead>\n",
       "  <tbody>\n",
       "    <tr>\n",
       "      <th>0</th>\n",
       "      <td>73.386952</td>\n",
       "      <td>197.470615</td>\n",
       "      <td>94.312484</td>\n",
       "      <td>75.9</td>\n",
       "      <td>66.000000</td>\n",
       "      <td>130.000001</td>\n",
       "      <td>9.158803e+08</td>\n",
       "      <td>184</td>\n",
       "      <td>0</td>\n",
       "      <td>369.286987</td>\n",
       "      <td>2</td>\n",
       "    </tr>\n",
       "    <tr>\n",
       "      <th>1</th>\n",
       "      <td>69.303340</td>\n",
       "      <td>267.901379</td>\n",
       "      <td>92.047103</td>\n",
       "      <td>84.0</td>\n",
       "      <td>75.000000</td>\n",
       "      <td>359.000000</td>\n",
       "      <td>1.324160e+09</td>\n",
       "      <td>168</td>\n",
       "      <td>0</td>\n",
       "      <td>369.286987</td>\n",
       "      <td>3</td>\n",
       "    </tr>\n",
       "    <tr>\n",
       "      <th>2</th>\n",
       "      <td>69.303340</td>\n",
       "      <td>267.901379</td>\n",
       "      <td>92.047103</td>\n",
       "      <td>84.0</td>\n",
       "      <td>75.000000</td>\n",
       "      <td>359.000000</td>\n",
       "      <td>1.324160e+09</td>\n",
       "      <td>168</td>\n",
       "      <td>0</td>\n",
       "      <td>369.286987</td>\n",
       "      <td>3</td>\n",
       "    </tr>\n",
       "    <tr>\n",
       "      <th>3</th>\n",
       "      <td>69.303340</td>\n",
       "      <td>267.901379</td>\n",
       "      <td>93.699142</td>\n",
       "      <td>75.0</td>\n",
       "      <td>70.000001</td>\n",
       "      <td>400.000000</td>\n",
       "      <td>1.260698e+09</td>\n",
       "      <td>223</td>\n",
       "      <td>0</td>\n",
       "      <td>369.286987</td>\n",
       "      <td>2</td>\n",
       "    </tr>\n",
       "    <tr>\n",
       "      <th>4</th>\n",
       "      <td>69.303340</td>\n",
       "      <td>267.901379</td>\n",
       "      <td>90.304533</td>\n",
       "      <td>76.0</td>\n",
       "      <td>69.000100</td>\n",
       "      <td>500.000000</td>\n",
       "      <td>1.159260e+09</td>\n",
       "      <td>113</td>\n",
       "      <td>0</td>\n",
       "      <td>369.286987</td>\n",
       "      <td>3</td>\n",
       "    </tr>\n",
       "  </tbody>\n",
       "</table>\n",
       "</div>"
      ],
      "text/plain": [
       "    past_min    past_max  past_median  blck_med   blck_min    blck_max  \\\n",
       "0  73.386952  197.470615    94.312484      75.9  66.000000  130.000001   \n",
       "1  69.303340  267.901379    92.047103      84.0  75.000000  359.000000   \n",
       "2  69.303340  267.901379    92.047103      84.0  75.000000  359.000000   \n",
       "3  69.303340  267.901379    93.699142      75.0  70.000001  400.000000   \n",
       "4  69.303340  267.901379    90.304533      76.0  69.000100  500.000000   \n",
       "\n",
       "   blck_totalfee  blck_count  Eur_night    eth_high label  \n",
       "0   9.158803e+08         184          0  369.286987     2  \n",
       "1   1.324160e+09         168          0  369.286987     3  \n",
       "2   1.324160e+09         168          0  369.286987     3  \n",
       "3   1.260698e+09         223          0  369.286987     2  \n",
       "4   1.159260e+09         113          0  369.286987     3  "
      ]
     },
     "execution_count": 22,
     "metadata": {},
     "output_type": "execute_result"
    }
   ],
   "source": [
    "two_class_new_df.head()"
   ]
  },
  {
   "cell_type": "code",
   "execution_count": 96,
   "metadata": {},
   "outputs": [],
   "source": [
    "two_class_less_predictors = two_class_new_df.drop(['blck_totalfee', 'blck_count'], axis=1)"
   ]
  },
  {
   "cell_type": "code",
   "execution_count": 97,
   "metadata": {},
   "outputs": [],
   "source": [
    "X = two_class_less_predictors.drop('label', axis=1)\n",
    "y = two_class_less_predictors['label']"
   ]
  },
  {
   "cell_type": "markdown",
   "metadata": {},
   "source": [
    "### Data Balancing using SMOTE"
   ]
  },
  {
   "cell_type": "code",
   "execution_count": 98,
   "metadata": {},
   "outputs": [],
   "source": [
    "smote = SMOTE(sampling_strategy='minority')"
   ]
  },
  {
   "cell_type": "code",
   "execution_count": 99,
   "metadata": {},
   "outputs": [],
   "source": [
    "X_sm, y_sm = smote.fit_resample(X, y)"
   ]
  },
  {
   "cell_type": "code",
   "execution_count": 100,
   "metadata": {},
   "outputs": [],
   "source": [
    "X_train, X_test, y_train, y_test = train_test_split(X_sm, y_sm, test_size=0.2, random_state=15, stratify=y_sm) "
   ]
  },
  {
   "cell_type": "markdown",
   "metadata": {},
   "source": [
    "#### Scale the data using MinMaxScaler"
   ]
  },
  {
   "cell_type": "code",
   "execution_count": 101,
   "metadata": {},
   "outputs": [],
   "source": [
    "min_max_scaler = MinMaxScaler()"
   ]
  },
  {
   "cell_type": "code",
   "execution_count": 104,
   "metadata": {},
   "outputs": [
    {
     "name": "stdout",
     "output_type": "stream",
     "text": [
      "['past_min', 'past_max', 'past_median', 'blck_med', 'blck_min', 'blck_max', 'blck_totalfee', 'eth_high']\n"
     ]
    }
   ],
   "source": [
    "print(numerical_features)"
   ]
  },
  {
   "cell_type": "code",
   "execution_count": 105,
   "metadata": {},
   "outputs": [],
   "source": [
    "new_numerical_features = ['past_min', 'past_max', 'past_median', 'blck_med', 'blck_min', \n",
    "                          'blck_max', 'eth_high']"
   ]
  },
  {
   "cell_type": "code",
   "execution_count": 106,
   "metadata": {},
   "outputs": [
    {
     "name": "stderr",
     "output_type": "stream",
     "text": [
      "/Library/Frameworks/Python.framework/Versions/3.7/lib/python3.7/site-packages/ipykernel_launcher.py:1: SettingWithCopyWarning: \n",
      "A value is trying to be set on a copy of a slice from a DataFrame.\n",
      "Try using .loc[row_indexer,col_indexer] = value instead\n",
      "\n",
      "See the caveats in the documentation: https://pandas.pydata.org/pandas-docs/stable/user_guide/indexing.html#returning-a-view-versus-a-copy\n",
      "  \"\"\"Entry point for launching an IPython kernel.\n",
      "/Library/Frameworks/Python.framework/Versions/3.7/lib/python3.7/site-packages/pandas/core/indexing.py:1734: SettingWithCopyWarning: \n",
      "A value is trying to be set on a copy of a slice from a DataFrame.\n",
      "Try using .loc[row_indexer,col_indexer] = value instead\n",
      "\n",
      "See the caveats in the documentation: https://pandas.pydata.org/pandas-docs/stable/user_guide/indexing.html#returning-a-view-versus-a-copy\n",
      "  isetter(loc, value[:, i].tolist())\n"
     ]
    }
   ],
   "source": [
    "X_train[new_numerical_features] = min_max_scaler.fit_transform(X_train[new_numerical_features])"
   ]
  },
  {
   "cell_type": "code",
   "execution_count": 107,
   "metadata": {},
   "outputs": [
    {
     "name": "stderr",
     "output_type": "stream",
     "text": [
      "/Library/Frameworks/Python.framework/Versions/3.7/lib/python3.7/site-packages/ipykernel_launcher.py:1: SettingWithCopyWarning: \n",
      "A value is trying to be set on a copy of a slice from a DataFrame.\n",
      "Try using .loc[row_indexer,col_indexer] = value instead\n",
      "\n",
      "See the caveats in the documentation: https://pandas.pydata.org/pandas-docs/stable/user_guide/indexing.html#returning-a-view-versus-a-copy\n",
      "  \"\"\"Entry point for launching an IPython kernel.\n",
      "/Library/Frameworks/Python.framework/Versions/3.7/lib/python3.7/site-packages/pandas/core/indexing.py:1734: SettingWithCopyWarning: \n",
      "A value is trying to be set on a copy of a slice from a DataFrame.\n",
      "Try using .loc[row_indexer,col_indexer] = value instead\n",
      "\n",
      "See the caveats in the documentation: https://pandas.pydata.org/pandas-docs/stable/user_guide/indexing.html#returning-a-view-versus-a-copy\n",
      "  isetter(loc, value[:, i].tolist())\n"
     ]
    }
   ],
   "source": [
    "X_test[new_numerical_features] = min_max_scaler.transform(X_test[new_numerical_features])"
   ]
  },
  {
   "cell_type": "markdown",
   "metadata": {},
   "source": [
    "### Model"
   ]
  },
  {
   "cell_type": "code",
   "execution_count": 115,
   "metadata": {},
   "outputs": [],
   "source": [
    "min_max_random_forest_classifier = RandomForestClassifier(n_estimators=200, min_samples_split=400, random_state=0)"
   ]
  },
  {
   "cell_type": "code",
   "execution_count": 116,
   "metadata": {},
   "outputs": [
    {
     "data": {
      "text/plain": [
       "RandomForestClassifier(min_samples_split=400, n_estimators=200, random_state=0)"
      ]
     },
     "execution_count": 116,
     "metadata": {},
     "output_type": "execute_result"
    }
   ],
   "source": [
    "min_max_random_forest_classifier.fit(X_train, y_train)"
   ]
  },
  {
   "cell_type": "code",
   "execution_count": 117,
   "metadata": {},
   "outputs": [
    {
     "data": {
      "text/plain": [
       "0.7970696469174023"
      ]
     },
     "execution_count": 117,
     "metadata": {},
     "output_type": "execute_result"
    }
   ],
   "source": [
    "min_max_random_forest_classifier.score(X_train, y_train)"
   ]
  },
  {
   "cell_type": "code",
   "execution_count": 118,
   "metadata": {},
   "outputs": [
    {
     "data": {
      "text/plain": [
       "0.7944251661336781"
      ]
     },
     "execution_count": 118,
     "metadata": {},
     "output_type": "execute_result"
    }
   ],
   "source": [
    "min_max_random_forest_classifier.score(X_test, y_test)"
   ]
  },
  {
   "cell_type": "code",
   "execution_count": 69,
   "metadata": {},
   "outputs": [],
   "source": [
    "y_pred_train = min_max_random_forest_classifier.predict(X_train)"
   ]
  },
  {
   "cell_type": "code",
   "execution_count": 93,
   "metadata": {},
   "outputs": [],
   "source": [
    "y_pred_test = min_max_random_forest_classifier.predict(X_test)"
   ]
  },
  {
   "cell_type": "code",
   "execution_count": null,
   "metadata": {},
   "outputs": [],
   "source": []
  },
  {
   "cell_type": "code",
   "execution_count": null,
   "metadata": {},
   "outputs": [],
   "source": []
  },
  {
   "cell_type": "code",
   "execution_count": null,
   "metadata": {},
   "outputs": [],
   "source": []
  },
  {
   "cell_type": "code",
   "execution_count": 91,
   "metadata": {},
   "outputs": [],
   "source": [
    "def get_measurement_matrices(true_values, predicted_values, positive_level):\n",
    "    precision = precision_score(true_values, predicted_values, pos_label=positive_level)\n",
    "    recall = recall_score(true_values, predicted_values, pos_label=positive_level)\n",
    "    f1 = f1_score(true_values, predicted_values, pos_label=positive_level)\n",
    "    print(f\"Precision score: {precision} \\n\")\n",
    "    print(f\"Recall score: {recall} \\n\")\n",
    "    print(f\"F1 score: {f1} \\n\")"
   ]
  },
  {
   "cell_type": "code",
   "execution_count": 92,
   "metadata": {},
   "outputs": [
    {
     "name": "stdout",
     "output_type": "stream",
     "text": [
      "Precision score: 0.7798278235499578 \n",
      "\n",
      "Recall score: 0.8608528010886822 \n",
      "\n",
      "F1 score: 0.818339603928375 \n",
      "\n"
     ]
    }
   ],
   "source": [
    "get_measurement_matrices(y_train, y_pred_train, '2')"
   ]
  },
  {
   "cell_type": "code",
   "execution_count": 94,
   "metadata": {},
   "outputs": [
    {
     "name": "stdout",
     "output_type": "stream",
     "text": [
      "Precision score: 0.7771365422396856 \n",
      "\n",
      "Recall score: 0.8612446702349632 \n",
      "\n",
      "F1 score: 0.8170317139291707 \n",
      "\n"
     ]
    }
   ],
   "source": [
    "get_measurement_matrices(y_test, y_pred_test, '2')"
   ]
  },
  {
   "cell_type": "code",
   "execution_count": null,
   "metadata": {},
   "outputs": [],
   "source": []
  }
 ],
 "metadata": {
  "kernelspec": {
   "display_name": "Python 3",
   "language": "python",
   "name": "python3"
  },
  "language_info": {
   "codemirror_mode": {
    "name": "ipython",
    "version": 3
   },
   "file_extension": ".py",
   "mimetype": "text/x-python",
   "name": "python",
   "nbconvert_exporter": "python",
   "pygments_lexer": "ipython3",
   "version": "3.7.0"
  }
 },
 "nbformat": 4,
 "nbformat_minor": 2
}
